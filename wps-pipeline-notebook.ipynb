{
 "cells": [
  {
   "cell_type": "markdown",
   "metadata": {},
   "source": [
    "# wps-pipeline-notebook\n",
    "\n",
    "This is jupyter notebook for the example use of the wps services that are provided by the GFZ in the RIESGOS project.\n"
   ]
  },
  {
   "cell_type": "code",
   "execution_count": 1,
   "metadata": {},
   "outputs": [],
   "source": [
    "%load_ext autoreload\n",
    "%autoreload 2\n",
    "import owslib.wps as wps\n",
    "import requests\n",
    "import geopandas as gpd\n",
    "import matplotlib.pyplot as plt\n",
    "from scipy.stats import lognorm\n",
    "import numpy as np\n",
    "import lxml.etree as le\n",
    "from mpl_toolkits.basemap import Basemap\n",
    "import gfzwpsformatconversions\n",
    "#\n",
    "%matplotlib inline"
   ]
  },
  {
   "cell_type": "code",
   "execution_count": 2,
   "metadata": {},
   "outputs": [],
   "source": [
    "WPS_URL = 'http://rz-vm140.gfz-potsdam.de/wps/WebProcessingService'"
   ]
  },
  {
   "cell_type": "code",
   "execution_count": 3,
   "metadata": {},
   "outputs": [],
   "source": [
    "server = wps.WebProcessingService(WPS_URL)"
   ]
  },
  {
   "cell_type": "markdown",
   "metadata": {},
   "source": [
    "So lets see what processes are supported:"
   ]
  },
  {
   "cell_type": "code",
   "execution_count": 4,
   "metadata": {},
   "outputs": [
    {
     "data": {
      "text/plain": [
       "[<owslib.wps.Process org.n52.wps.server.algorithm.r.AnnotationValidation>,\n",
       " <owslib.wps.Process org.n52.gfz.riesgos.algorithm.impl.ShakemapTransformationProcess>,\n",
       " <owslib.wps.Process org.n52.gfz.riesgos.algorithm.impl.FlooddamageTiffDownloader>,\n",
       " <owslib.wps.Process org.n52.gfz.riesgos.algorithm.impl.NrmlCacheReader>,\n",
       " <owslib.wps.Process org.n52.gfz.riesgos.algorithm.impl.ShakemapCacheReader>,\n",
       " <owslib.wps.Process org.n52.gfz.riesgos.algorithm.impl.CachedFlooddamageTiffDownloader>,\n",
       " <owslib.wps.Process org.n52.gfz.riesgos.algorithm.impl.GeotiffBindingCacheReader>,\n",
       " <owslib.wps.Process org.n52.gfz.riesgos.algorithm.impl.CachedSystemReliabilityProcess>,\n",
       " <owslib.wps.Process org.n52.gfz.riesgos.algorithm.impl.SystemReliabilityProcess>,\n",
       " <owslib.wps.Process org.n52.gfz.riesgos.algorithm.impl.FlooddamageProcess>,\n",
       " <owslib.wps.Process org.n52.gfz.riesgos.algorithm.impl.ShakygroundProcess>,\n",
       " <owslib.wps.Process org.n52.gfz.riesgos.algorithm.impl.QuakeledgerProcess>,\n",
       " <owslib.wps.Process org.n52.gfz.riesgos.algorithm.impl.QuakeMLTransformationProcess>,\n",
       " <owslib.wps.Process org.n52.gfz.riesgos.algorithm.impl.QuakeMLCacheReader>,\n",
       " <owslib.wps.Process org.n52.gfz.riesgos.algorithm.impl.CachedAssetmasterProcess>,\n",
       " <owslib.wps.Process org.n52.gfz.riesgos.algorithm.impl.CachedModelpropProcess>,\n",
       " <owslib.wps.Process org.n52.gfz.riesgos.algorithm.impl.JSONCacheReader>,\n",
       " <owslib.wps.Process org.n52.gfz.riesgos.algorithm.impl.CachedShakygroundProcess>,\n",
       " <owslib.wps.Process org.n52.gfz.riesgos.algorithm.impl.CachedFlooddamageProcess>,\n",
       " <owslib.wps.Process org.n52.gfz.riesgos.algorithm.impl.GTVectorCacheReader>,\n",
       " <owslib.wps.Process org.n52.gfz.riesgos.algorithm.impl.AssetmasterProcess>,\n",
       " <owslib.wps.Process org.n52.gfz.riesgos.algorithm.impl.NrmlTransformationProcess>,\n",
       " <owslib.wps.Process org.n52.gfz.riesgos.algorithm.impl.CachedDeusProcess>,\n",
       " <owslib.wps.Process org.n52.gfz.riesgos.algorithm.impl.CachedQuakeledgerProcess>,\n",
       " <owslib.wps.Process org.n52.gfz.riesgos.algorithm.impl.ModelpropProcess>,\n",
       " <owslib.wps.Process org.n52.gfz.riesgos.algorithm.impl.DeusProcess>,\n",
       " <owslib.wps.Process org.n52.wps.server.algorithm.JTSConvexHullAlgorithm>,\n",
       " <owslib.wps.Process org.n52.wps.server.algorithm.test.DummyTestClass>,\n",
       " <owslib.wps.Process org.n52.wps.server.algorithm.test.EchoProcess>,\n",
       " <owslib.wps.Process org.n52.wps.server.algorithm.test.LongRunningDummyTestClass>,\n",
       " <owslib.wps.Process org.n52.wps.server.algorithm.test.MultiReferenceBinaryInputAlgorithm>,\n",
       " <owslib.wps.Process org.n52.wps.server.algorithm.test.MultiReferenceInputAlgorithm>,\n",
       " <owslib.wps.Process org.n52.wps.server.algorithm.test.MultipleComplexInAndOutputsDummyTestClass>]"
      ]
     },
     "execution_count": 4,
     "metadata": {},
     "output_type": "execute_result"
    }
   ],
   "source": [
    "server.processes"
   ]
  },
  {
   "cell_type": "markdown",
   "metadata": {},
   "source": [
    "Some of them are test processes, some others are included by default.\n",
    "We will focus on the following:\n",
    "\n",
    "| Process | Use case |\n",
    "|---------|----------|\n",
    "| Assetmaster | Extraction of the exposure model for a given location |\n",
    "| Modelprop | Extraction of the vulnerability model with the fragility functions |\n",
    "| Quakeledger | Earth quake catalog that we use to search for specific events |\n",
    "| Shakyground | Computation of the pga for a given event |\n",
    "| Deus | Update of the exposure model with damage states after using the intensities of a given event |\n",
    "\n",
    "The processes are following a pipeline.\n",
    "\n",
    "1. Assetmaster\n",
    "2. Modelprop\n",
    "3. Quakeledger\n",
    "4. Shakyground\n",
    "5. Deus\n",
    "\n",
    "The order for assetmaster, modelprop and quakeledger can change is not strongly needed. They can be used in any order. However we need to use quakeledger before shakyground and we have to use all other processes before deus (as it needs the exposure model, the fragility functions and the intenstities computed in shakyground)."
   ]
  },
  {
   "cell_type": "markdown",
   "metadata": {},
   "source": [
    "## Assetmaster\n",
    "We will start working with the assetmaster dataset."
   ]
  },
  {
   "cell_type": "code",
   "execution_count": 5,
   "metadata": {},
   "outputs": [],
   "source": [
    "ID_ASSETMASTER = 'org.n52.gfz.riesgos.algorithm.impl.AssetmasterProcess'"
   ]
  },
  {
   "cell_type": "code",
   "execution_count": 6,
   "metadata": {},
   "outputs": [
    {
     "name": "stdout",
     "output_type": "stream",
     "text": [
      "Successful: True\n"
     ]
    }
   ],
   "source": [
    "execution_assetmaster = server.execute(\n",
    "    identifier=ID_ASSETMASTER, \n",
    "    inputs=[\n",
    "        ('lonmin', '-71.8'),\n",
    "        ('lonmax', '-71.4'),\n",
    "        ('latmin', '-33.2'),\n",
    "        ('latmax', '-33.0'),\n",
    "        ('schema', 'SARA_v1.0'),\n",
    "        ('assettype', 'res'),\n",
    "        ('querymode', 'intersects')\n",
    "    ],\n",
    "    output=[('selectedRowsGeoJson', True)]\n",
    ")\n",
    "\n",
    "wps.monitorExecution(execution_assetmaster)\n",
    "print('Successful: {}'.format(execution_assetmaster.isSucceded()))"
   ]
  },
  {
   "cell_type": "code",
   "execution_count": 90,
   "metadata": {},
   "outputs": [],
   "source": [
    "assetmaster_output_reference = execution_assetmaster.processOutputs[0].reference\n",
    "assetmaster_output_pure = requests.get(assetmaster_output_reference).text\n",
    "assetmaster_output = gpd.read_file(assetmaster_output_reference)"
   ]
  },
  {
   "cell_type": "code",
   "execution_count": 8,
   "metadata": {},
   "outputs": [
    {
     "data": {
      "text/html": [
       "<div>\n",
       "<style scoped>\n",
       "    .dataframe tbody tr th:only-of-type {\n",
       "        vertical-align: middle;\n",
       "    }\n",
       "\n",
       "    .dataframe tbody tr th {\n",
       "        vertical-align: top;\n",
       "    }\n",
       "\n",
       "    .dataframe thead th {\n",
       "        text-align: right;\n",
       "    }\n",
       "</style>\n",
       "<table border=\"1\" class=\"dataframe\">\n",
       "  <thead>\n",
       "    <tr style=\"text-align: right;\">\n",
       "      <th></th>\n",
       "      <th>gid</th>\n",
       "      <th>name</th>\n",
       "      <th>expo</th>\n",
       "      <th>geometry</th>\n",
       "    </tr>\n",
       "  </thead>\n",
       "  <tbody>\n",
       "    <tr>\n",
       "      <td>0</td>\n",
       "      <td>CHL.16.7.3_1</td>\n",
       "      <td>Quilpue</td>\n",
       "      <td>{'Repl_cost_USD/bdg': {'1022': 288000.0, '1033...</td>\n",
       "      <td>(POLYGON ((-71.44433593749994 -33.082408905029...</td>\n",
       "    </tr>\n",
       "    <tr>\n",
       "      <td>1</td>\n",
       "      <td>CHL.16.7.5_1</td>\n",
       "      <td>Valparaiso</td>\n",
       "      <td>{'Repl_cost_USD/bdg': {'907': 35000.0, '918': ...</td>\n",
       "      <td>(POLYGON ((-71.68458557128906 -33.102466583251...</td>\n",
       "    </tr>\n",
       "    <tr>\n",
       "      <td>2</td>\n",
       "      <td>CHL.16.7.7_1</td>\n",
       "      <td>Vina del Mar</td>\n",
       "      <td>{'Repl_cost_USD/bdg': {'1091': 288000.0, '1090...</td>\n",
       "      <td>(POLYGON ((-71.55708312988281 -33.014583587646...</td>\n",
       "    </tr>\n",
       "  </tbody>\n",
       "</table>\n",
       "</div>"
      ],
      "text/plain": [
       "            gid          name  \\\n",
       "0  CHL.16.7.3_1       Quilpue   \n",
       "1  CHL.16.7.5_1    Valparaiso   \n",
       "2  CHL.16.7.7_1  Vina del Mar   \n",
       "\n",
       "                                                expo  \\\n",
       "0  {'Repl_cost_USD/bdg': {'1022': 288000.0, '1033...   \n",
       "1  {'Repl_cost_USD/bdg': {'907': 35000.0, '918': ...   \n",
       "2  {'Repl_cost_USD/bdg': {'1091': 288000.0, '1090...   \n",
       "\n",
       "                                            geometry  \n",
       "0  (POLYGON ((-71.44433593749994 -33.082408905029...  \n",
       "1  (POLYGON ((-71.68458557128906 -33.102466583251...  \n",
       "2  (POLYGON ((-71.55708312988281 -33.014583587646...  "
      ]
     },
     "execution_count": 8,
     "metadata": {},
     "output_type": "execute_result"
    }
   ],
   "source": [
    "assetmaster_output.head()"
   ]
  },
  {
   "cell_type": "markdown",
   "metadata": {},
   "source": [
    "### TODO\n",
    "Add a basemap for the cells."
   ]
  },
  {
   "cell_type": "code",
   "execution_count": 9,
   "metadata": {},
   "outputs": [
    {
     "data": {
      "text/plain": [
       "<matplotlib.axes._subplots.AxesSubplot at 0x7f1154111978>"
      ]
     },
     "execution_count": 9,
     "metadata": {},
     "output_type": "execute_result"
    },
    {
     "data": {
      "image/png": "[encoded data removed]",
      "text/plain": [
       "<Figure size 432x288 with 1 Axes>"
      ]
     },
     "metadata": {
      "needs_background": "light"
     },
     "output_type": "display_data"
    }
   ],
   "source": [
    "assetmaster_output.plot()"
   ]
  },
  {
   "cell_type": "markdown",
   "metadata": {},
   "source": [
    "## Modelprop\n",
    "Next is the modelprop process."
   ]
  },
  {
   "cell_type": "code",
   "execution_count": 10,
   "metadata": {},
   "outputs": [],
   "source": [
    "ID_MODELPROP = 'org.n52.gfz.riesgos.algorithm.impl.ModelpropProcess'"
   ]
  },
  {
   "cell_type": "code",
   "execution_count": 11,
   "metadata": {},
   "outputs": [
    {
     "name": "stdout",
     "output_type": "stream",
     "text": [
      "Successful: True\n"
     ]
    }
   ],
   "source": [
    "execution_modelprop = server.execute(\n",
    "    identifier=ID_MODELPROP, \n",
    "    inputs=[\n",
    "        ('schema', 'SARA_v1.0'),\n",
    "        ('assetcategory', 'buildings'),\n",
    "        ('losscategory', 'structural'),\n",
    "    ],\n",
    "    output=[('selectedRows', True)]\n",
    ")\n",
    "\n",
    "wps.monitorExecution(execution_modelprop)\n",
    "print('Successful: {}'.format(execution_modelprop.isSucceded()))"
   ]
  },
  {
   "cell_type": "code",
   "execution_count": 93,
   "metadata": {},
   "outputs": [],
   "source": [
    "modelprop_output_reference = execution_modelprop.processOutputs[0].reference\n",
    "modelprop_output_pure = requests.get(modelprop_output_reference).text\n",
    "modelprop_output = requests.get(modelprop_output_reference).json()"
   ]
  },
  {
   "cell_type": "code",
   "execution_count": 13,
   "metadata": {},
   "outputs": [
    {
     "data": {
      "text/plain": [
       "{'data': [{'D1_stddev': 0.8,\n",
       "   'D1_mean': 5.9,\n",
       "   'D2_stddev': 0.8,\n",
       "   'D4_mean': 8.2,\n",
       "   'D4_stddev': 0.8,\n",
       "   'D3_mean': 7.3,\n",
       "   'D3_stddev': 0.8,\n",
       "   'D5_stddev': 0.8,\n",
       "   'taxonomy': 'URM1',\n",
       "   'im_min': 1.0,\n",
       "   'imu': 'g',\n",
       "   'im_max': 12.0,\n",
       "   'D2_mean': 6.7,\n",
       "   'imt': 'pga',\n",
       "   'D5_mean': 9.2,\n",
       "   'id': 'unique_id'},\n",
       "  {'D1_stddev': 0.9,\n",
       "   'D1_mean': 6.2,\n",
       "   'D2_stddev': 0.9,\n",
       "   'D4_mean': 8.7,\n",
       "   'D4_stddev': 0.9,\n",
       "   'D3_mean': 7.8,\n",
       "   'D3_stddev': 0.9,\n",
       "   'D5_stddev': 0.9,\n",
       "   'taxonomy': 'URM2',\n",
       "   'im_min': 1.0,\n",
       "   'imu': 'g',\n",
       "   'im_max': 12.0,\n",
       "   'D2_mean': 7.0,\n",
       "   'imt': 'pga',\n",
       "   'D5_mean': 9.8,\n",
       "   'id': 'unique_id'},\n",
       "  {'D1_stddev': 1.0,\n",
       "   'D1_mean': 7.6,\n",
       "   'D2_stddev': 1.0,\n",
       "   'D4_mean': 10.5,\n",
       "   'D4_stddev': 1.0,\n",
       "   'D3_mean': 9.6,\n",
       "   'D3_stddev': 1.0,\n",
       "   'D5_stddev': 1.0,\n",
       "   'taxonomy': 'CM',\n",
       "   'im_min': 1.0,\n",
       "   'imu': 'g',\n",
       "   'im_max': 12.0,\n",
       "   'D2_mean': 8.7,\n",
       "   'imt': 'pga',\n",
       "   'D5_mean': 11.5,\n",
       "   'id': 'unique_id'},\n",
       "  {'D1_stddev': 1.0,\n",
       "   'D1_mean': 7.6,\n",
       "   'D2_stddev': 1.0,\n",
       "   'D4_mean': 10.5,\n",
       "   'D4_stddev': 1.0,\n",
       "   'D3_mean': 9.6,\n",
       "   'D3_stddev': 1.0,\n",
       "   'D5_stddev': 1.0,\n",
       "   'taxonomy': 'RM',\n",
       "   'im_min': 1.0,\n",
       "   'imu': 'g',\n",
       "   'im_max': 12.0,\n",
       "   'D2_mean': 8.7,\n",
       "   'imt': 'pga',\n",
       "   'D5_mean': 11.5,\n",
       "   'id': 'unique_id'},\n",
       "  {'D1_stddev': 1.0,\n",
       "   'D1_mean': 7.4,\n",
       "   'D2_stddev': 1.0,\n",
       "   'D4_mean': 10.2,\n",
       "   'D4_stddev': 1.0,\n",
       "   'D3_mean': 9.3,\n",
       "   'D3_stddev': 1.0,\n",
       "   'D5_stddev': 1.0,\n",
       "   'taxonomy': 'RC1',\n",
       "   'im_min': 1.0,\n",
       "   'imu': 'g',\n",
       "   'im_max': 12.0,\n",
       "   'D2_mean': 8.4,\n",
       "   'imt': 'pga',\n",
       "   'D5_mean': 11.3,\n",
       "   'id': 'unique_id'},\n",
       "  {'D1_stddev': 1.0,\n",
       "   'D1_mean': 7.7,\n",
       "   'D2_stddev': 1.0,\n",
       "   'D4_mean': 10.6,\n",
       "   'D4_stddev': 1.0,\n",
       "   'D3_mean': 9.7,\n",
       "   'D3_stddev': 1.0,\n",
       "   'D5_stddev': 1.0,\n",
       "   'taxonomy': 'RC2',\n",
       "   'im_min': 1.0,\n",
       "   'imu': 'g',\n",
       "   'im_max': 12.0,\n",
       "   'D2_mean': 8.7,\n",
       "   'imt': 'pga',\n",
       "   'D5_mean': 11.6,\n",
       "   'id': 'unique_id'},\n",
       "  {'D1_stddev': 0.9,\n",
       "   'D1_mean': 6.8,\n",
       "   'D2_stddev': 0.9,\n",
       "   'D4_mean': 9.5,\n",
       "   'D4_stddev': 0.9,\n",
       "   'D3_mean': 8.6,\n",
       "   'D3_stddev': 0.9,\n",
       "   'D5_stddev': 0.9,\n",
       "   'taxonomy': 'RC3',\n",
       "   'im_min': 1.0,\n",
       "   'imu': 'g',\n",
       "   'im_max': 12.0,\n",
       "   'D2_mean': 7.7,\n",
       "   'imt': 'pga',\n",
       "   'D5_mean': 10.6,\n",
       "   'id': 'unique_id'},\n",
       "  {'D1_stddev': 1.0,\n",
       "   'D1_mean': 8.0,\n",
       "   'D2_stddev': 1.0,\n",
       "   'D4_mean': 10.9,\n",
       "   'D4_stddev': 1.0,\n",
       "   'D3_mean': 10.0,\n",
       "   'D3_stddev': 1.0,\n",
       "   'D5_stddev': 1.0,\n",
       "   'taxonomy': 'RC4',\n",
       "   'im_min': 1.0,\n",
       "   'imu': 'g',\n",
       "   'im_max': 12.0,\n",
       "   'D2_mean': 9.1,\n",
       "   'imt': 'pga',\n",
       "   'D5_mean': 11.9,\n",
       "   'id': 'unique_id'},\n",
       "  {'D1_stddev': 1.0,\n",
       "   'D1_mean': 8.2,\n",
       "   'D2_stddev': 1.0,\n",
       "   'D4_mean': 11.1,\n",
       "   'D4_stddev': 1.0,\n",
       "   'D3_mean': 10.2,\n",
       "   'D3_stddev': 1.0,\n",
       "   'D5_stddev': 1.0,\n",
       "   'taxonomy': 'RCPC1',\n",
       "   'im_min': 1.0,\n",
       "   'imu': 'g',\n",
       "   'im_max': 12.0,\n",
       "   'D2_mean': 9.3,\n",
       "   'imt': 'pga',\n",
       "   'D5_mean': 12.1,\n",
       "   'id': 'unique_id'},\n",
       "  {'D1_stddev': 1.0,\n",
       "   'D1_mean': 8.5,\n",
       "   'D2_stddev': 1.0,\n",
       "   'D4_mean': 11.4,\n",
       "   'D4_stddev': 1.0,\n",
       "   'D3_mean': 10.5,\n",
       "   'D3_stddev': 1.0,\n",
       "   'D5_stddev': 1.0,\n",
       "   'taxonomy': 'RCPC464',\n",
       "   'im_min': 1.0,\n",
       "   'imu': 'g',\n",
       "   'im_max': 12.0,\n",
       "   'D2_mean': 9.6,\n",
       "   'imt': 'pga',\n",
       "   'D5_mean': 12.5,\n",
       "   'id': 'unique_id'},\n",
       "  {'D1_stddev': 0.9,\n",
       "   'D1_mean': 6.4,\n",
       "   'D2_stddev': 0.9,\n",
       "   'D4_mean': 9.0,\n",
       "   'D4_stddev': 0.9,\n",
       "   'D3_mean': 8.1,\n",
       "   'D3_stddev': 0.9,\n",
       "   'D5_stddev': 0.9,\n",
       "   'taxonomy': 'RCPC2',\n",
       "   'im_min': 1.0,\n",
       "   'imu': 'g',\n",
       "   'im_max': 12.0,\n",
       "   'D2_mean': 7.3,\n",
       "   'imt': 'pga',\n",
       "   'D5_mean': 10.1,\n",
       "   'id': 'unique_id'},\n",
       "  {'D1_stddev': 1.0,\n",
       "   'D1_mean': 7.6,\n",
       "   'D2_stddev': 1.0,\n",
       "   'D4_mean': 10.5,\n",
       "   'D4_stddev': 1.0,\n",
       "   'D3_mean': 9.6,\n",
       "   'D3_stddev': 1.0,\n",
       "   'D5_stddev': 1.0,\n",
       "   'taxonomy': 'RCPC111',\n",
       "   'im_min': 1.0,\n",
       "   'imu': 'g',\n",
       "   'im_max': 12.0,\n",
       "   'D2_mean': 8.7,\n",
       "   'imt': 'pga',\n",
       "   'D5_mean': 11.5,\n",
       "   'id': 'unique_id'},\n",
       "  {'D1_stddev': 0.7,\n",
       "   'D1_mean': 5.6,\n",
       "   'D2_stddev': 0.7,\n",
       "   'D4_mean': 7.5,\n",
       "   'D4_stddev': 0.7,\n",
       "   'D3_mean': 6.8,\n",
       "   'D3_stddev': 0.7,\n",
       "   'D5_stddev': 0.7,\n",
       "   'taxonomy': 'ADO',\n",
       "   'im_min': 1.0,\n",
       "   'imu': 'g',\n",
       "   'im_max': 12.0,\n",
       "   'D2_mean': 6.3,\n",
       "   'imt': 'pga',\n",
       "   'D5_mean': 8.4,\n",
       "   'id': 'unique_id'},\n",
       "  {'D1_stddev': 0.9,\n",
       "   'D1_mean': 6.7,\n",
       "   'D2_stddev': 0.9,\n",
       "   'D4_mean': 9.5,\n",
       "   'D4_stddev': 0.9,\n",
       "   'D3_mean': 8.6,\n",
       "   'D3_stddev': 0.9,\n",
       "   'D5_stddev': 0.9,\n",
       "   'taxonomy': 'WOOD1',\n",
       "   'im_min': 1.0,\n",
       "   'imu': 'g',\n",
       "   'im_max': 12.0,\n",
       "   'D2_mean': 7.7,\n",
       "   'imt': 'pga',\n",
       "   'D5_mean': 10.5,\n",
       "   'id': 'unique_id'},\n",
       "  {'D1_stddev': 0.9,\n",
       "   'D1_mean': 6.7,\n",
       "   'D2_stddev': 0.9,\n",
       "   'D4_mean': 9.5,\n",
       "   'D4_stddev': 0.9,\n",
       "   'D3_mean': 8.6,\n",
       "   'D3_stddev': 0.9,\n",
       "   'D5_stddev': 0.9,\n",
       "   'taxonomy': 'WOOD2',\n",
       "   'im_min': 1.0,\n",
       "   'imu': 'g',\n",
       "   'im_max': 12.0,\n",
       "   'D2_mean': 7.7,\n",
       "   'imt': 'pga',\n",
       "   'D5_mean': 10.5,\n",
       "   'id': 'unique_id'},\n",
       "  {'D1_stddev': 1.0,\n",
       "   'D1_mean': 9.3,\n",
       "   'D2_stddev': 1.0,\n",
       "   'D4_mean': 12.3,\n",
       "   'D4_stddev': 1.0,\n",
       "   'D3_mean': 11.3,\n",
       "   'D3_stddev': 1.0,\n",
       "   'D5_stddev': 1.0,\n",
       "   'taxonomy': 'STEEL',\n",
       "   'im_min': 1.0,\n",
       "   'imu': 'g',\n",
       "   'im_max': 12.0,\n",
       "   'D2_mean': 10.4,\n",
       "   'imt': 'pga',\n",
       "   'D5_mean': 13.4,\n",
       "   'id': 'unique_id'}],\n",
       " 'meta': {'shape': 'logncdf',\n",
       "  'lossCategory': 'structural',\n",
       "  'taxonomies': ['URM1',\n",
       "   'URM2',\n",
       "   'CM',\n",
       "   'RM',\n",
       "   'RC1',\n",
       "   'RC2',\n",
       "   'RC3',\n",
       "   'RC4',\n",
       "   'RCPC1',\n",
       "   'RCPC464',\n",
       "   'RCPC2',\n",
       "   'RCPC111',\n",
       "   'ADO',\n",
       "   'WOOD1',\n",
       "   'WOOD2',\n",
       "   'STEEL'],\n",
       "  'no_damage': 'D0',\n",
       "  'assetCategory': 'buildings',\n",
       "  'format': 'continuous',\n",
       "  'description': 'GEM-SARA Model, project RIESGOS',\n",
       "  'id': 'SARA_v1.0',\n",
       "  'damage_states': 'HAZUS',\n",
       "  'limit_states': ['D1', 'D2', 'D3', 'D4', 'D5'],\n",
       "  'taxonomy_source': 'GEM'}}"
      ]
     },
     "execution_count": 13,
     "metadata": {},
     "output_type": "execute_result"
    }
   ],
   "source": [
    "modelprop_output"
   ]
  },
  {
   "cell_type": "code",
   "execution_count": 14,
   "metadata": {},
   "outputs": [],
   "source": [
    "urm1_functions = [x for x in modelprop_output['data'] if x['taxonomy'] == 'URM1'][0]"
   ]
  },
  {
   "cell_type": "code",
   "execution_count": 15,
   "metadata": {},
   "outputs": [],
   "source": [
    "cdf_urm1_d4 = lognorm(scale=np.exp(urm1_functions['D4_mean']), s=urm1_functions['D4_stddev']).cdf"
   ]
  },
  {
   "cell_type": "code",
   "execution_count": 16,
   "metadata": {},
   "outputs": [
    {
     "data": {
      "text/plain": [
       "[<matplotlib.lines.Line2D at 0x7f1144598550>]"
      ]
     },
     "execution_count": 16,
     "metadata": {},
     "output_type": "execute_result"
    },
    {
     "data": {
      "image/png": "[encoded data removed]",
      "text/plain": [
       "<Figure size 432x288 with 1 Axes>"
      ]
     },
     "metadata": {
      "needs_background": "light"
     },
     "output_type": "display_data"
    }
   ],
   "source": [
    "xs = np.linspace(0, 100, 1000)\n",
    "ys = cdf_urm1_d4(xs)\n",
    "plt.plot(xs, ys)"
   ]
  },
  {
   "cell_type": "markdown",
   "metadata": {},
   "source": [
    "## Quakeledger\n",
    "Now we are interested in the events in our region."
   ]
  },
  {
   "cell_type": "code",
   "execution_count": 17,
   "metadata": {},
   "outputs": [],
   "source": [
    "ID_QUAKELEDGER = 'org.n52.gfz.riesgos.algorithm.impl.QuakeledgerProcess'"
   ]
  },
  {
   "cell_type": "code",
   "execution_count": 18,
   "metadata": {},
   "outputs": [
    {
     "name": "stdout",
     "output_type": "stream",
     "text": [
      "Successful: True\n"
     ]
    }
   ],
   "source": [
    "execution_quakeledger = server.execute(\n",
    "    identifier=ID_QUAKELEDGER, \n",
    "    inputs=[\n",
    "        ('input-boundingbox', wps.BoundingBoxDataInput([-70, 288 - 360, -10, 292 - 360], 'EPSG:4326')),\n",
    "        ('mmin', '6.6'),\n",
    "        ('mmax', '9'),\n",
    "        ('zmin', '5'),\n",
    "        ('zmax', '140'),\n",
    "        ('p', '140'),\n",
    "        ('etype', 'expert'),\n",
    "        ('tlon', '-71.5730623712764'),\n",
    "        ('tlat', '-33.1299174879672'),\n",
    "    ],\n",
    "    output=[('selectedRows', True)]\n",
    ")\n",
    "\n",
    "wps.monitorExecution(execution_quakeledger)\n",
    "print('Successful: {}'.format(execution_quakeledger.isSucceded()))"
   ]
  },
  {
   "cell_type": "code",
   "execution_count": 19,
   "metadata": {},
   "outputs": [],
   "source": [
    "quakeledger_output_reference = execution_quakeledger.processOutputs[0].reference\n",
    "quakeledger_output = le.fromstring(requests.get(quakeledger_output_reference).content)"
   ]
  },
  {
   "cell_type": "code",
   "execution_count": 20,
   "metadata": {},
   "outputs": [
    {
     "data": {
      "text/plain": [
       "<Element {http://quakeml.org/xmlns/bed/1.2}eventParameters at 0x7f11541752c8>"
      ]
     },
     "execution_count": 20,
     "metadata": {},
     "output_type": "execute_result"
    }
   ],
   "source": [
    "quakeledger_output"
   ]
  },
  {
   "cell_type": "code",
   "execution_count": 21,
   "metadata": {},
   "outputs": [],
   "source": [
    "quakeledger_output_df = gfzwpsformatconversions.QuakeML.from_xml(quakeledger_output).to_geodataframe()"
   ]
  },
  {
   "cell_type": "code",
   "execution_count": 22,
   "metadata": {},
   "outputs": [
    {
     "data": {
      "text/html": [
       "<div>\n",
       "<style scoped>\n",
       "    .dataframe tbody tr th:only-of-type {\n",
       "        vertical-align: middle;\n",
       "    }\n",
       "\n",
       "    .dataframe tbody tr th {\n",
       "        vertical-align: top;\n",
       "    }\n",
       "\n",
       "    .dataframe thead th {\n",
       "        text-align: right;\n",
       "    }\n",
       "</style>\n",
       "<table border=\"1\" class=\"dataframe\">\n",
       "  <thead>\n",
       "    <tr style=\"text-align: right;\">\n",
       "      <th></th>\n",
       "      <th>eventID</th>\n",
       "      <th>agency</th>\n",
       "      <th>Identifier</th>\n",
       "      <th>year</th>\n",
       "      <th>month</th>\n",
       "      <th>day</th>\n",
       "      <th>hour</th>\n",
       "      <th>minute</th>\n",
       "      <th>second</th>\n",
       "      <th>timeUncertainty</th>\n",
       "      <th>...</th>\n",
       "      <th>magnitudeUncertainty</th>\n",
       "      <th>rake</th>\n",
       "      <th>rakeUncertainty</th>\n",
       "      <th>dip</th>\n",
       "      <th>dipUncertainty</th>\n",
       "      <th>strike</th>\n",
       "      <th>strikeUncertainty</th>\n",
       "      <th>type</th>\n",
       "      <th>probability</th>\n",
       "      <th>geometry</th>\n",
       "    </tr>\n",
       "  </thead>\n",
       "  <tbody>\n",
       "    <tr>\n",
       "      <td>0</td>\n",
       "      <td>quakeml:quakeledger/CHOA_122</td>\n",
       "      <td>GFZ</td>\n",
       "      <td>NaN</td>\n",
       "      <td>2018</td>\n",
       "      <td>1</td>\n",
       "      <td>1</td>\n",
       "      <td>0</td>\n",
       "      <td>0</td>\n",
       "      <td>0</td>\n",
       "      <td>NaN</td>\n",
       "      <td>...</td>\n",
       "      <td>NaN</td>\n",
       "      <td>90</td>\n",
       "      <td>NaN</td>\n",
       "      <td>18</td>\n",
       "      <td>NaN</td>\n",
       "      <td>9</td>\n",
       "      <td>NaN</td>\n",
       "      <td>expert</td>\n",
       "      <td>NaN</td>\n",
       "      <td>POINT (-71.2736 -28.6384)</td>\n",
       "    </tr>\n",
       "    <tr>\n",
       "      <td>1</td>\n",
       "      <td>quakeml:quakeledger/CHOA_123</td>\n",
       "      <td>GFZ</td>\n",
       "      <td>NaN</td>\n",
       "      <td>2018</td>\n",
       "      <td>1</td>\n",
       "      <td>1</td>\n",
       "      <td>0</td>\n",
       "      <td>0</td>\n",
       "      <td>0</td>\n",
       "      <td>NaN</td>\n",
       "      <td>...</td>\n",
       "      <td>NaN</td>\n",
       "      <td>90</td>\n",
       "      <td>NaN</td>\n",
       "      <td>18</td>\n",
       "      <td>NaN</td>\n",
       "      <td>9</td>\n",
       "      <td>NaN</td>\n",
       "      <td>expert</td>\n",
       "      <td>NaN</td>\n",
       "      <td>POINT (-71.3583 -29.082)</td>\n",
       "    </tr>\n",
       "    <tr>\n",
       "      <td>2</td>\n",
       "      <td>quakeml:quakeledger/CHOA_124</td>\n",
       "      <td>GFZ</td>\n",
       "      <td>NaN</td>\n",
       "      <td>2018</td>\n",
       "      <td>1</td>\n",
       "      <td>1</td>\n",
       "      <td>0</td>\n",
       "      <td>0</td>\n",
       "      <td>0</td>\n",
       "      <td>NaN</td>\n",
       "      <td>...</td>\n",
       "      <td>NaN</td>\n",
       "      <td>90</td>\n",
       "      <td>NaN</td>\n",
       "      <td>18</td>\n",
       "      <td>NaN</td>\n",
       "      <td>9</td>\n",
       "      <td>NaN</td>\n",
       "      <td>expert</td>\n",
       "      <td>NaN</td>\n",
       "      <td>POINT (-71.4439 -29.5256)</td>\n",
       "    </tr>\n",
       "    <tr>\n",
       "      <td>3</td>\n",
       "      <td>quakeml:quakeledger/CHOA_125</td>\n",
       "      <td>GFZ</td>\n",
       "      <td>NaN</td>\n",
       "      <td>2018</td>\n",
       "      <td>1</td>\n",
       "      <td>1</td>\n",
       "      <td>0</td>\n",
       "      <td>0</td>\n",
       "      <td>0</td>\n",
       "      <td>NaN</td>\n",
       "      <td>...</td>\n",
       "      <td>NaN</td>\n",
       "      <td>90</td>\n",
       "      <td>NaN</td>\n",
       "      <td>18</td>\n",
       "      <td>NaN</td>\n",
       "      <td>9</td>\n",
       "      <td>NaN</td>\n",
       "      <td>expert</td>\n",
       "      <td>NaN</td>\n",
       "      <td>POINT (-71.5303 -29.9692)</td>\n",
       "    </tr>\n",
       "    <tr>\n",
       "      <td>4</td>\n",
       "      <td>quakeml:quakeledger/CHOA_126</td>\n",
       "      <td>GFZ</td>\n",
       "      <td>NaN</td>\n",
       "      <td>2018</td>\n",
       "      <td>1</td>\n",
       "      <td>1</td>\n",
       "      <td>0</td>\n",
       "      <td>0</td>\n",
       "      <td>0</td>\n",
       "      <td>NaN</td>\n",
       "      <td>...</td>\n",
       "      <td>NaN</td>\n",
       "      <td>90</td>\n",
       "      <td>NaN</td>\n",
       "      <td>18</td>\n",
       "      <td>NaN</td>\n",
       "      <td>9</td>\n",
       "      <td>NaN</td>\n",
       "      <td>expert</td>\n",
       "      <td>NaN</td>\n",
       "      <td>POINT (-71.6176 -30.4128)</td>\n",
       "    </tr>\n",
       "  </tbody>\n",
       "</table>\n",
       "<p>5 rows × 31 columns</p>\n",
       "</div>"
      ],
      "text/plain": [
       "                        eventID agency Identifier  year month day hour minute  \\\n",
       "0  quakeml:quakeledger/CHOA_122    GFZ        NaN  2018     1   1    0      0   \n",
       "1  quakeml:quakeledger/CHOA_123    GFZ        NaN  2018     1   1    0      0   \n",
       "2  quakeml:quakeledger/CHOA_124    GFZ        NaN  2018     1   1    0      0   \n",
       "3  quakeml:quakeledger/CHOA_125    GFZ        NaN  2018     1   1    0      0   \n",
       "4  quakeml:quakeledger/CHOA_126    GFZ        NaN  2018     1   1    0      0   \n",
       "\n",
       "  second timeUncertainty  ... magnitudeUncertainty rake rakeUncertainty dip  \\\n",
       "0      0             NaN  ...                  NaN   90             NaN  18   \n",
       "1      0             NaN  ...                  NaN   90             NaN  18   \n",
       "2      0             NaN  ...                  NaN   90             NaN  18   \n",
       "3      0             NaN  ...                  NaN   90             NaN  18   \n",
       "4      0             NaN  ...                  NaN   90             NaN  18   \n",
       "\n",
       "  dipUncertainty strike strikeUncertainty    type probability  \\\n",
       "0            NaN      9               NaN  expert         NaN   \n",
       "1            NaN      9               NaN  expert         NaN   \n",
       "2            NaN      9               NaN  expert         NaN   \n",
       "3            NaN      9               NaN  expert         NaN   \n",
       "4            NaN      9               NaN  expert         NaN   \n",
       "\n",
       "                    geometry  \n",
       "0  POINT (-71.2736 -28.6384)  \n",
       "1   POINT (-71.3583 -29.082)  \n",
       "2  POINT (-71.4439 -29.5256)  \n",
       "3  POINT (-71.5303 -29.9692)  \n",
       "4  POINT (-71.6176 -30.4128)  \n",
       "\n",
       "[5 rows x 31 columns]"
      ]
     },
     "execution_count": 22,
     "metadata": {},
     "output_type": "execute_result"
    }
   ],
   "source": [
    "quakeledger_output_df.head()"
   ]
  },
  {
   "cell_type": "code",
   "execution_count": 23,
   "metadata": {},
   "outputs": [],
   "source": [
    "def get_bbox(geom_column):\n",
    "    return [\n",
    "        geom_column.x.min() - 1,\n",
    "        geom_column.x.max() + 1,\n",
    "        geom_column.y.min() - 1,\n",
    "        geom_column.y.max() - 1\n",
    "    ]\n",
    "quakes_region = get_bbox(quakeledger_output_df.geometry)"
   ]
  },
  {
   "cell_type": "code",
   "execution_count": 24,
   "metadata": {},
   "outputs": [
    {
     "data": {
      "text/plain": [
       "[-72.9802, -70.2736, -32.7691, -29.6384]"
      ]
     },
     "execution_count": 24,
     "metadata": {},
     "output_type": "execute_result"
    }
   ],
   "source": [
    "quakes_region"
   ]
  },
  {
   "cell_type": "code",
   "execution_count": 25,
   "metadata": {},
   "outputs": [],
   "source": [
    "def plot_quakedger(df):\n",
    "    geom_column = df.geometry\n",
    "    bbox = [\n",
    "        geom_column.x.min() - 1,\n",
    "        geom_column.x.max() + 1,\n",
    "        geom_column.y.min() - 1,\n",
    "        geom_column.y.max() - 1\n",
    "    ]\n",
    "    fig = plt.figure(figsize=(6, 12))\n",
    "    mp = Basemap(projection='cyl', resolution='h', \n",
    "                 lat_0=bbox[2], lon_0=bbox[0],\n",
    "                 llcrnrlon=bbox[0],\n",
    "                 llcrnrlat=bbox[2],\n",
    "                 urcrnrlon=bbox[1],\n",
    "                 urcrnrlat=bbox[3]\n",
    "    )\n",
    "    mp.arcgisimage(service='World_Shaded_Relief', xpixels = 2000, verbose=False)\n",
    "    mp.drawcoastlines()\n",
    "    mp.drawcountries()\n",
    "    mp.scatter(df.geometry.x, df.geometry.y,\n",
    "           marker='o',color='m',s = (0.4*df.magnitude.values.astype(float))**4)\n",
    "    plt.show()"
   ]
  },
  {
   "cell_type": "code",
   "execution_count": 26,
   "metadata": {},
   "outputs": [
    {
     "data": {
      "image/png": "[encoded data removed]",
      "text/plain": [
       "<Figure size 432x864 with 1 Axes>"
      ]
     },
     "metadata": {},
     "output_type": "display_data"
    }
   ],
   "source": [
    "plot_quakedger(quakeledger_output_df)"
   ]
  },
  {
   "cell_type": "markdown",
   "metadata": {},
   "source": [
    "## Chose an event\n",
    "Now we want to have chose one of those events and prepare it as input for our shakyground service."
   ]
  },
  {
   "cell_type": "code",
   "execution_count": 27,
   "metadata": {},
   "outputs": [],
   "source": [
    "chosen_event = quakeledger_output_df[0:1]"
   ]
  },
  {
   "cell_type": "code",
   "execution_count": 28,
   "metadata": {},
   "outputs": [
    {
     "data": {
      "text/html": [
       "<div>\n",
       "<style scoped>\n",
       "    .dataframe tbody tr th:only-of-type {\n",
       "        vertical-align: middle;\n",
       "    }\n",
       "\n",
       "    .dataframe tbody tr th {\n",
       "        vertical-align: top;\n",
       "    }\n",
       "\n",
       "    .dataframe thead th {\n",
       "        text-align: right;\n",
       "    }\n",
       "</style>\n",
       "<table border=\"1\" class=\"dataframe\">\n",
       "  <thead>\n",
       "    <tr style=\"text-align: right;\">\n",
       "      <th></th>\n",
       "      <th>eventID</th>\n",
       "      <th>agency</th>\n",
       "      <th>Identifier</th>\n",
       "      <th>year</th>\n",
       "      <th>month</th>\n",
       "      <th>day</th>\n",
       "      <th>hour</th>\n",
       "      <th>minute</th>\n",
       "      <th>second</th>\n",
       "      <th>timeUncertainty</th>\n",
       "      <th>...</th>\n",
       "      <th>magnitudeUncertainty</th>\n",
       "      <th>rake</th>\n",
       "      <th>rakeUncertainty</th>\n",
       "      <th>dip</th>\n",
       "      <th>dipUncertainty</th>\n",
       "      <th>strike</th>\n",
       "      <th>strikeUncertainty</th>\n",
       "      <th>type</th>\n",
       "      <th>probability</th>\n",
       "      <th>geometry</th>\n",
       "    </tr>\n",
       "  </thead>\n",
       "  <tbody>\n",
       "    <tr>\n",
       "      <td>0</td>\n",
       "      <td>quakeml:quakeledger/CHOA_122</td>\n",
       "      <td>GFZ</td>\n",
       "      <td>NaN</td>\n",
       "      <td>2018</td>\n",
       "      <td>1</td>\n",
       "      <td>1</td>\n",
       "      <td>0</td>\n",
       "      <td>0</td>\n",
       "      <td>0</td>\n",
       "      <td>NaN</td>\n",
       "      <td>...</td>\n",
       "      <td>NaN</td>\n",
       "      <td>90</td>\n",
       "      <td>NaN</td>\n",
       "      <td>18</td>\n",
       "      <td>NaN</td>\n",
       "      <td>9</td>\n",
       "      <td>NaN</td>\n",
       "      <td>expert</td>\n",
       "      <td>NaN</td>\n",
       "      <td>POINT (-71.2736 -28.6384)</td>\n",
       "    </tr>\n",
       "  </tbody>\n",
       "</table>\n",
       "<p>1 rows × 31 columns</p>\n",
       "</div>"
      ],
      "text/plain": [
       "                        eventID agency Identifier  year month day hour minute  \\\n",
       "0  quakeml:quakeledger/CHOA_122    GFZ        NaN  2018     1   1    0      0   \n",
       "\n",
       "  second timeUncertainty  ... magnitudeUncertainty rake rakeUncertainty dip  \\\n",
       "0      0             NaN  ...                  NaN   90             NaN  18   \n",
       "\n",
       "  dipUncertainty strike strikeUncertainty    type probability  \\\n",
       "0            NaN      9               NaN  expert         NaN   \n",
       "\n",
       "                    geometry  \n",
       "0  POINT (-71.2736 -28.6384)  \n",
       "\n",
       "[1 rows x 31 columns]"
      ]
     },
     "execution_count": 28,
     "metadata": {},
     "output_type": "execute_result"
    }
   ],
   "source": [
    "chosen_event"
   ]
  },
  {
   "cell_type": "code",
   "execution_count": 29,
   "metadata": {},
   "outputs": [],
   "source": [
    "chosen_event_as_quakeml = gfzwpsformatconversions.QuakeMLDataframe.from_dataframe(chosen_event).to_xml_string()"
   ]
  },
  {
   "cell_type": "code",
   "execution_count": 30,
   "metadata": {},
   "outputs": [
    {
     "data": {
      "text/plain": [
       "'<ns0:eventParameters xmlns:ns0=\"http://quakeml.org/xmlns/bed/1.2\" publicID=\"quakeml:quakeledger/0\">\\n  <ns0:event publicID=\"quakeml:quakeledger/CHOA_122\">\\n    <ns0:preferredOriginID>quakeml:quakeledger/CHOA_122</ns0:preferredOriginID>\\n    <ns0:preferredMagnitudeID>quakeml:quakeledger/CHOA_122</ns0:preferredMagnitudeID>\\n    <ns0:type>earthquake</ns0:type>\\n    <ns0:description>\\n      <ns0:text>expert</ns0:text>\\n    </ns0:description>\\n    <ns0:origin publicID=\"quakeml:quakeledger/CHOA_122\">\\n      <ns0:time>\\n        <ns0:value>2018-01-01T00:00:00.000000Z</ns0:value>\\n        <ns0:uncertainty>NaN</ns0:uncertainty>\\n      </ns0:time>\\n      <ns0:latitude>\\n        <ns0:value>-28.6384</ns0:value>\\n        <ns0:uncertainty>NaN</ns0:uncertainty>\\n      </ns0:latitude>\\n      <ns0:longitude>\\n        <ns0:value>-71.2736</ns0:value>\\n        <ns0:uncertainty>NaN</ns0:uncertainty>\\n      </ns0:longitude>\\n      <ns0:depth>\\n        <ns0:value>43.0</ns0:value>\\n        <ns0:uncertainty>NaN</ns0:uncertainty>\\n      </ns0:depth>\\n      <ns0:creationInfo>\\n        <ns0:author>GFZ</ns0:author>\\n      </ns0:creationInfo>\\n      <ns0:originUncertainty>\\n        <ns0:horizontalUncertainty>NaN</ns0:horizontalUncertainty>\\n        <ns0:minHorizontalUncertainty>NaN</ns0:minHorizontalUncertainty>\\n        <ns0:maxHorizontalUncertainty>NaN</ns0:maxHorizontalUncertainty>\\n        <ns0:azimuthMaxHorizontalUncertainty>NaN</ns0:azimuthMaxHorizontalUncertainty>\\n      </ns0:originUncertainty>\\n    </ns0:origin>\\n    <ns0:magnitude publicID=\"quakeml:quakeledger/CHOA_122\">\\n      <ns0:mag>\\n        <ns0:value>9.0</ns0:value>\\n        <ns0:uncertainty>NaN</ns0:uncertainty>\\n      </ns0:mag>\\n      <ns0:type>MW</ns0:type>\\n      <ns0:creationInfo>\\n        <ns0:author>GFZ</ns0:author>\\n      </ns0:creationInfo>\\n    </ns0:magnitude>\\n    <ns0:focalMechanism publicID=\"quakeml:quakeledger/CHOA_122\">\\n      <ns0:nodalPlanes preferredPlane=\"1\">\\n        <ns0:nodalPlane1>\\n          <ns0:strike>\\n            <ns0:value>9.0</ns0:value>\\n            <ns0:uncertainty>NaN</ns0:uncertainty>\\n          </ns0:strike>\\n          <ns0:dip>\\n            <ns0:value>18.0</ns0:value>\\n            <ns0:uncertainty>NaN</ns0:uncertainty>\\n          </ns0:dip>\\n          <ns0:rake>\\n            <ns0:value>90.0</ns0:value>\\n            <ns0:uncertainty>NaN</ns0:uncertainty>\\n          </ns0:rake>\\n        </ns0:nodalPlane1>\\n      </ns0:nodalPlanes>\\n    </ns0:focalMechanism>\\n  </ns0:event>\\n</ns0:eventParameters>\\n'"
      ]
     },
     "execution_count": 30,
     "metadata": {},
     "output_type": "execute_result"
    }
   ],
   "source": [
    "chosen_event_as_quakeml"
   ]
  },
  {
   "cell_type": "markdown",
   "metadata": {},
   "source": [
    "# Shakyground\n",
    "Now lets use the chosen event to get the data of the shakemap."
   ]
  },
  {
   "cell_type": "code",
   "execution_count": 31,
   "metadata": {},
   "outputs": [],
   "source": [
    "ID_SHAKYGROUND = 'org.n52.gfz.riesgos.algorithm.impl.ShakygroundProcess'"
   ]
  },
  {
   "cell_type": "code",
   "execution_count": 32,
   "metadata": {},
   "outputs": [
    {
     "name": "stdout",
     "output_type": "stream",
     "text": [
      "Successful: True\n"
     ]
    }
   ],
   "source": [
    "execution_shakyground = server.execute(\n",
    "    identifier=ID_SHAKYGROUND, \n",
    "    inputs=[\n",
    "        ('quakeMLFile', wps.ComplexDataInput(chosen_event_as_quakeml)),\n",
    "    ],\n",
    "    output=[('shakeMapFile', True)]\n",
    ")\n",
    "\n",
    "wps.monitorExecution(execution_shakyground)\n",
    "print('Successful: {}'.format(execution_shakyground.isSucceded()))"
   ]
  },
  {
   "cell_type": "code",
   "execution_count": 33,
   "metadata": {},
   "outputs": [],
   "source": [
    "shakyground_output_reference = execution_shakyground.processOutputs[0].reference\n",
    "shakyground_output = le.fromstring(requests.get(shakyground_output_reference).content)"
   ]
  },
  {
   "cell_type": "markdown",
   "metadata": {},
   "source": [
    "Now we want to visualize the shakemap."
   ]
  },
  {
   "cell_type": "code",
   "execution_count": 34,
   "metadata": {},
   "outputs": [],
   "source": [
    "shakyground_output_intensity_df = gfzwpsformatconversions.Shakemap.from_xml(shakyground_output).to_intensity_geodataframe()"
   ]
  },
  {
   "cell_type": "code",
   "execution_count": 35,
   "metadata": {},
   "outputs": [
    {
     "data": {
      "text/html": [
       "<div>\n",
       "<style scoped>\n",
       "    .dataframe tbody tr th:only-of-type {\n",
       "        vertical-align: middle;\n",
       "    }\n",
       "\n",
       "    .dataframe tbody tr th {\n",
       "        vertical-align: top;\n",
       "    }\n",
       "\n",
       "    .dataframe thead th {\n",
       "        text-align: right;\n",
       "    }\n",
       "</style>\n",
       "<table border=\"1\" class=\"dataframe\">\n",
       "  <thead>\n",
       "    <tr style=\"text-align: right;\">\n",
       "      <th></th>\n",
       "      <th>LON</th>\n",
       "      <th>LAT</th>\n",
       "      <th>value_PGA</th>\n",
       "      <th>value_STDPGA</th>\n",
       "      <th>unit_PGA</th>\n",
       "      <th>unit_STDPGA</th>\n",
       "      <th>geometry</th>\n",
       "    </tr>\n",
       "  </thead>\n",
       "  <tbody>\n",
       "    <tr>\n",
       "      <td>0</td>\n",
       "      <td>-75.175000</td>\n",
       "      <td>-24.183333</td>\n",
       "      <td>0.035394</td>\n",
       "      <td>0.736259</td>\n",
       "      <td>g</td>\n",
       "      <td>g</td>\n",
       "      <td>POINT (-75.175 -24.1833333333)</td>\n",
       "    </tr>\n",
       "    <tr>\n",
       "      <td>1</td>\n",
       "      <td>-75.166667</td>\n",
       "      <td>-24.183333</td>\n",
       "      <td>0.035379</td>\n",
       "      <td>0.736259</td>\n",
       "      <td>g</td>\n",
       "      <td>g</td>\n",
       "      <td>POINT (-75.1666666667 -24.1833333333)</td>\n",
       "    </tr>\n",
       "    <tr>\n",
       "      <td>2</td>\n",
       "      <td>-75.158333</td>\n",
       "      <td>-24.183333</td>\n",
       "      <td>0.035365</td>\n",
       "      <td>0.736259</td>\n",
       "      <td>g</td>\n",
       "      <td>g</td>\n",
       "      <td>POINT (-75.15833333329999 -24.1833333333)</td>\n",
       "    </tr>\n",
       "    <tr>\n",
       "      <td>3</td>\n",
       "      <td>-75.150000</td>\n",
       "      <td>-24.183333</td>\n",
       "      <td>0.035350</td>\n",
       "      <td>0.736259</td>\n",
       "      <td>g</td>\n",
       "      <td>g</td>\n",
       "      <td>POINT (-75.15000000000001 -24.1833333333)</td>\n",
       "    </tr>\n",
       "    <tr>\n",
       "      <td>4</td>\n",
       "      <td>-75.141667</td>\n",
       "      <td>-24.183333</td>\n",
       "      <td>0.035335</td>\n",
       "      <td>0.736259</td>\n",
       "      <td>g</td>\n",
       "      <td>g</td>\n",
       "      <td>POINT (-75.1416666667 -24.1833333333)</td>\n",
       "    </tr>\n",
       "  </tbody>\n",
       "</table>\n",
       "</div>"
      ],
      "text/plain": [
       "         LON        LAT  value_PGA  value_STDPGA unit_PGA unit_STDPGA  \\\n",
       "0 -75.175000 -24.183333   0.035394      0.736259        g           g   \n",
       "1 -75.166667 -24.183333   0.035379      0.736259        g           g   \n",
       "2 -75.158333 -24.183333   0.035365      0.736259        g           g   \n",
       "3 -75.150000 -24.183333   0.035350      0.736259        g           g   \n",
       "4 -75.141667 -24.183333   0.035335      0.736259        g           g   \n",
       "\n",
       "                                    geometry  \n",
       "0             POINT (-75.175 -24.1833333333)  \n",
       "1      POINT (-75.1666666667 -24.1833333333)  \n",
       "2  POINT (-75.15833333329999 -24.1833333333)  \n",
       "3  POINT (-75.15000000000001 -24.1833333333)  \n",
       "4      POINT (-75.1416666667 -24.1833333333)  "
      ]
     },
     "execution_count": 35,
     "metadata": {},
     "output_type": "execute_result"
    }
   ],
   "source": [
    "shakyground_output_intensity_df.head()"
   ]
  },
  {
   "cell_type": "code",
   "execution_count": 36,
   "metadata": {},
   "outputs": [],
   "source": [
    "raster = gfzwpsformatconversions.Shakemap.dataframe2raster(shakyground_output_intensity_df, 'LON', 'LAT', 'value_PGA')"
   ]
  },
  {
   "cell_type": "code",
   "execution_count": 37,
   "metadata": {},
   "outputs": [],
   "source": [
    "event_dataframe = gfzwpsformatconversions.Shakemap.from_xml(shakyground_output).to_event_geodataframe_or_none()"
   ]
  },
  {
   "cell_type": "code",
   "execution_count": 79,
   "metadata": {},
   "outputs": [],
   "source": [
    "def plot_shakemap(raster, events, additional_spacing=1):\n",
    "    cmap = plt.get_cmap('YlOrBr')\n",
    "    z = raster.raster.data\n",
    "    y_count, x_count = z.shape\n",
    "    x_s = np.linspace(raster.xmin, raster.xmax, x_count)\n",
    "    # the image coordinates for ys go down\n",
    "    y_s = np.linspace(raster.ymax, raster.ymin, y_count)\n",
    "    \n",
    "    # dont plot some values\n",
    "    # to make the image not that full\n",
    "    zz = np.ma.masked_array(z, z < 0.1)\n",
    "    \n",
    "    bbox = raster.bounds\n",
    "    fig = plt.figure(figsize=(6, 12))\n",
    "    mp = Basemap(projection='cyl', resolution='h', \n",
    "                 #lat_0=bbox[2], \n",
    "                 #lon_0=bbox[0],\n",
    "                 llcrnrlon=bbox[0] - additional_spacing,\n",
    "                 llcrnrlat=bbox[1] - additional_spacing,\n",
    "                 urcrnrlon=bbox[2] + additional_spacing,\n",
    "                 urcrnrlat=bbox[3] + additional_spacing\n",
    "    )\n",
    "    mp.arcgisimage(service='World_Shaded_Relief', xpixels = 2000, verbose=False)\n",
    "    mp.drawcoastlines()\n",
    "    mp.drawcountries()\n",
    "    cs = mp.pcolormesh(x_s, y_s, zz, zorder=98, alpha=0.3, cmap=cmap)\n",
    "    mp.colorbar(cs, extend='min')\n",
    "    \n",
    "    mp.scatter(events.geometry.x, events.geometry.y,\n",
    "               zorder=99,\n",
    "               marker='*',color='red',s = 30**2)\n",
    "    plt.show()"
   ]
  },
  {
   "cell_type": "code",
   "execution_count": 80,
   "metadata": {},
   "outputs": [
    {
     "data": {
      "image/png": "[encoded data removed]",
      "text/plain": [
       "<Figure size 432x864 with 2 Axes>"
      ]
     },
     "metadata": {
      "needs_background": "light"
     },
     "output_type": "display_data"
    }
   ],
   "source": [
    "plot_shakemap(raster, event_dataframe)"
   ]
  },
  {
   "cell_type": "markdown",
   "metadata": {},
   "source": [
    "# Deus\n",
    "At the moment the last service to use here."
   ]
  },
  {
   "cell_type": "code",
   "execution_count": 86,
   "metadata": {},
   "outputs": [],
   "source": [
    "ID_DEUS = 'org.n52.gfz.riesgos.algorithm.impl.DeusProcess'"
   ]
  },
  {
   "cell_type": "code",
   "execution_count": 96,
   "metadata": {},
   "outputs": [
    {
     "name": "stdout",
     "output_type": "stream",
     "text": [
      " owslib.wps.WPSException : {'code': 'NoApplicableCode', 'locator': None, 'text': 'org.n52.wps.server.ExceptionReport: There is an error on stderr'}\n",
      "Successful: False\n"
     ]
    }
   ],
   "source": [
    "execution_deus = server.execute(\n",
    "    identifier=ID_DEUS, \n",
    "    inputs=[\n",
    "        ('schema', 'SARA.0'),\n",
    "        ('loss', 'testinputs/loss_sara.json'),\n",
    "        ('exposure', wps.ComplexDataInput(assetmaster_output_pure)),\n",
    "        ('fragility', wps.ComplexDataInput(modelprop_output_pure)),\n",
    "        ('intensity', wps.ComplexDataInput(le.tostring(shakyground_output)))\n",
    "    ],\n",
    "    output=[\n",
    "        ('updated_exposure', True),\n",
    "        ('transition', True),\n",
    "        ('damage', True),\n",
    "    ]\n",
    ")\n",
    "\n",
    "wps.monitorExecution(execution_deus)\n",
    "print('Successful: {}'.format(execution_deus.isSucceded()))"
   ]
  },
  {
   "cell_type": "markdown",
   "metadata": {},
   "source": [
    "# Failing is ok\n",
    "If this fails, we just see that the assetmaster and modelprop outputs are not conform to each other.\n",
    "As this is the current return value of the services it is ok, that the deus service fails.\n",
    "We will now chose some data that we can use without generating an error."
   ]
  },
  {
   "cell_type": "code",
   "execution_count": 109,
   "metadata": {},
   "outputs": [
    {
     "name": "stdout",
     "output_type": "stream",
     "text": [
      "Successful: True\n"
     ]
    }
   ],
   "source": [
    "def read_string_from_file(file):\n",
    "    with open(file, 'rt') as input_file:\n",
    "        return input_file.read()\n",
    "\n",
    "execution_deus = server.execute(\n",
    "    identifier=ID_DEUS, \n",
    "    inputs=[\n",
    "        ('schema', 'SARA.0'),\n",
    "        ('loss', 'testinputs/loss_sara.json'),\n",
    "        ('exposure', wps.ComplexDataInput(read_string_from_file('testinputs/exposure_sara.json'))),\n",
    "        ('fragility', wps.ComplexDataInput(read_string_from_file('testinputs/fragility_sara.json'))),\n",
    "        \n",
    "        #('intensity', wps.ComplexDataInput(le.tostring(shakyground_output, encoding='unicode')))\n",
    "        # this here doesn't work either at the moment\n",
    "        # we have have a look for what happens here\n",
    "        \n",
    "        ('intensity', wps.ComplexDataInput(read_string_from_file('testinputs/shakemap.xml')))\n",
    "        \n",
    "    ],\n",
    "    output=[\n",
    "        ('updated_exposure', True),\n",
    "        ('transition', True),\n",
    "        ('damage', True),\n",
    "    ]\n",
    ")\n",
    "\n",
    "wps.monitorExecution(execution_deus)\n",
    "print('Successful: {}'.format(execution_deus.isSucceded()))"
   ]
  },
  {
   "cell_type": "code",
   "execution_count": 113,
   "metadata": {},
   "outputs": [],
   "source": [
    "updated_exposure_model_reference = execution_deus.processOutputs[0].reference\n",
    "updated_exposure_model_df = gpd.read_file(updated_exposure_model_reference, )"
   ]
  },
  {
   "cell_type": "code",
   "execution_count": 114,
   "metadata": {},
   "outputs": [
    {
     "data": {
      "text/html": [
       "<div>\n",
       "<style scoped>\n",
       "    .dataframe tbody tr th:only-of-type {\n",
       "        vertical-align: middle;\n",
       "    }\n",
       "\n",
       "    .dataframe tbody tr th {\n",
       "        vertical-align: top;\n",
       "    }\n",
       "\n",
       "    .dataframe thead th {\n",
       "        text-align: right;\n",
       "    }\n",
       "</style>\n",
       "<table border=\"1\" class=\"dataframe\">\n",
       "  <thead>\n",
       "    <tr style=\"text-align: right;\">\n",
       "      <th></th>\n",
       "      <th>id</th>\n",
       "      <th>MR_H1_3_DUC_D0</th>\n",
       "      <th>gc_id</th>\n",
       "      <th>MUR_ADO_H1_2_D2</th>\n",
       "      <th>MUR_STRUB_H1_2_D1</th>\n",
       "      <th>MUR_ADO_H1_2_D1</th>\n",
       "      <th>MUR_STRUB_H1_2_D2</th>\n",
       "      <th>MUR_ADO_H1_2_D4</th>\n",
       "      <th>MUR_ADO_H1_2_D3</th>\n",
       "      <th>MUR_STRUB_H1_2_D0</th>\n",
       "      <th>...</th>\n",
       "      <th>MUR_H1_D3</th>\n",
       "      <th>MUR_H1_D4</th>\n",
       "      <th>ER_ETR_H1_2_D0</th>\n",
       "      <th>ER_ETR_H1_2_D2</th>\n",
       "      <th>ER_ETR_H1_2_D1</th>\n",
       "      <th>MCF_H1_3_DUC_D0</th>\n",
       "      <th>CR_LFLS_H1_3_DUC_D0</th>\n",
       "      <th>CR_LFLS_H1_3_DUC_D1</th>\n",
       "      <th>CR_LFLS_H1_3_DUC_D2</th>\n",
       "      <th>geometry</th>\n",
       "    </tr>\n",
       "  </thead>\n",
       "  <tbody>\n",
       "    <tr>\n",
       "      <td>0</td>\n",
       "      <td>0</td>\n",
       "      <td>0.0</td>\n",
       "      <td>CHL.16.7.1_1</td>\n",
       "      <td>0.0</td>\n",
       "      <td>0.0</td>\n",
       "      <td>0.0</td>\n",
       "      <td>0.0</td>\n",
       "      <td>0.0</td>\n",
       "      <td>0.0</td>\n",
       "      <td>0.0</td>\n",
       "      <td>...</td>\n",
       "      <td>0.0</td>\n",
       "      <td>0.0</td>\n",
       "      <td>0.0</td>\n",
       "      <td>0.0</td>\n",
       "      <td>0.0</td>\n",
       "      <td>0.0</td>\n",
       "      <td>0.0</td>\n",
       "      <td>0.0</td>\n",
       "      <td>0.0</td>\n",
       "      <td>(POLYGON ((-71.63468933105463 -33.368640899658...</td>\n",
       "    </tr>\n",
       "    <tr>\n",
       "      <td>1</td>\n",
       "      <td>1</td>\n",
       "      <td>862.1</td>\n",
       "      <td>CHL.16.7.3_1</td>\n",
       "      <td>0.0</td>\n",
       "      <td>0.0</td>\n",
       "      <td>0.0</td>\n",
       "      <td>0.0</td>\n",
       "      <td>0.0</td>\n",
       "      <td>0.0</td>\n",
       "      <td>35.2</td>\n",
       "      <td>...</td>\n",
       "      <td>0.0</td>\n",
       "      <td>0.0</td>\n",
       "      <td>301.9</td>\n",
       "      <td>0.0</td>\n",
       "      <td>0.0</td>\n",
       "      <td>91.5</td>\n",
       "      <td>30.9</td>\n",
       "      <td>0.0</td>\n",
       "      <td>0.0</td>\n",
       "      <td>(POLYGON ((-71.44433593749994 -33.082408905029...</td>\n",
       "    </tr>\n",
       "    <tr>\n",
       "      <td>2</td>\n",
       "      <td>2</td>\n",
       "      <td>931.1</td>\n",
       "      <td>CHL.16.7.5_1</td>\n",
       "      <td>0.0</td>\n",
       "      <td>0.0</td>\n",
       "      <td>0.0</td>\n",
       "      <td>0.0</td>\n",
       "      <td>0.0</td>\n",
       "      <td>0.0</td>\n",
       "      <td>138.4</td>\n",
       "      <td>...</td>\n",
       "      <td>0.0</td>\n",
       "      <td>0.0</td>\n",
       "      <td>415.8</td>\n",
       "      <td>0.0</td>\n",
       "      <td>0.0</td>\n",
       "      <td>203.4</td>\n",
       "      <td>267.5</td>\n",
       "      <td>0.0</td>\n",
       "      <td>0.0</td>\n",
       "      <td>(POLYGON ((-71.68458557128906 -33.102466583251...</td>\n",
       "    </tr>\n",
       "    <tr>\n",
       "      <td>3</td>\n",
       "      <td>3</td>\n",
       "      <td>1343.2</td>\n",
       "      <td>CHL.16.7.7_1</td>\n",
       "      <td>0.0</td>\n",
       "      <td>0.0</td>\n",
       "      <td>0.0</td>\n",
       "      <td>0.0</td>\n",
       "      <td>0.0</td>\n",
       "      <td>0.0</td>\n",
       "      <td>364.0</td>\n",
       "      <td>...</td>\n",
       "      <td>0.0</td>\n",
       "      <td>0.0</td>\n",
       "      <td>508.4</td>\n",
       "      <td>0.0</td>\n",
       "      <td>0.0</td>\n",
       "      <td>184.8</td>\n",
       "      <td>58.1</td>\n",
       "      <td>0.0</td>\n",
       "      <td>0.0</td>\n",
       "      <td>(POLYGON ((-71.55708312988281 -33.014583587646...</td>\n",
       "    </tr>\n",
       "  </tbody>\n",
       "</table>\n",
       "<p>4 rows × 92 columns</p>\n",
       "</div>"
      ],
      "text/plain": [
       "  id  MR_H1_3_DUC_D0         gc_id  MUR_ADO_H1_2_D2  MUR_STRUB_H1_2_D1  \\\n",
       "0  0             0.0  CHL.16.7.1_1              0.0                0.0   \n",
       "1  1           862.1  CHL.16.7.3_1              0.0                0.0   \n",
       "2  2           931.1  CHL.16.7.5_1              0.0                0.0   \n",
       "3  3          1343.2  CHL.16.7.7_1              0.0                0.0   \n",
       "\n",
       "   MUR_ADO_H1_2_D1  MUR_STRUB_H1_2_D2  MUR_ADO_H1_2_D4  MUR_ADO_H1_2_D3  \\\n",
       "0              0.0                0.0              0.0              0.0   \n",
       "1              0.0                0.0              0.0              0.0   \n",
       "2              0.0                0.0              0.0              0.0   \n",
       "3              0.0                0.0              0.0              0.0   \n",
       "\n",
       "   MUR_STRUB_H1_2_D0  ...  MUR_H1_D3  MUR_H1_D4  ER_ETR_H1_2_D0  \\\n",
       "0                0.0  ...        0.0        0.0             0.0   \n",
       "1               35.2  ...        0.0        0.0           301.9   \n",
       "2              138.4  ...        0.0        0.0           415.8   \n",
       "3              364.0  ...        0.0        0.0           508.4   \n",
       "\n",
       "   ER_ETR_H1_2_D2  ER_ETR_H1_2_D1  MCF_H1_3_DUC_D0  CR_LFLS_H1_3_DUC_D0  \\\n",
       "0             0.0             0.0              0.0                  0.0   \n",
       "1             0.0             0.0             91.5                 30.9   \n",
       "2             0.0             0.0            203.4                267.5   \n",
       "3             0.0             0.0            184.8                 58.1   \n",
       "\n",
       "   CR_LFLS_H1_3_DUC_D1  CR_LFLS_H1_3_DUC_D2  \\\n",
       "0                  0.0                  0.0   \n",
       "1                  0.0                  0.0   \n",
       "2                  0.0                  0.0   \n",
       "3                  0.0                  0.0   \n",
       "\n",
       "                                            geometry  \n",
       "0  (POLYGON ((-71.63468933105463 -33.368640899658...  \n",
       "1  (POLYGON ((-71.44433593749994 -33.082408905029...  \n",
       "2  (POLYGON ((-71.68458557128906 -33.102466583251...  \n",
       "3  (POLYGON ((-71.55708312988281 -33.014583587646...  \n",
       "\n",
       "[4 rows x 92 columns]"
      ]
     },
     "execution_count": 114,
     "metadata": {},
     "output_type": "execute_result"
    }
   ],
   "source": [
    "updated_exposure_model_df"
   ]
  },
  {
   "cell_type": "markdown",
   "metadata": {},
   "source": [
    "Here all of the buildings are still in the damage state 0."
   ]
  },
  {
   "cell_type": "markdown",
   "metadata": {},
   "source": [
    "# Next steps\n",
    "The next steps are more support for the assetmaster, modelprop and deus as they need to work togehter.\n",
    "Also we may can provide a wps client library on top of the code here to access the services mentioned here and as a skeleton on how to write clients for other services as well."
   ]
  }
 ],
 "metadata": {
  "kernelspec": {
   "display_name": "wps-pipeline-notebook",
   "language": "python",
   "name": "wps-pipeline-notebook"
  },
  "language_info": {
   "codemirror_mode": {
    "name": "ipython",
    "version": 3
   },
   "file_extension": ".py",
   "mimetype": "text/x-python",
   "name": "python",
   "nbconvert_exporter": "python",
   "pygments_lexer": "ipython3",
   "version": "3.6.8"
  }
 },
 "nbformat": 4,
 "nbformat_minor": 2
}
