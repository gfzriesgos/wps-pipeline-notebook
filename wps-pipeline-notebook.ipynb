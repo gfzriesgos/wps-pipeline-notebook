{
 "cells": [
  {
   "cell_type": "markdown",
   "metadata": {},
   "source": [
    "# wps-pipeline-notebook\n",
    "\n",
    "This is jupyter notebook for the example use of the wps services that are provided by the GFZ in the RIESGOS project.\n"
   ]
  },
  {
   "cell_type": "code",
   "execution_count": 1,
   "metadata": {
    "scrolled": true
   },
   "outputs": [
    {
     "name": "stderr",
     "output_type": "stream",
     "text": [
      "/home/mruester/git/RIESGOS/gfzriesgos/wps-pipeline-notebook/wps-pipeline-notebook/lib/python3.8/site-packages/geopandas/_compat.py:84: UserWarning: The Shapely GEOS version (3.8.0-CAPI-1.13.1 ) is incompatible with the GEOS version PyGEOS was compiled with (3.8.1-CAPI-1.13.3). Conversions between both will be slow.\n",
      "  warnings.warn(\n"
     ]
    }
   ],
   "source": [
    "%load_ext autoreload\n",
    "%autoreload 2\n",
    "import owslib.wps as wps\n",
    "import requests\n",
    "import pandas as pd\n",
    "import geopandas as gpd\n",
    "import matplotlib.pyplot as plt\n",
    "from scipy.stats import lognorm\n",
    "import numpy as np\n",
    "import lxml.etree as le\n",
    "from mpl_toolkits.basemap import Basemap\n",
    "import gfzwpsformatconversions\n",
    "import ipyleaflet as ipyl\n",
    "import ipywidgets as ipyw\n",
    "#\n",
    "%matplotlib inline"
   ]
  },
  {
   "cell_type": "code",
   "execution_count": 2,
   "metadata": {},
   "outputs": [],
   "source": [
    "WPS_URL = 'http://rz-vm140.gfz-potsdam.de/wps/WebProcessingService'"
   ]
  },
  {
   "cell_type": "code",
   "execution_count": 3,
   "metadata": {},
   "outputs": [],
   "source": [
    "server = wps.WebProcessingService(WPS_URL)"
   ]
  },
  {
   "cell_type": "markdown",
   "metadata": {},
   "source": [
    "So lets see what processes are supported:"
   ]
  },
  {
   "cell_type": "code",
   "execution_count": 4,
   "metadata": {},
   "outputs": [
    {
     "data": {
      "text/plain": [
       "[<owslib.wps.Process org.n52.wps.server.algorithm.r.AnnotationValidation>,\n",
       " <owslib.wps.Process org.n52.gfz.riesgos.algorithm.impl.ShakemapTransformationProcess>,\n",
       " <owslib.wps.Process org.n52.gfz.riesgos.algorithm.impl.ShakygroundProcess>,\n",
       " <owslib.wps.Process org.n52.gfz.riesgos.algorithm.impl.QuakeledgerProcess>,\n",
       " <owslib.wps.Process org.n52.gfz.riesgos.algorithm.impl.CachedVolcanusProcess>,\n",
       " <owslib.wps.Process org.n52.gfz.riesgos.algorithm.impl.QuakeMLTransformationProcess>,\n",
       " <owslib.wps.Process org.n52.gfz.riesgos.algorithm.impl.ShakemapCacheReader>,\n",
       " <owslib.wps.Process org.n52.gfz.riesgos.algorithm.impl.QuakeMLCacheReader>,\n",
       " <owslib.wps.Process org.n52.gfz.riesgos.algorithm.impl.VolcanusProcess>,\n",
       " <owslib.wps.Process org.n52.gfz.riesgos.algorithm.impl.CachedAssetmasterProcess>,\n",
       " <owslib.wps.Process org.n52.gfz.riesgos.algorithm.impl.CachedOldAssetmasterProcess>,\n",
       " <owslib.wps.Process org.n52.gfz.riesgos.algorithm.impl.CachedModelpropProcess>,\n",
       " <owslib.wps.Process org.n52.gfz.riesgos.algorithm.impl.JSONCacheReader>,\n",
       " <owslib.wps.Process org.n52.gfz.riesgos.algorithm.impl.CachedShakygroundProcess>,\n",
       " <owslib.wps.Process org.n52.gfz.riesgos.algorithm.impl.CachedFlooddamageProcess>,\n",
       " <owslib.wps.Process org.n52.gfz.riesgos.algorithm.impl.OldAssetmasterProcess>,\n",
       " <owslib.wps.Process org.n52.gfz.riesgos.algorithm.impl.FlooddamageProcess>,\n",
       " <owslib.wps.Process org.n52.gfz.riesgos.algorithm.impl.AssetmasterProcess>,\n",
       " <owslib.wps.Process org.n52.gfz.riesgos.algorithm.impl.NrmlTransformationProcess>,\n",
       " <owslib.wps.Process org.n52.gfz.riesgos.algorithm.impl.CachedDeusProcess>,\n",
       " <owslib.wps.Process org.n52.gfz.riesgos.algorithm.impl.CachedQuakeledgerProcess>,\n",
       " <owslib.wps.Process org.n52.gfz.riesgos.algorithm.impl.ModelpropProcess>,\n",
       " <owslib.wps.Process org.n52.gfz.riesgos.algorithm.impl.DeusProcess>]"
      ]
     },
     "execution_count": 4,
     "metadata": {},
     "output_type": "execute_result"
    }
   ],
   "source": [
    "server.processes"
   ]
  },
  {
   "cell_type": "markdown",
   "metadata": {},
   "source": [
    "Some of them are test processes, some others are included by default.\n",
    "We will focus on the following:\n",
    "\n",
    "| Process | Use case |\n",
    "|---------|----------|\n",
    "| Assetmaster | Extraction of the exposure model for a given location |\n",
    "| Modelprop | Extraction of the vulnerability model with the fragility functions |\n",
    "| Quakeledger | Earth quake catalog that we use to search for specific events |\n",
    "| Shakyground | Computation of the pga for a given event |\n",
    "| Deus | Update of the exposure model with damage states after using the intensities of a given event |\n",
    "\n",
    "The processes are following a pipeline.\n",
    "\n",
    "1. Assetmaster\n",
    "2. Modelprop\n",
    "3. Quakeledger\n",
    "4. Shakyground\n",
    "5. Deus\n",
    "\n",
    "The order for assetmaster, modelprop and quakeledger can change is not strongly needed. They can be used in any order. However we need to use quakeledger before shakyground and we have to use all other processes before deus (as it needs the exposure model, the fragility functions and the intenstities computed in shakyground)."
   ]
  },
  {
   "cell_type": "markdown",
   "metadata": {},
   "source": [
    "## Assetmaster\n",
    "We will start working with the assetmaster dataset."
   ]
  },
  {
   "cell_type": "code",
   "execution_count": 5,
   "metadata": {},
   "outputs": [],
   "source": [
    "ID_ASSETMASTER = 'org.n52.gfz.riesgos.algorithm.impl.AssetmasterProcess'"
   ]
  },
  {
   "cell_type": "code",
   "execution_count": 6,
   "metadata": {},
   "outputs": [
    {
     "name": "stdout",
     "output_type": "stream",
     "text": [
      "Successful: True\n"
     ]
    }
   ],
   "source": [
    "execution_assetmaster = server.execute(\n",
    "    identifier=ID_ASSETMASTER, \n",
    "    inputs=[\n",
    "        ('lonmin', '-71.8'),\n",
    "        ('lonmax', '-71.4'),\n",
    "        ('latmin', '-33.2'),\n",
    "        ('latmax', '-33.0'),\n",
    "        ('schema', 'SARA_v1.0'),\n",
    "        ('assettype', 'res'),\n",
    "        ('querymode', 'intersects')\n",
    "    ],\n",
    "    output=[('selectedRowsGeoJson', True)]\n",
    ")\n",
    "\n",
    "wps.monitorExecution(execution_assetmaster)\n",
    "print('Successful: {}'.format(execution_assetmaster.isSucceded()))"
   ]
  },
  {
   "cell_type": "code",
   "execution_count": 7,
   "metadata": {},
   "outputs": [],
   "source": [
    "assetmaster_output_reference = execution_assetmaster.processOutputs[0].reference\n",
    "assetmaster_output_pure = requests.get(assetmaster_output_reference).text\n",
    "assetmaster_output = gpd.read_file(assetmaster_output_reference)"
   ]
  },
  {
   "cell_type": "code",
   "execution_count": 8,
   "metadata": {},
   "outputs": [
    {
     "data": {
      "text/html": [
       "<div>\n",
       "<style scoped>\n",
       "    .dataframe tbody tr th:only-of-type {\n",
       "        vertical-align: middle;\n",
       "    }\n",
       "\n",
       "    .dataframe tbody tr th {\n",
       "        vertical-align: top;\n",
       "    }\n",
       "\n",
       "    .dataframe thead th {\n",
       "        text-align: right;\n",
       "    }\n",
       "</style>\n",
       "<table border=\"1\" class=\"dataframe\">\n",
       "  <thead>\n",
       "    <tr style=\"text-align: right;\">\n",
       "      <th></th>\n",
       "      <th>gid</th>\n",
       "      <th>name</th>\n",
       "      <th>expo</th>\n",
       "      <th>geometry</th>\n",
       "    </tr>\n",
       "  </thead>\n",
       "  <tbody>\n",
       "    <tr>\n",
       "      <th>0</th>\n",
       "      <td>100</td>\n",
       "      <td>None</td>\n",
       "      <td>{'Taxonomy': {'11': 'MUR-ADO-H1-2', '12': 'MUR...</td>\n",
       "      <td>MULTIPOLYGON (((-71.48738 -32.99569, -71.48628...</td>\n",
       "    </tr>\n",
       "    <tr>\n",
       "      <th>1</th>\n",
       "      <td>1002</td>\n",
       "      <td>None</td>\n",
       "      <td>{'Taxonomy': {'11': 'MUR-ADO-H1-2', '12': 'MUR...</td>\n",
       "      <td>MULTIPOLYGON (((-71.49692 -33.19048, -71.52102...</td>\n",
       "    </tr>\n",
       "    <tr>\n",
       "      <th>2</th>\n",
       "      <td>1003</td>\n",
       "      <td>None</td>\n",
       "      <td>{'Taxonomy': {'11': 'MUR-ADO-H1-2', '12': 'MUR...</td>\n",
       "      <td>MULTIPOLYGON (((-71.52951 -32.99708, -71.52926...</td>\n",
       "    </tr>\n",
       "    <tr>\n",
       "      <th>3</th>\n",
       "      <td>1004</td>\n",
       "      <td>None</td>\n",
       "      <td>{'Taxonomy': {'11': 'MUR-ADO-H1-2', '12': 'MUR...</td>\n",
       "      <td>MULTIPOLYGON (((-71.52717 -33.01308, -71.52598...</td>\n",
       "    </tr>\n",
       "    <tr>\n",
       "      <th>4</th>\n",
       "      <td>1005</td>\n",
       "      <td>None</td>\n",
       "      <td>{'Taxonomy': {'11': 'MUR-ADO-H1-2', '12': 'MUR...</td>\n",
       "      <td>MULTIPOLYGON (((-71.54862 -33.08271, -71.54903...</td>\n",
       "    </tr>\n",
       "  </tbody>\n",
       "</table>\n",
       "</div>"
      ],
      "text/plain": [
       "    gid  name                                               expo  \\\n",
       "0   100  None  {'Taxonomy': {'11': 'MUR-ADO-H1-2', '12': 'MUR...   \n",
       "1  1002  None  {'Taxonomy': {'11': 'MUR-ADO-H1-2', '12': 'MUR...   \n",
       "2  1003  None  {'Taxonomy': {'11': 'MUR-ADO-H1-2', '12': 'MUR...   \n",
       "3  1004  None  {'Taxonomy': {'11': 'MUR-ADO-H1-2', '12': 'MUR...   \n",
       "4  1005  None  {'Taxonomy': {'11': 'MUR-ADO-H1-2', '12': 'MUR...   \n",
       "\n",
       "                                            geometry  \n",
       "0  MULTIPOLYGON (((-71.48738 -32.99569, -71.48628...  \n",
       "1  MULTIPOLYGON (((-71.49692 -33.19048, -71.52102...  \n",
       "2  MULTIPOLYGON (((-71.52951 -32.99708, -71.52926...  \n",
       "3  MULTIPOLYGON (((-71.52717 -33.01308, -71.52598...  \n",
       "4  MULTIPOLYGON (((-71.54862 -33.08271, -71.54903...  "
      ]
     },
     "execution_count": 8,
     "metadata": {},
     "output_type": "execute_result"
    }
   ],
   "source": [
    "assetmaster_output.head()"
   ]
  },
  {
   "cell_type": "code",
   "execution_count": 9,
   "metadata": {},
   "outputs": [
    {
     "data": {
      "text/html": [
       "<div>\n",
       "<style scoped>\n",
       "    .dataframe tbody tr th:only-of-type {\n",
       "        vertical-align: middle;\n",
       "    }\n",
       "\n",
       "    .dataframe tbody tr th {\n",
       "        vertical-align: top;\n",
       "    }\n",
       "\n",
       "    .dataframe thead th {\n",
       "        text-align: right;\n",
       "    }\n",
       "</style>\n",
       "<table border=\"1\" class=\"dataframe\">\n",
       "  <thead>\n",
       "    <tr style=\"text-align: right;\">\n",
       "      <th></th>\n",
       "      <th>Taxonomy</th>\n",
       "      <th>Buildings</th>\n",
       "      <th>Population</th>\n",
       "      <th>Repl-cost-USD-bdg</th>\n",
       "      <th>id</th>\n",
       "      <th>Damage</th>\n",
       "      <th>Dwellings</th>\n",
       "    </tr>\n",
       "  </thead>\n",
       "  <tbody>\n",
       "    <tr>\n",
       "      <th>11</th>\n",
       "      <td>MUR-ADO-H1-2</td>\n",
       "      <td>12</td>\n",
       "      <td>37</td>\n",
       "      <td>945000</td>\n",
       "      <td>100</td>\n",
       "      <td>D0</td>\n",
       "      <td>11</td>\n",
       "    </tr>\n",
       "    <tr>\n",
       "      <th>12</th>\n",
       "      <td>MUR-H1-3</td>\n",
       "      <td>23</td>\n",
       "      <td>71</td>\n",
       "      <td>1207500</td>\n",
       "      <td>100</td>\n",
       "      <td>D0</td>\n",
       "      <td>22</td>\n",
       "    </tr>\n",
       "    <tr>\n",
       "      <th>13</th>\n",
       "      <td>MUR-STDRE-H1-2</td>\n",
       "      <td>2</td>\n",
       "      <td>6</td>\n",
       "      <td>87500</td>\n",
       "      <td>100</td>\n",
       "      <td>D0</td>\n",
       "      <td>2</td>\n",
       "    </tr>\n",
       "    <tr>\n",
       "      <th>14</th>\n",
       "      <td>W-WLI-H1-3</td>\n",
       "      <td>75</td>\n",
       "      <td>228</td>\n",
       "      <td>13500000</td>\n",
       "      <td>100</td>\n",
       "      <td>D0</td>\n",
       "      <td>70</td>\n",
       "    </tr>\n",
       "    <tr>\n",
       "      <th>15</th>\n",
       "      <td>W-WS-H1-2</td>\n",
       "      <td>37</td>\n",
       "      <td>114</td>\n",
       "      <td>2913750</td>\n",
       "      <td>100</td>\n",
       "      <td>D0</td>\n",
       "      <td>35</td>\n",
       "    </tr>\n",
       "    <tr>\n",
       "      <th>0</th>\n",
       "      <td>CR-LWAL-DNO-H1-3</td>\n",
       "      <td>12</td>\n",
       "      <td>36</td>\n",
       "      <td>3456000</td>\n",
       "      <td>100</td>\n",
       "      <td>D0</td>\n",
       "      <td>11</td>\n",
       "    </tr>\n",
       "    <tr>\n",
       "      <th>1</th>\n",
       "      <td>CR-LWAL-DNO-H4-7</td>\n",
       "      <td>1</td>\n",
       "      <td>3</td>\n",
       "      <td>1080000</td>\n",
       "      <td>100</td>\n",
       "      <td>D0</td>\n",
       "      <td>1</td>\n",
       "    </tr>\n",
       "    <tr>\n",
       "      <th>2</th>\n",
       "      <td>CR-LWAL-DUC-H1-3</td>\n",
       "      <td>4</td>\n",
       "      <td>12</td>\n",
       "      <td>1344000</td>\n",
       "      <td>100</td>\n",
       "      <td>D0</td>\n",
       "      <td>4</td>\n",
       "    </tr>\n",
       "    <tr>\n",
       "      <th>3</th>\n",
       "      <td>CR-LWAL-DUC-H4-7</td>\n",
       "      <td>1</td>\n",
       "      <td>2</td>\n",
       "      <td>1260000</td>\n",
       "      <td>100</td>\n",
       "      <td>D0</td>\n",
       "      <td>1</td>\n",
       "    </tr>\n",
       "    <tr>\n",
       "      <th>4</th>\n",
       "      <td>CR-LWAL-DUC-H8-19</td>\n",
       "      <td>0</td>\n",
       "      <td>1</td>\n",
       "      <td>0</td>\n",
       "      <td>100</td>\n",
       "      <td>D0</td>\n",
       "      <td>0</td>\n",
       "    </tr>\n",
       "    <tr>\n",
       "      <th>5</th>\n",
       "      <td>CR-PC-LWAL-H1-3</td>\n",
       "      <td>1</td>\n",
       "      <td>5</td>\n",
       "      <td>360000</td>\n",
       "      <td>100</td>\n",
       "      <td>D0</td>\n",
       "      <td>1</td>\n",
       "    </tr>\n",
       "    <tr>\n",
       "      <th>6</th>\n",
       "      <td>ER-ETR-H1-2</td>\n",
       "      <td>3</td>\n",
       "      <td>10</td>\n",
       "      <td>236250</td>\n",
       "      <td>100</td>\n",
       "      <td>D0</td>\n",
       "      <td>3</td>\n",
       "    </tr>\n",
       "    <tr>\n",
       "      <th>7</th>\n",
       "      <td>MCF-DNO-H1-3</td>\n",
       "      <td>58</td>\n",
       "      <td>177</td>\n",
       "      <td>7511000</td>\n",
       "      <td>100</td>\n",
       "      <td>D0</td>\n",
       "      <td>54</td>\n",
       "    </tr>\n",
       "    <tr>\n",
       "      <th>8</th>\n",
       "      <td>MCF-DUC-H1-3</td>\n",
       "      <td>13</td>\n",
       "      <td>39</td>\n",
       "      <td>3744000</td>\n",
       "      <td>100</td>\n",
       "      <td>D0</td>\n",
       "      <td>12</td>\n",
       "    </tr>\n",
       "    <tr>\n",
       "      <th>9</th>\n",
       "      <td>MR-DNO-H1-3</td>\n",
       "      <td>11</td>\n",
       "      <td>33</td>\n",
       "      <td>3960000</td>\n",
       "      <td>100</td>\n",
       "      <td>D0</td>\n",
       "      <td>10</td>\n",
       "    </tr>\n",
       "    <tr>\n",
       "      <th>10</th>\n",
       "      <td>MR-DUC-H1-3</td>\n",
       "      <td>4</td>\n",
       "      <td>13</td>\n",
       "      <td>1680000</td>\n",
       "      <td>100</td>\n",
       "      <td>D0</td>\n",
       "      <td>4</td>\n",
       "    </tr>\n",
       "  </tbody>\n",
       "</table>\n",
       "</div>"
      ],
      "text/plain": [
       "             Taxonomy  Buildings  Population  Repl-cost-USD-bdg   id Damage  \\\n",
       "11       MUR-ADO-H1-2         12          37             945000  100     D0   \n",
       "12           MUR-H1-3         23          71            1207500  100     D0   \n",
       "13     MUR-STDRE-H1-2          2           6              87500  100     D0   \n",
       "14         W-WLI-H1-3         75         228           13500000  100     D0   \n",
       "15          W-WS-H1-2         37         114            2913750  100     D0   \n",
       "0    CR-LWAL-DNO-H1-3         12          36            3456000  100     D0   \n",
       "1    CR-LWAL-DNO-H4-7          1           3            1080000  100     D0   \n",
       "2    CR-LWAL-DUC-H1-3          4          12            1344000  100     D0   \n",
       "3    CR-LWAL-DUC-H4-7          1           2            1260000  100     D0   \n",
       "4   CR-LWAL-DUC-H8-19          0           1                  0  100     D0   \n",
       "5     CR-PC-LWAL-H1-3          1           5             360000  100     D0   \n",
       "6         ER-ETR-H1-2          3          10             236250  100     D0   \n",
       "7        MCF-DNO-H1-3         58         177            7511000  100     D0   \n",
       "8        MCF-DUC-H1-3         13          39            3744000  100     D0   \n",
       "9         MR-DNO-H1-3         11          33            3960000  100     D0   \n",
       "10        MR-DUC-H1-3          4          13            1680000  100     D0   \n",
       "\n",
       "    Dwellings  \n",
       "11         11  \n",
       "12         22  \n",
       "13          2  \n",
       "14         70  \n",
       "15         35  \n",
       "0          11  \n",
       "1           1  \n",
       "2           4  \n",
       "3           1  \n",
       "4           0  \n",
       "5           1  \n",
       "6           3  \n",
       "7          54  \n",
       "8          12  \n",
       "9          10  \n",
       "10          4  "
      ]
     },
     "execution_count": 9,
     "metadata": {},
     "output_type": "execute_result"
    }
   ],
   "source": [
    "pd.DataFrame(assetmaster_output.iloc[0].expo)"
   ]
  },
  {
   "cell_type": "markdown",
   "metadata": {},
   "source": [
    "### TODO\n",
    "Add a basemap for the cells."
   ]
  },
  {
   "cell_type": "code",
   "execution_count": 10,
   "metadata": {},
   "outputs": [
    {
     "data": {
      "text/plain": [
       "<matplotlib.axes._subplots.AxesSubplot at 0x7f60749c7af0>"
      ]
     },
     "execution_count": 10,
     "metadata": {},
     "output_type": "execute_result"
    },
    {
     "data": {
      "image/png": "[encoded data removed]",
      "text/plain": [
       "<Figure size 432x288 with 1 Axes>"
      ]
     },
     "metadata": {
      "needs_background": "light"
     },
     "output_type": "display_data"
    }
   ],
   "source": [
    "assetmaster_output.plot()"
   ]
  },
  {
   "cell_type": "markdown",
   "metadata": {},
   "source": [
    "## Modelprop\n",
    "Next is the modelprop process."
   ]
  },
  {
   "cell_type": "code",
   "execution_count": 11,
   "metadata": {},
   "outputs": [],
   "source": [
    "ID_MODELPROP = 'org.n52.gfz.riesgos.algorithm.impl.ModelpropProcess'"
   ]
  },
  {
   "cell_type": "code",
   "execution_count": 12,
   "metadata": {},
   "outputs": [
    {
     "name": "stdout",
     "output_type": "stream",
     "text": [
      "Successful: True\n"
     ]
    }
   ],
   "source": [
    "execution_modelprop = server.execute(\n",
    "    identifier=ID_MODELPROP, \n",
    "    inputs=[\n",
    "        ('schema', 'SARA_v1.0'),\n",
    "        ('assetcategory', 'buildings'),\n",
    "        ('losscategory', 'structural'),\n",
    "        ('taxonomies', ''),\n",
    "    ],\n",
    "    output=[('selectedRows', True)]\n",
    ")\n",
    "\n",
    "wps.monitorExecution(execution_modelprop)\n",
    "print('Successful: {}'.format(execution_modelprop.isSucceded()))"
   ]
  },
  {
   "cell_type": "code",
   "execution_count": 13,
   "metadata": {},
   "outputs": [],
   "source": [
    "modelprop_output_reference = execution_modelprop.processOutputs[0].reference\n",
    "modelprop_output_pure = requests.get(modelprop_output_reference).text\n",
    "modelprop_output = requests.get(modelprop_output_reference).json()"
   ]
  },
  {
   "cell_type": "code",
   "execution_count": 14,
   "metadata": {},
   "outputs": [
    {
     "data": {
      "text/plain": [
       "\"{'data': [{'D3_mean': -0.496, 'taxonomy': 'MUR-H1', 'D1_3_mean': -2.648, 'D2_3_mean': -3.166, 'D3_4_stddev': 0.322, 'imu': 'g', 'im_max': 3.0, 'D2_mean': -0.709, 'imt': 'PGA', 'D2_4_stddev': 0.328, 'D2_3_stddev': 0.328, 'id': 'unique_id', 'D1_4_stddev': 0.31, 'D1_stddev': 0.31, 'D1_4_mean': -2.24, 'D2_4_mean': -2.218, 'D3_4_mean': -2.532, 'D1_mean': -1.418, 'D2_stddev': 0.328, 'D4_mean': -0.231, 'D4_stddev': 0.317, 'D3_stddev': 0.322, 'im_min': 0.0, 'D1_2_mean': -3.032, 'D1_2_stddev': 0.31, 'D1_3_stddev': 0.31}, {'D3_mean': -0.496, 'taxonomy': 'ER-ETR-H1-2', 'D1_3_mean': -2.648, 'D2_3_mean': -3.166, 'D3_4_stddev': 0.322, 'imu': 'g', 'im_max': 3.0, 'D2_mean': -0.709, 'imt': 'PGA', 'D2_4_stddev': 0.328, 'D2_3_stddev': 0.328, 'id': 'unique_id', 'D1_4_stddev': 0.31, 'D1_stddev': 0.31, 'D1_4_mean': -2.24, 'D2_4_mean': -2.218, 'D3_4_mean': -2.532, 'D1_mean': -1.418, 'D2_stddev': 0.328, 'D4_mean': -0.231, 'D4_stddev': 0.317, 'D3_stddev': 0.322, 'im_min': 0.0, 'D1_2_mean': -3.032, 'D1_2_stddev': 0.31, 'D1_3_stddev': 0.31}, {'D3_mean': -0.496, 'taxonomy': 'MUR-H1-3', 'D1_3_mean': -2.648, 'D2_3_mean': -3.166, 'D3_4_stddev': 0.322, 'imu': 'g', 'im_max': 3.0, 'D2_mean': -0.709, 'imt': 'PGA', 'D2_4_stddev': 0.328, 'D2_3_stddev': 0.328, 'id': 'unique_id', 'D1_4_stddev': 0.31, 'D1_stddev': 0.31, 'D1_4_mean': -2.24, 'D2_4_mean': -2.218, 'D3_4_mean': -2.532, 'D1_mean': -1.418, 'D2_stddev': 0.328, 'D4_mean': -0.231, 'D4_stddev': 0.317, 'D3_stddev': 0.322, 'im_min': 0.0, 'D1_2_mean': -3.032, 'D1_2_stddev': 0.31, 'D1_3_stddev': 0.31}, {'D3_mean': -0.644, 'taxonomy': 'MUR-ADO-H1-2', 'D1_3_mean': -3.039, 'D2_3_mean': -3.357, 'D3_4_stddev': 0.328, 'imu': 'g', 'im_max': 3.0, 'D2_mean': -0.894, 'imt': 'PGA', 'D2_4_stddev': 0.326, 'D2_3_stddev': 0.326, 'id': 'unique_id', 'D1_4_stddev': 0.371, 'D1_stddev': 0.371, 'D1_4_mean': -2.612, 'D2_4_mean': -2.387, 'D3_4_mean': -2.651, 'D1_mean': -1.782, 'D2_stddev': 0.326, 'D4_mean': -0.335, 'D4_stddev': 0.346, 'D3_stddev': 0.328, 'im_min': 0.0, 'D1_2_mean': -3.433, 'D1_2_stddev': 0.371, 'D1_3_stddev': 0.371}, {'D3_mean': -0.492, 'taxonomy': 'MUR-STRUB-H1-2', 'D1_3_mean': -2.674, 'D2_3_mean': -3.118, 'D3_4_stddev': 0.311, 'imu': 'g', 'im_max': 3.0, 'D2_mean': -0.718, 'imt': 'PGA', 'D2_4_stddev': 0.31, 'D2_3_stddev': 0.31, 'id': 'unique_id', 'D1_4_stddev': 0.295, 'D1_stddev': 0.295, 'D1_4_mean': -2.267, 'D2_4_mean': -2.171, 'D3_4_mean': -2.473, 'D1_mean': -1.502, 'D2_stddev': 0.31, 'D4_mean': -0.215, 'D4_stddev': 0.322, 'D3_stddev': 0.311, 'im_min': 0.0, 'D1_2_mean': -3.057, 'D1_2_stddev': 0.295, 'D1_3_stddev': 0.295}, {'D3_mean': -0.492, 'taxonomy': 'MUR-STDRE-H1-2', 'D1_3_mean': -2.674, 'D2_3_mean': -3.118, 'D3_4_stddev': 0.311, 'imu': 'g', 'im_max': 3.0, 'D2_mean': -0.718, 'imt': 'PGA', 'D2_4_stddev': 0.31, 'D2_3_stddev': 0.31, 'id': 'unique_id', 'D1_4_stddev': 0.295, 'D1_stddev': 0.295, 'D1_4_mean': -2.267, 'D2_4_mean': -2.171, 'D3_4_mean': -2.473, 'D1_mean': -1.502, 'D2_stddev': 0.31, 'D4_mean': -0.215, 'D4_stddev': 0.322, 'D3_s\""
      ]
     },
     "execution_count": 14,
     "metadata": {},
     "output_type": "execute_result"
    }
   ],
   "source": [
    "str(modelprop_output)[:3000]"
   ]
  },
  {
   "cell_type": "code",
   "execution_count": 15,
   "metadata": {},
   "outputs": [],
   "source": [
    "urm1_functions = [x for x in modelprop_output['data'] if x['taxonomy'] == 'MUR-H1'][0]"
   ]
  },
  {
   "cell_type": "code",
   "execution_count": 16,
   "metadata": {},
   "outputs": [],
   "source": [
    "cdf_urm1_d4 = lognorm(scale=np.exp(urm1_functions['D4_mean']), s=urm1_functions['D4_stddev']).cdf"
   ]
  },
  {
   "cell_type": "code",
   "execution_count": 17,
   "metadata": {},
   "outputs": [
    {
     "data": {
      "text/plain": [
       "[<matplotlib.lines.Line2D at 0x7f607453f5b0>]"
      ]
     },
     "execution_count": 17,
     "metadata": {},
     "output_type": "execute_result"
    },
    {
     "data": {
      "image/png": "[encoded data removed]",
      "text/plain": [
       "<Figure size 432x288 with 1 Axes>"
      ]
     },
     "metadata": {
      "needs_background": "light"
     },
     "output_type": "display_data"
    }
   ],
   "source": [
    "xs = np.linspace(0, 3, 1000)\n",
    "ys = cdf_urm1_d4(xs)\n",
    "plt.plot(xs, ys)"
   ]
  },
  {
   "cell_type": "markdown",
   "metadata": {},
   "source": [
    "## Quakeledger\n",
    "Now we are interested in the events in our region."
   ]
  },
  {
   "cell_type": "code",
   "execution_count": 18,
   "metadata": {},
   "outputs": [],
   "source": [
    "ID_QUAKELEDGER = 'org.n52.gfz.riesgos.algorithm.impl.QuakeledgerProcess'"
   ]
  },
  {
   "cell_type": "code",
   "execution_count": 19,
   "metadata": {},
   "outputs": [
    {
     "name": "stdout",
     "output_type": "stream",
     "text": [
      "Successful: True\n"
     ]
    }
   ],
   "source": [
    "execution_quakeledger = server.execute(\n",
    "    identifier=ID_QUAKELEDGER, \n",
    "    inputs=[\n",
    "        ('input-boundingbox', wps.BoundingBoxDataInput([-70, 288 - 360, -10, 292 - 360], 'EPSG:4326')),\n",
    "        ('mmin', '6.6'),\n",
    "        ('mmax', '8'),\n",
    "        ('zmin', '5'),\n",
    "        ('zmax', '140'),\n",
    "        ('p', '140'),\n",
    "        ('etype', 'expert'),\n",
    "        ('tlon', '-71.5730623712764'),\n",
    "        ('tlat', '-33.1299174879672'),\n",
    "    ],\n",
    "    output=[('selectedRows', True)]\n",
    ")\n",
    "\n",
    "wps.monitorExecution(execution_quakeledger)\n",
    "print('Successful: {}'.format(execution_quakeledger.isSucceded()))"
   ]
  },
  {
   "cell_type": "code",
   "execution_count": 20,
   "metadata": {},
   "outputs": [],
   "source": [
    "quakeledger_output_reference = execution_quakeledger.processOutputs[0].reference\n",
    "quakeledger_output = le.fromstring(requests.get(quakeledger_output_reference).content)"
   ]
  },
  {
   "cell_type": "code",
   "execution_count": 21,
   "metadata": {},
   "outputs": [
    {
     "data": {
      "text/plain": [
       "<Element {http://quakeml.org/xmlns/bed/1.2}eventParameters at 0x7f6074671dc0>"
      ]
     },
     "execution_count": 21,
     "metadata": {},
     "output_type": "execute_result"
    }
   ],
   "source": [
    "quakeledger_output"
   ]
  },
  {
   "cell_type": "code",
   "execution_count": 22,
   "metadata": {},
   "outputs": [],
   "source": [
    "quakeledger_output_df = gfzwpsformatconversions.QuakeML.from_xml(quakeledger_output).to_geodataframe()"
   ]
  },
  {
   "cell_type": "code",
   "execution_count": 23,
   "metadata": {},
   "outputs": [
    {
     "data": {
      "text/html": [
       "<div>\n",
       "<style scoped>\n",
       "    .dataframe tbody tr th:only-of-type {\n",
       "        vertical-align: middle;\n",
       "    }\n",
       "\n",
       "    .dataframe tbody tr th {\n",
       "        vertical-align: top;\n",
       "    }\n",
       "\n",
       "    .dataframe thead th {\n",
       "        text-align: right;\n",
       "    }\n",
       "</style>\n",
       "<table border=\"1\" class=\"dataframe\">\n",
       "  <thead>\n",
       "    <tr style=\"text-align: right;\">\n",
       "      <th></th>\n",
       "      <th>eventID</th>\n",
       "      <th>agency</th>\n",
       "      <th>Identifier</th>\n",
       "      <th>year</th>\n",
       "      <th>month</th>\n",
       "      <th>day</th>\n",
       "      <th>hour</th>\n",
       "      <th>minute</th>\n",
       "      <th>second</th>\n",
       "      <th>timeUncertainty</th>\n",
       "      <th>...</th>\n",
       "      <th>magnitudeUncertainty</th>\n",
       "      <th>rake</th>\n",
       "      <th>rakeUncertainty</th>\n",
       "      <th>dip</th>\n",
       "      <th>dipUncertainty</th>\n",
       "      <th>strike</th>\n",
       "      <th>strikeUncertainty</th>\n",
       "      <th>type</th>\n",
       "      <th>probability</th>\n",
       "      <th>geometry</th>\n",
       "    </tr>\n",
       "  </thead>\n",
       "  <tbody>\n",
       "    <tr>\n",
       "      <th>0</th>\n",
       "      <td>quakeml:quakeledger/90000110</td>\n",
       "      <td>GFZ</td>\n",
       "      <td>NaN</td>\n",
       "      <td>2018</td>\n",
       "      <td>1</td>\n",
       "      <td>1</td>\n",
       "      <td>0</td>\n",
       "      <td>0</td>\n",
       "      <td>0.0</td>\n",
       "      <td>NaN</td>\n",
       "      <td>...</td>\n",
       "      <td>NaN</td>\n",
       "      <td>90.0</td>\n",
       "      <td>NaN</td>\n",
       "      <td>18.0</td>\n",
       "      <td>NaN</td>\n",
       "      <td>9.0</td>\n",
       "      <td>NaN</td>\n",
       "      <td>expert</td>\n",
       "      <td>NaN</td>\n",
       "      <td>POINT (-71.72350 -30.43830)</td>\n",
       "    </tr>\n",
       "    <tr>\n",
       "      <th>1</th>\n",
       "      <td>quakeml:quakeledger/90000111</td>\n",
       "      <td>GFZ</td>\n",
       "      <td>NaN</td>\n",
       "      <td>2018</td>\n",
       "      <td>1</td>\n",
       "      <td>1</td>\n",
       "      <td>0</td>\n",
       "      <td>0</td>\n",
       "      <td>0.0</td>\n",
       "      <td>NaN</td>\n",
       "      <td>...</td>\n",
       "      <td>NaN</td>\n",
       "      <td>90.0</td>\n",
       "      <td>NaN</td>\n",
       "      <td>18.0</td>\n",
       "      <td>NaN</td>\n",
       "      <td>9.0</td>\n",
       "      <td>NaN</td>\n",
       "      <td>expert</td>\n",
       "      <td>NaN</td>\n",
       "      <td>POINT (-71.80820 -30.88190)</td>\n",
       "    </tr>\n",
       "    <tr>\n",
       "      <th>2</th>\n",
       "      <td>quakeml:quakeledger/90000112</td>\n",
       "      <td>GFZ</td>\n",
       "      <td>NaN</td>\n",
       "      <td>2018</td>\n",
       "      <td>1</td>\n",
       "      <td>1</td>\n",
       "      <td>0</td>\n",
       "      <td>0</td>\n",
       "      <td>0.0</td>\n",
       "      <td>NaN</td>\n",
       "      <td>...</td>\n",
       "      <td>NaN</td>\n",
       "      <td>90.0</td>\n",
       "      <td>NaN</td>\n",
       "      <td>18.0</td>\n",
       "      <td>NaN</td>\n",
       "      <td>9.0</td>\n",
       "      <td>NaN</td>\n",
       "      <td>expert</td>\n",
       "      <td>NaN</td>\n",
       "      <td>POINT (-71.89380 -31.32550)</td>\n",
       "    </tr>\n",
       "    <tr>\n",
       "      <th>3</th>\n",
       "      <td>quakeml:quakeledger/90000113</td>\n",
       "      <td>GFZ</td>\n",
       "      <td>NaN</td>\n",
       "      <td>2018</td>\n",
       "      <td>1</td>\n",
       "      <td>1</td>\n",
       "      <td>0</td>\n",
       "      <td>0</td>\n",
       "      <td>0.0</td>\n",
       "      <td>NaN</td>\n",
       "      <td>...</td>\n",
       "      <td>NaN</td>\n",
       "      <td>90.0</td>\n",
       "      <td>NaN</td>\n",
       "      <td>18.0</td>\n",
       "      <td>NaN</td>\n",
       "      <td>9.0</td>\n",
       "      <td>NaN</td>\n",
       "      <td>expert</td>\n",
       "      <td>NaN</td>\n",
       "      <td>POINT (-71.98020 -31.76910)</td>\n",
       "    </tr>\n",
       "    <tr>\n",
       "      <th>4</th>\n",
       "      <td>quakeml:quakeledger/80674980</td>\n",
       "      <td>GFZ</td>\n",
       "      <td>NaN</td>\n",
       "      <td>2019</td>\n",
       "      <td>1</td>\n",
       "      <td>1</td>\n",
       "      <td>0</td>\n",
       "      <td>0</td>\n",
       "      <td>0.0</td>\n",
       "      <td>NaN</td>\n",
       "      <td>...</td>\n",
       "      <td>NaN</td>\n",
       "      <td>90.0</td>\n",
       "      <td>NaN</td>\n",
       "      <td>20.0</td>\n",
       "      <td>NaN</td>\n",
       "      <td>9.0</td>\n",
       "      <td>NaN</td>\n",
       "      <td>expert</td>\n",
       "      <td>NaN</td>\n",
       "      <td>POINT (-71.80040 -32.91430)</td>\n",
       "    </tr>\n",
       "  </tbody>\n",
       "</table>\n",
       "<p>5 rows × 31 columns</p>\n",
       "</div>"
      ],
      "text/plain": [
       "                        eventID agency Identifier  year month day hour minute  \\\n",
       "0  quakeml:quakeledger/90000110    GFZ        NaN  2018     1   1    0      0   \n",
       "1  quakeml:quakeledger/90000111    GFZ        NaN  2018     1   1    0      0   \n",
       "2  quakeml:quakeledger/90000112    GFZ        NaN  2018     1   1    0      0   \n",
       "3  quakeml:quakeledger/90000113    GFZ        NaN  2018     1   1    0      0   \n",
       "4  quakeml:quakeledger/80674980    GFZ        NaN  2019     1   1    0      0   \n",
       "\n",
       "  second timeUncertainty  ... magnitudeUncertainty  rake rakeUncertainty  \\\n",
       "0    0.0             NaN  ...                  NaN  90.0             NaN   \n",
       "1    0.0             NaN  ...                  NaN  90.0             NaN   \n",
       "2    0.0             NaN  ...                  NaN  90.0             NaN   \n",
       "3    0.0             NaN  ...                  NaN  90.0             NaN   \n",
       "4    0.0             NaN  ...                  NaN  90.0             NaN   \n",
       "\n",
       "    dip dipUncertainty strike strikeUncertainty    type probability  \\\n",
       "0  18.0            NaN    9.0               NaN  expert         NaN   \n",
       "1  18.0            NaN    9.0               NaN  expert         NaN   \n",
       "2  18.0            NaN    9.0               NaN  expert         NaN   \n",
       "3  18.0            NaN    9.0               NaN  expert         NaN   \n",
       "4  20.0            NaN    9.0               NaN  expert         NaN   \n",
       "\n",
       "                      geometry  \n",
       "0  POINT (-71.72350 -30.43830)  \n",
       "1  POINT (-71.80820 -30.88190)  \n",
       "2  POINT (-71.89380 -31.32550)  \n",
       "3  POINT (-71.98020 -31.76910)  \n",
       "4  POINT (-71.80040 -32.91430)  \n",
       "\n",
       "[5 rows x 31 columns]"
      ]
     },
     "execution_count": 23,
     "metadata": {},
     "output_type": "execute_result"
    }
   ],
   "source": [
    "quakeledger_output_df.head()"
   ]
  },
  {
   "cell_type": "code",
   "execution_count": 24,
   "metadata": {},
   "outputs": [],
   "source": [
    "def get_bbox(geom_column):\n",
    "    return [\n",
    "        geom_column.x.min() - 1,\n",
    "        geom_column.x.max() + 1,\n",
    "        geom_column.y.min() - 1,\n",
    "        geom_column.y.max() - 1\n",
    "    ]\n",
    "quakes_region = get_bbox(quakeledger_output_df.geometry)"
   ]
  },
  {
   "cell_type": "code",
   "execution_count": 25,
   "metadata": {},
   "outputs": [
    {
     "data": {
      "text/plain": [
       "[-72.9827, -70.3408, -34.8527, -31.4383]"
      ]
     },
     "execution_count": 25,
     "metadata": {},
     "output_type": "execute_result"
    }
   ],
   "source": [
    "quakes_region"
   ]
  },
  {
   "cell_type": "code",
   "execution_count": 26,
   "metadata": {},
   "outputs": [],
   "source": [
    "def plot_quakedger(df):\n",
    "    geom_column = df.geometry\n",
    "    bbox = [\n",
    "        geom_column.x.min() - 1,\n",
    "        geom_column.x.max() + 1,\n",
    "        geom_column.y.min() - 1,\n",
    "        geom_column.y.max() - 1\n",
    "    ]\n",
    "    fig = plt.figure(figsize=(6, 12))\n",
    "    mp = Basemap(projection='cyl', resolution='h', \n",
    "                 lat_0=bbox[2], lon_0=bbox[0],\n",
    "                 llcrnrlon=bbox[0],\n",
    "                 llcrnrlat=bbox[2],\n",
    "                 urcrnrlon=bbox[1],\n",
    "                 urcrnrlat=bbox[3]\n",
    "    )\n",
    "    mp.arcgisimage(service='World_Shaded_Relief', xpixels = 2000, verbose=False)\n",
    "    mp.drawcoastlines()\n",
    "    mp.drawcountries()\n",
    "    mp.scatter(df.geometry.x, df.geometry.y,\n",
    "           marker='o',color='m',s = (0.4*df.magnitude.values.astype(float))**4)\n",
    "    plt.show()"
   ]
  },
  {
   "cell_type": "code",
   "execution_count": 27,
   "metadata": {},
   "outputs": [
    {
     "name": "stderr",
     "output_type": "stream",
     "text": [
      "/home/mruester/git/RIESGOS/gfzriesgos/wps-pipeline-notebook/wps-pipeline-notebook/lib/python3.8/site-packages/pyproj/crs/crs.py:53: FutureWarning: '+init=<authority>:<code>' syntax is deprecated. '<authority>:<code>' is the preferred initialization method. When making the change, be mindful of axis order changes: https://pyproj4.github.io/pyproj/stable/gotchas.html#axis-order-changes-in-proj-6\n",
      "  return _prepare_from_string(\" \".join(pjargs))\n",
      "/home/mruester/git/RIESGOS/gfzriesgos/wps-pipeline-notebook/wps-pipeline-notebook/lib/python3.8/site-packages/pyproj/crs/crs.py:294: FutureWarning: '+init=<authority>:<code>' syntax is deprecated. '<authority>:<code>' is the preferred initialization method. When making the change, be mindful of axis order changes: https://pyproj4.github.io/pyproj/stable/gotchas.html#axis-order-changes-in-proj-6\n",
      "  projstring = _prepare_from_string(\" \".join((projstring, projkwargs)))\n"
     ]
    },
    {
     "data": {
      "image/png": "[encoded data removed]",
      "text/plain": [
       "<Figure size 432x864 with 1 Axes>"
      ]
     },
     "metadata": {},
     "output_type": "display_data"
    }
   ],
   "source": [
    "plot_quakedger(quakeledger_output_df)"
   ]
  },
  {
   "cell_type": "markdown",
   "metadata": {},
   "source": [
    "## Chose an event\n",
    "Now we want to have chose one of those events and prepare it as input for our shakyground service."
   ]
  },
  {
   "cell_type": "code",
   "execution_count": 28,
   "metadata": {},
   "outputs": [],
   "source": [
    "chosen_event = None\n",
    "\n",
    "for i, val in enumerate(quakeledger_output_df): \n",
    "    event = quakeledger_output_df[i:i+1]\n",
    "    eventId = event[\"eventID\"].iloc[0]\n",
    "    if eventId == \"quakeml:quakeledger/80674999\":\n",
    "        chosen_event = event\n",
    "        break\n",
    "\n",
    "if chosen_event is None:\n",
    "    raise Exception('Event 80674999 not found')"
   ]
  },
  {
   "cell_type": "code",
   "execution_count": 29,
   "metadata": {},
   "outputs": [
    {
     "data": {
      "text/html": [
       "<div>\n",
       "<style scoped>\n",
       "    .dataframe tbody tr th:only-of-type {\n",
       "        vertical-align: middle;\n",
       "    }\n",
       "\n",
       "    .dataframe tbody tr th {\n",
       "        vertical-align: top;\n",
       "    }\n",
       "\n",
       "    .dataframe thead th {\n",
       "        text-align: right;\n",
       "    }\n",
       "</style>\n",
       "<table border=\"1\" class=\"dataframe\">\n",
       "  <thead>\n",
       "    <tr style=\"text-align: right;\">\n",
       "      <th></th>\n",
       "      <th>eventID</th>\n",
       "      <th>agency</th>\n",
       "      <th>Identifier</th>\n",
       "      <th>year</th>\n",
       "      <th>month</th>\n",
       "      <th>day</th>\n",
       "      <th>hour</th>\n",
       "      <th>minute</th>\n",
       "      <th>second</th>\n",
       "      <th>timeUncertainty</th>\n",
       "      <th>...</th>\n",
       "      <th>magnitudeUncertainty</th>\n",
       "      <th>rake</th>\n",
       "      <th>rakeUncertainty</th>\n",
       "      <th>dip</th>\n",
       "      <th>dipUncertainty</th>\n",
       "      <th>strike</th>\n",
       "      <th>strikeUncertainty</th>\n",
       "      <th>type</th>\n",
       "      <th>probability</th>\n",
       "      <th>geometry</th>\n",
       "    </tr>\n",
       "  </thead>\n",
       "  <tbody>\n",
       "    <tr>\n",
       "      <th>7</th>\n",
       "      <td>quakeml:quakeledger/80674999</td>\n",
       "      <td>GFZ</td>\n",
       "      <td>NaN</td>\n",
       "      <td>2019</td>\n",
       "      <td>1</td>\n",
       "      <td>1</td>\n",
       "      <td>0</td>\n",
       "      <td>0</td>\n",
       "      <td>0.0</td>\n",
       "      <td>NaN</td>\n",
       "      <td>...</td>\n",
       "      <td>NaN</td>\n",
       "      <td>90.0</td>\n",
       "      <td>NaN</td>\n",
       "      <td>20.0</td>\n",
       "      <td>NaN</td>\n",
       "      <td>9.0</td>\n",
       "      <td>NaN</td>\n",
       "      <td>expert</td>\n",
       "      <td>NaN</td>\n",
       "      <td>POINT (-71.65410 -32.93360)</td>\n",
       "    </tr>\n",
       "  </tbody>\n",
       "</table>\n",
       "<p>1 rows × 31 columns</p>\n",
       "</div>"
      ],
      "text/plain": [
       "                        eventID agency Identifier  year month day hour minute  \\\n",
       "7  quakeml:quakeledger/80674999    GFZ        NaN  2019     1   1    0      0   \n",
       "\n",
       "  second timeUncertainty  ... magnitudeUncertainty  rake rakeUncertainty  \\\n",
       "7    0.0             NaN  ...                  NaN  90.0             NaN   \n",
       "\n",
       "    dip dipUncertainty strike strikeUncertainty    type probability  \\\n",
       "7  20.0            NaN    9.0               NaN  expert         NaN   \n",
       "\n",
       "                      geometry  \n",
       "7  POINT (-71.65410 -32.93360)  \n",
       "\n",
       "[1 rows x 31 columns]"
      ]
     },
     "execution_count": 29,
     "metadata": {},
     "output_type": "execute_result"
    }
   ],
   "source": [
    "chosen_event"
   ]
  },
  {
   "cell_type": "code",
   "execution_count": 30,
   "metadata": {},
   "outputs": [],
   "source": [
    "chosen_event_as_quakeml = gfzwpsformatconversions.QuakeMLDataframe.from_dataframe(chosen_event).to_xml_string()"
   ]
  },
  {
   "cell_type": "code",
   "execution_count": 31,
   "metadata": {},
   "outputs": [
    {
     "data": {
      "text/plain": [
       "'<ns0:eventParameters xmlns:ns0=\"http://quakeml.org/xmlns/bed/1.2\" publicID=\"quakeml:quakeledger/0\">\\n  <ns0:event publicID=\"quakeml:quakeledger/80674999\">\\n    <ns0:preferredOriginID>quakeml:quakeledger/80674999</ns0:preferredOriginID>\\n    <ns0:preferredMagnitudeID>quakeml:quakeledger/80674999</ns0:preferredMagnitudeID>\\n    <ns0:type>earthquake</ns0:type>\\n    <ns0:description>\\n      <ns0:text>expert</ns0:text>\\n    </ns0:description>\\n    <ns0:origin publicID=\"quakeml:quakeledger/80674999\">\\n      <ns0:time>\\n        <ns0:value>2019-01-01T00:00:00.000000Z</ns0:value>\\n        <ns0:uncertainty>NaN</ns0:uncertainty>\\n      </ns0:time>\\n      <ns0:latitude>\\n        <ns0:value>-32.9336</ns0:value>\\n        <ns0:uncertainty>NaN</ns0:uncertainty>\\n      </ns0:latitude>\\n      <ns0:longitude>\\n        <ns0:value>-71.6541</ns0:value>\\n        <ns0:uncertainty>NaN</ns0:uncertainty>\\n      </ns0:longitude>\\n      <ns0:depth>\\n        <ns0:value>42.7</ns0:value>\\n        <ns0:uncertainty>NaN</ns0:uncertainty>\\n      </ns0:depth>\\n      <ns0:creationInfo>\\n        <ns0:author>GFZ</ns0:author>\\n      </ns0:creationInfo>\\n      <ns0:originUncertainty>\\n        <ns0:horizontalUncertainty>NaN</ns0:horizontalUncertainty>\\n        <ns0:minHorizontalUncertainty>NaN</ns0:minHorizontalUncertainty>\\n        <ns0:maxHorizontalUncertainty>NaN</ns0:maxHorizontalUncertainty>\\n        <ns0:azimuthMaxHorizontalUncertainty>NaN</ns0:azimuthMaxHorizontalUncertainty>\\n      </ns0:originUncertainty>\\n    </ns0:origin>\\n    <ns0:magnitude publicID=\"quakeml:quakeledger/80674999\">\\n      <ns0:mag>\\n        <ns0:value>8.0</ns0:value>\\n        <ns0:uncertainty>NaN</ns0:uncertainty>\\n      </ns0:mag>\\n      <ns0:type>MW</ns0:type>\\n      <ns0:creationInfo>\\n        <ns0:author>GFZ</ns0:author>\\n      </ns0:creationInfo>\\n    </ns0:magnitude>\\n    <ns0:focalMechanism publicID=\"quakeml:quakeledger/80674999\">\\n      <ns0:nodalPlanes preferredPlane=\"1\">\\n        <ns0:nodalPlane1>\\n          <ns0:strike>\\n            <ns0:value>9.0</ns0:value>\\n            <ns0:uncertainty>NaN</ns0:uncertainty>\\n          </ns0:strike>\\n          <ns0:dip>\\n            <ns0:value>20.0</ns0:value>\\n            <ns0:uncertainty>NaN</ns0:uncertainty>\\n          </ns0:dip>\\n          <ns0:rake>\\n            <ns0:value>90.0</ns0:value>\\n            <ns0:uncertainty>NaN</ns0:uncertainty>\\n          </ns0:rake>\\n        </ns0:nodalPlane1>\\n      </ns0:nodalPlanes>\\n    </ns0:focalMechanism>\\n  </ns0:event>\\n</ns0:eventParameters>\\n'"
      ]
     },
     "execution_count": 31,
     "metadata": {},
     "output_type": "execute_result"
    }
   ],
   "source": [
    "chosen_event_as_quakeml"
   ]
  },
  {
   "cell_type": "markdown",
   "metadata": {},
   "source": [
    "# Shakyground\n",
    "Now lets use the chosen event to get the data of the shakemap."
   ]
  },
  {
   "cell_type": "code",
   "execution_count": 32,
   "metadata": {},
   "outputs": [],
   "source": [
    "ID_SHAKYGROUND = 'org.n52.gfz.riesgos.algorithm.impl.ShakygroundProcess'\n"
   ]
  },
  {
   "cell_type": "code",
   "execution_count": 33,
   "metadata": {},
   "outputs": [
    {
     "name": "stdout",
     "output_type": "stream",
     "text": [
      "Successful: True\n"
     ]
    }
   ],
   "source": [
    "execution_shakyground = server.execute(\n",
    "    identifier=ID_SHAKYGROUND, \n",
    "    inputs=[\n",
    "        ('quakeMLFile', wps.ComplexDataInput(chosen_event_as_quakeml)),\n",
    "    ],\n",
    "    output=[('shakeMapFile', True)]\n",
    ")\n",
    "\n",
    "wps.monitorExecution(execution_shakyground)\n",
    "print('Successful: {}'.format(execution_shakyground.isSucceded()))"
   ]
  },
  {
   "cell_type": "code",
   "execution_count": 34,
   "metadata": {},
   "outputs": [],
   "source": [
    "shakyground_output_reference = execution_shakyground.processOutputs[0].reference\n",
    "shakyground_output = le.fromstring(requests.get(shakyground_output_reference).content)"
   ]
  },
  {
   "cell_type": "code",
   "execution_count": 35,
   "metadata": {},
   "outputs": [
    {
     "data": {
      "text/plain": [
       "'http://rz-vm140.gfz-potsdam.de:80/wps/RetrieveResultServlet?id=d7458024-b518-427f-b643-e8242fca88e2shakeMapFile.2cdab2ff-aaed-43c4-aba9-3a2295079234'"
      ]
     },
     "execution_count": 35,
     "metadata": {},
     "output_type": "execute_result"
    }
   ],
   "source": [
    "execution_shakyground.processOutputs[0].reference"
   ]
  },
  {
   "cell_type": "markdown",
   "metadata": {},
   "source": [
    "Now we want to visualize the shakemap."
   ]
  },
  {
   "cell_type": "code",
   "execution_count": 36,
   "metadata": {},
   "outputs": [],
   "source": [
    "shakyground_output_intensity_df = gfzwpsformatconversions.Shakemap.from_xml(shakyground_output).to_intensity_geodataframe()"
   ]
  },
  {
   "cell_type": "code",
   "execution_count": 37,
   "metadata": {},
   "outputs": [
    {
     "data": {
      "text/html": [
       "<div>\n",
       "<style scoped>\n",
       "    .dataframe tbody tr th:only-of-type {\n",
       "        vertical-align: middle;\n",
       "    }\n",
       "\n",
       "    .dataframe tbody tr th {\n",
       "        vertical-align: top;\n",
       "    }\n",
       "\n",
       "    .dataframe thead th {\n",
       "        text-align: right;\n",
       "    }\n",
       "</style>\n",
       "<table border=\"1\" class=\"dataframe\">\n",
       "  <thead>\n",
       "    <tr style=\"text-align: right;\">\n",
       "      <th></th>\n",
       "      <th>LON</th>\n",
       "      <th>LAT</th>\n",
       "      <th>value_PGA</th>\n",
       "      <th>value_STDPGA</th>\n",
       "      <th>value_SA(0.3)</th>\n",
       "      <th>value_STDSA(0.3)</th>\n",
       "      <th>value_SA(1.0)</th>\n",
       "      <th>value_STDSA(1.0)</th>\n",
       "      <th>unit_PGA</th>\n",
       "      <th>unit_STDPGA</th>\n",
       "      <th>unit_SA(0.3)</th>\n",
       "      <th>unit_STDSA(0.3)</th>\n",
       "      <th>unit_SA(1.0)</th>\n",
       "      <th>unit_STDSA(1.0)</th>\n",
       "      <th>geometry</th>\n",
       "    </tr>\n",
       "  </thead>\n",
       "  <tbody>\n",
       "    <tr>\n",
       "      <th>0</th>\n",
       "      <td>-73.616667</td>\n",
       "      <td>-30.808333</td>\n",
       "      <td>0.027395</td>\n",
       "      <td>0.805277</td>\n",
       "      <td>0.059483</td>\n",
       "      <td>0.845455</td>\n",
       "      <td>0.032501</td>\n",
       "      <td>0.754395</td>\n",
       "      <td>g</td>\n",
       "      <td>g</td>\n",
       "      <td>g</td>\n",
       "      <td>g</td>\n",
       "      <td>g</td>\n",
       "      <td>g</td>\n",
       "      <td>POINT (-73.61667 -30.80833)</td>\n",
       "    </tr>\n",
       "    <tr>\n",
       "      <th>1</th>\n",
       "      <td>-73.608333</td>\n",
       "      <td>-30.808333</td>\n",
       "      <td>0.027507</td>\n",
       "      <td>0.805277</td>\n",
       "      <td>0.059765</td>\n",
       "      <td>0.845455</td>\n",
       "      <td>0.032589</td>\n",
       "      <td>0.754395</td>\n",
       "      <td>g</td>\n",
       "      <td>g</td>\n",
       "      <td>g</td>\n",
       "      <td>g</td>\n",
       "      <td>g</td>\n",
       "      <td>g</td>\n",
       "      <td>POINT (-73.60833 -30.80833)</td>\n",
       "    </tr>\n",
       "    <tr>\n",
       "      <th>2</th>\n",
       "      <td>-73.600000</td>\n",
       "      <td>-30.808333</td>\n",
       "      <td>0.027620</td>\n",
       "      <td>0.805277</td>\n",
       "      <td>0.060049</td>\n",
       "      <td>0.845455</td>\n",
       "      <td>0.032677</td>\n",
       "      <td>0.754395</td>\n",
       "      <td>g</td>\n",
       "      <td>g</td>\n",
       "      <td>g</td>\n",
       "      <td>g</td>\n",
       "      <td>g</td>\n",
       "      <td>g</td>\n",
       "      <td>POINT (-73.60000 -30.80833)</td>\n",
       "    </tr>\n",
       "    <tr>\n",
       "      <th>3</th>\n",
       "      <td>-73.591667</td>\n",
       "      <td>-30.808333</td>\n",
       "      <td>0.027732</td>\n",
       "      <td>0.805277</td>\n",
       "      <td>0.060333</td>\n",
       "      <td>0.845455</td>\n",
       "      <td>0.032765</td>\n",
       "      <td>0.754395</td>\n",
       "      <td>g</td>\n",
       "      <td>g</td>\n",
       "      <td>g</td>\n",
       "      <td>g</td>\n",
       "      <td>g</td>\n",
       "      <td>g</td>\n",
       "      <td>POINT (-73.59167 -30.80833)</td>\n",
       "    </tr>\n",
       "    <tr>\n",
       "      <th>4</th>\n",
       "      <td>-73.583333</td>\n",
       "      <td>-30.808333</td>\n",
       "      <td>0.027846</td>\n",
       "      <td>0.805277</td>\n",
       "      <td>0.060619</td>\n",
       "      <td>0.845455</td>\n",
       "      <td>0.032854</td>\n",
       "      <td>0.754395</td>\n",
       "      <td>g</td>\n",
       "      <td>g</td>\n",
       "      <td>g</td>\n",
       "      <td>g</td>\n",
       "      <td>g</td>\n",
       "      <td>g</td>\n",
       "      <td>POINT (-73.58333 -30.80833)</td>\n",
       "    </tr>\n",
       "  </tbody>\n",
       "</table>\n",
       "</div>"
      ],
      "text/plain": [
       "         LON        LAT  value_PGA  value_STDPGA  value_SA(0.3)  \\\n",
       "0 -73.616667 -30.808333   0.027395      0.805277       0.059483   \n",
       "1 -73.608333 -30.808333   0.027507      0.805277       0.059765   \n",
       "2 -73.600000 -30.808333   0.027620      0.805277       0.060049   \n",
       "3 -73.591667 -30.808333   0.027732      0.805277       0.060333   \n",
       "4 -73.583333 -30.808333   0.027846      0.805277       0.060619   \n",
       "\n",
       "   value_STDSA(0.3)  value_SA(1.0)  value_STDSA(1.0) unit_PGA unit_STDPGA  \\\n",
       "0          0.845455       0.032501          0.754395        g           g   \n",
       "1          0.845455       0.032589          0.754395        g           g   \n",
       "2          0.845455       0.032677          0.754395        g           g   \n",
       "3          0.845455       0.032765          0.754395        g           g   \n",
       "4          0.845455       0.032854          0.754395        g           g   \n",
       "\n",
       "  unit_SA(0.3) unit_STDSA(0.3) unit_SA(1.0) unit_STDSA(1.0)  \\\n",
       "0            g               g            g               g   \n",
       "1            g               g            g               g   \n",
       "2            g               g            g               g   \n",
       "3            g               g            g               g   \n",
       "4            g               g            g               g   \n",
       "\n",
       "                      geometry  \n",
       "0  POINT (-73.61667 -30.80833)  \n",
       "1  POINT (-73.60833 -30.80833)  \n",
       "2  POINT (-73.60000 -30.80833)  \n",
       "3  POINT (-73.59167 -30.80833)  \n",
       "4  POINT (-73.58333 -30.80833)  "
      ]
     },
     "execution_count": 37,
     "metadata": {},
     "output_type": "execute_result"
    }
   ],
   "source": [
    "shakyground_output_intensity_df.head()"
   ]
  },
  {
   "cell_type": "code",
   "execution_count": 38,
   "metadata": {},
   "outputs": [],
   "source": [
    "raster = gfzwpsformatconversions.Shakemap.dataframe2raster(shakyground_output_intensity_df, 'LON', 'LAT', 'value_PGA')"
   ]
  },
  {
   "cell_type": "code",
   "execution_count": 39,
   "metadata": {},
   "outputs": [],
   "source": [
    "event_dataframe = gfzwpsformatconversions.Shakemap.from_xml(shakyground_output).to_event_geodataframe_or_none()"
   ]
  },
  {
   "cell_type": "code",
   "execution_count": 40,
   "metadata": {},
   "outputs": [],
   "source": [
    "def plot_shakemap(raster, events, additional_spacing=1):\n",
    "    cmap = plt.get_cmap('YlOrBr')\n",
    "    z = raster.raster.data\n",
    "    y_count, x_count = z.shape\n",
    "    x_s = np.linspace(raster.xmin, raster.xmax, x_count)\n",
    "    # the image coordinates for ys go down\n",
    "    y_s = np.linspace(raster.ymax, raster.ymin, y_count)\n",
    "    \n",
    "    # dont plot some values\n",
    "    # to make the image not that full\n",
    "    zz = np.ma.masked_array(z, z < 0.1)\n",
    "    \n",
    "    bbox = raster.bounds\n",
    "    fig = plt.figure(figsize=(6, 12))\n",
    "    mp = Basemap(projection='cyl', resolution='h', \n",
    "                 #lat_0=bbox[2], \n",
    "                 #lon_0=bbox[0],\n",
    "                 llcrnrlon=bbox[0] - additional_spacing,\n",
    "                 llcrnrlat=bbox[1] - additional_spacing,\n",
    "                 urcrnrlon=bbox[2] + additional_spacing,\n",
    "                 urcrnrlat=bbox[3] + additional_spacing\n",
    "    )\n",
    "    mp.arcgisimage(service='World_Shaded_Relief', xpixels = 2000, verbose=False)\n",
    "    mp.drawcoastlines()\n",
    "    mp.drawcountries()\n",
    "    cs = mp.pcolormesh(x_s, y_s, zz, zorder=98, alpha=0.3, cmap=cmap)\n",
    "    mp.colorbar(cs, extend='min')\n",
    "    \n",
    "    mp.scatter(events.geometry.x, events.geometry.y,\n",
    "               zorder=99,\n",
    "               marker='*',color='red',s = 30**2)\n",
    "    plt.show()"
   ]
  },
  {
   "cell_type": "code",
   "execution_count": 41,
   "metadata": {},
   "outputs": [
    {
     "name": "stderr",
     "output_type": "stream",
     "text": [
      "/home/mruester/git/RIESGOS/gfzriesgos/wps-pipeline-notebook/wps-pipeline-notebook/lib/python3.8/site-packages/pyproj/crs/crs.py:53: FutureWarning: '+init=<authority>:<code>' syntax is deprecated. '<authority>:<code>' is the preferred initialization method. When making the change, be mindful of axis order changes: https://pyproj4.github.io/pyproj/stable/gotchas.html#axis-order-changes-in-proj-6\n",
      "  return _prepare_from_string(\" \".join(pjargs))\n",
      "/home/mruester/git/RIESGOS/gfzriesgos/wps-pipeline-notebook/wps-pipeline-notebook/lib/python3.8/site-packages/pyproj/crs/crs.py:294: FutureWarning: '+init=<authority>:<code>' syntax is deprecated. '<authority>:<code>' is the preferred initialization method. When making the change, be mindful of axis order changes: https://pyproj4.github.io/pyproj/stable/gotchas.html#axis-order-changes-in-proj-6\n",
      "  projstring = _prepare_from_string(\" \".join((projstring, projkwargs)))\n"
     ]
    },
    {
     "data": {
      "image/png": "[encoded data removed]",
      "text/plain": [
       "<Figure size 432x864 with 2 Axes>"
      ]
     },
     "metadata": {
      "needs_background": "light"
     },
     "output_type": "display_data"
    }
   ],
   "source": [
    "plot_shakemap(raster, event_dataframe)"
   ]
  },
  {
   "cell_type": "markdown",
   "metadata": {},
   "source": [
    "# Deus\n",
    "At the moment the last service to use here."
   ]
  },
  {
   "cell_type": "code",
   "execution_count": 42,
   "metadata": {},
   "outputs": [],
   "source": [
    "ID_DEUS = 'org.n52.gfz.riesgos.algorithm.impl.DeusProcess'"
   ]
  },
  {
   "cell_type": "code",
   "execution_count": 43,
   "metadata": {},
   "outputs": [
    {
     "data": {
      "text/plain": [
       "22768373"
      ]
     },
     "execution_count": 43,
     "metadata": {},
     "output_type": "execute_result"
    }
   ],
   "source": [
    "len(le.tostring(shakyground_output))"
   ]
  },
  {
   "cell_type": "code",
   "execution_count": 44,
   "metadata": {},
   "outputs": [
    {
     "name": "stdout",
     "output_type": "stream",
     "text": [
      "Successful: True\n"
     ]
    }
   ],
   "source": [
    "execution_deus = server.execute(\n",
    "    identifier=ID_DEUS, \n",
    "    inputs=[\n",
    "        ('schema', 'SARA_v1.0'),\n",
    "        ('exposure', wps.ComplexDataInput(assetmaster_output_pure)),\n",
    "        ('fragility', wps.ComplexDataInput(modelprop_output_pure)),\n",
    "        ('intensity', wps.ComplexDataInput(le.tostring(shakyground_output)))\n",
    "    ],\n",
    "    output=[\n",
    "        ('updated_exposure', True),\n",
    "        ('transition', True),\n",
    "        ('damage', True),\n",
    "    ]\n",
    ")\n",
    "\n",
    "wps.monitorExecution(execution_deus)\n",
    "print('Successful: {}'.format(execution_deus.isSucceded()))"
   ]
  },
  {
   "cell_type": "code",
   "execution_count": 45,
   "metadata": {},
   "outputs": [],
   "source": [
    "updated_exposure_model_reference = execution_deus.processOutputs[0].reference\n",
    "updated_exposure_model_df = gpd.read_file(updated_exposure_model_reference, )"
   ]
  },
  {
   "cell_type": "code",
   "execution_count": 46,
   "metadata": {},
   "outputs": [],
   "source": [
    "updated_exposure_model_transitions =  requests.get(execution_deus.processOutputs[1].reference).json()"
   ]
  },
  {
   "cell_type": "code",
   "execution_count": 47,
   "metadata": {},
   "outputs": [
    {
     "data": {
      "text/plain": [
       "\"{'features': [{'geometry': {'coordinates': [[[[-71.48737699955441, -32.995691999934614], [-71.48627500052956, -32.99721700014356], [-71.48756500025739, -33.000142999684215], [-71.49026700003029, -32.99759600019429], [-71.49016699980027, -32.99691399994977], [-71.4875840003787, -32.99563599984297], [-71.48737699955441, -32.995691999934614]]]], 'type': 'MultiPolygon'}, 'type': 'Feature', 'properties': {'gid': '100', 'transitions': {'n_buildings': [0.016902, 0.162865, 0.859993, 9.507687, 0.003827, 0.077439, 0.508284, 12.62634, 0.000341, 0.004826, 0.035774, 1.321468, 9e-06, 1e-06, 3e-05, 0.009409, 4e-06, 0.0, 1.5e-05, 0.004642, 0.000781, 0.00096, 0.01803, 3.019489, 0.03889, 0.183948, 0.411262, 0.365105, 0.0, 0.0, 4e-06, 0.03657, 0.004599, 0.042479, 0.170524, 0.720087, 0.0, 0.0, 1e-06, 0.009143, 0.000499, 0.010101, 0.066298, 1.646914, 5.1e-05, 5.5e-05, 0.001039, 1.912305, 2e-06, 2.8e-05, 0.000257, 0.259007, 1e-05, 1.1e-05, 0.000197, 0.362679, 1e-06, 9e-06, 7.9e-05, 0.079694], 'replacement_costs_usd_bdg': [945000.0, 945000.0, 945000.0, 945000.0, 1207500.0, 1207500.0, 1207500.0, 1207500.0, 87500.0, 87500.0, 87500.0, 87500.0, 13500000.0, 13500000.0, 13500000.0, 13500000.0, 2913750.0, 2913750.0, 2913750.0, 2913750.0, 3456000.0, 3456000.0, 3456000.0, 3456000.0, 1080000.0, 1080000.0, 1080000.0, 1080000.0, 1344000.0, 1344000.0, 1344000.0, 1344000.0, 1260000.0, 1260000.0, 1260000.0, 1260000.0, 360000.0, 360000.0, 360000.0, 360000.0, 236250.0, 236250.0, 236250.0, 236250.0, 7511000.0, 7511000.0, 7511000.0, 7511000.0, 3744000.0, 3744000.0, 3744000.0, 3744000.0, 3960000.0, 3960000.0, 3960000.0, 3960000.0, 1680000.0, 1680000.0, 1680000.0, 1680000.0], 'taxonomy': ['MUR-ADO-H1-2', 'MUR-ADO-H1-2', 'MUR-ADO-H1-2', 'MUR-ADO-H1-2', 'MUR-H1-3', 'MUR-H1-3', 'MUR-H1-3', 'MUR-H1-3', 'MUR-STDRE-H1-2', 'MUR-STDRE-H1-2', 'MUR-STDRE-H1-2', 'MUR-STDRE-H1-2', 'W-WLI-H1-3', 'W-WLI-H1-3', 'W-WLI-H1-3', 'W-WLI-H1-3', 'W-WS-H1-2', 'W-WS-H1-2', 'W-WS-H1-2', 'W-WS-H1-2', 'CR-LWAL-DNO-H1-3', 'CR-LWAL-DNO-H1-3', 'CR-LWAL-DNO-H1-3', 'CR-LWAL-DNO-H1-3', 'CR-LWAL-DNO-H4-7', 'CR-LWAL-DNO-H4-7', 'CR-LWAL-DNO-H4-7', 'CR-LWAL-DNO-H4-7', 'CR-LWAL-DUC-H1-3', 'CR-LWAL-DUC-H1-3', 'CR-LWAL-DUC-H1-3', 'CR-LWAL-DUC-H1-3', 'CR-LWAL-DUC-H4-7', 'CR-LWAL-DUC-H4-7', 'CR-LWAL-DUC-H4-7', 'CR-LWAL-DUC-H4-7', 'CR-PC-LWAL-H1-3', 'CR-PC-LWAL-H1-3', 'CR-PC-LWAL-H1-3', 'CR-PC-LWAL-H1-3', 'ER-ETR-H1-2', 'ER-ETR-H1-2', 'ER-ETR-H1-2', 'ER-ETR-H1-2', 'MCF-DNO-H1-3', 'MCF-DNO-H1-3', 'MCF-DNO-H1-3', 'MCF-DNO-H1-3', 'MCF-DUC-H1-3', 'MCF-DUC-H1-3', 'MCF-DUC-H1-3', 'MCF-DUC-H1-3', 'MR-DNO-H1-3', 'MR-DNO-H1-3', 'MR-DNO-H1-3', 'MR-DNO-H1-3', 'MR-DUC-H1-3', 'MR-DUC-H1-3', 'MR-DUC-H1-3', 'MR-DUC-H1-3'], 'to_damage_state': [4, 3, 2, 1, 4, 3, 2, 1, 4, 3, 2, 1, 4, 3, 2, 1, 4, 3, 2, 1, 4, 3, 2, 1, 4, 3, 2, 1, 4, 3, 2, 1, 4, 3, 2, 1, 4, 3, 2, 1, 4, 3, 2, 1, 4, 3, 2, 1, 4, 3, 2, 1, 4, 3, 2, 1, 4, 3, 2, 1], 'from_damage_state': [0, 0, 0, 0, 0, 0, 0, 0, 0, 0, 0, 0, 0, 0, 0, 0, 0, 0, 0, 0, 0, 0, 0, 0, 0, 0, 0, 0, 0, 0, 0, 0, 0, 0, 0, 0\""
      ]
     },
     "execution_count": 47,
     "metadata": {},
     "output_type": "execute_result"
    }
   ],
   "source": [
    "str(updated_exposure_model_transitions)[:3000]"
   ]
  },
  {
   "cell_type": "code",
   "execution_count": 48,
   "metadata": {},
   "outputs": [
    {
     "data": {
      "text/html": [
       "<div>\n",
       "<style scoped>\n",
       "    .dataframe tbody tr th:only-of-type {\n",
       "        vertical-align: middle;\n",
       "    }\n",
       "\n",
       "    .dataframe tbody tr th {\n",
       "        vertical-align: top;\n",
       "    }\n",
       "\n",
       "    .dataframe thead th {\n",
       "        text-align: right;\n",
       "    }\n",
       "</style>\n",
       "<table border=\"1\" class=\"dataframe\">\n",
       "  <thead>\n",
       "    <tr style=\"text-align: right;\">\n",
       "      <th></th>\n",
       "      <th>gid</th>\n",
       "      <th>expo</th>\n",
       "      <th>geometry</th>\n",
       "    </tr>\n",
       "  </thead>\n",
       "  <tbody>\n",
       "    <tr>\n",
       "      <th>0</th>\n",
       "      <td>100</td>\n",
       "      <td>{'Taxonomy': ['MUR-ADO-H1-2', 'MUR-ADO-H1-2', ...</td>\n",
       "      <td>MULTIPOLYGON (((-71.48738 -32.99569, -71.48628...</td>\n",
       "    </tr>\n",
       "    <tr>\n",
       "      <th>1</th>\n",
       "      <td>1002</td>\n",
       "      <td>{'Taxonomy': ['MUR-ADO-H1-2', 'MUR-H1-3', 'MUR...</td>\n",
       "      <td>MULTIPOLYGON (((-71.49692 -33.19048, -71.52102...</td>\n",
       "    </tr>\n",
       "    <tr>\n",
       "      <th>2</th>\n",
       "      <td>1003</td>\n",
       "      <td>{'Taxonomy': ['MUR-ADO-H1-2', 'MUR-H1-3', 'MUR...</td>\n",
       "      <td>MULTIPOLYGON (((-71.52951 -32.99708, -71.52926...</td>\n",
       "    </tr>\n",
       "    <tr>\n",
       "      <th>3</th>\n",
       "      <td>1004</td>\n",
       "      <td>{'Taxonomy': ['MUR-ADO-H1-2', 'MUR-H1-3', 'MUR...</td>\n",
       "      <td>MULTIPOLYGON (((-71.52717 -33.01308, -71.52598...</td>\n",
       "    </tr>\n",
       "    <tr>\n",
       "      <th>4</th>\n",
       "      <td>1005</td>\n",
       "      <td>{'Taxonomy': ['MUR-ADO-H1-2', 'MUR-H1-3', 'MUR...</td>\n",
       "      <td>MULTIPOLYGON (((-71.54862 -33.08271, -71.54903...</td>\n",
       "    </tr>\n",
       "  </tbody>\n",
       "</table>\n",
       "</div>"
      ],
      "text/plain": [
       "    gid                                               expo  \\\n",
       "0   100  {'Taxonomy': ['MUR-ADO-H1-2', 'MUR-ADO-H1-2', ...   \n",
       "1  1002  {'Taxonomy': ['MUR-ADO-H1-2', 'MUR-H1-3', 'MUR...   \n",
       "2  1003  {'Taxonomy': ['MUR-ADO-H1-2', 'MUR-H1-3', 'MUR...   \n",
       "3  1004  {'Taxonomy': ['MUR-ADO-H1-2', 'MUR-H1-3', 'MUR...   \n",
       "4  1005  {'Taxonomy': ['MUR-ADO-H1-2', 'MUR-H1-3', 'MUR...   \n",
       "\n",
       "                                            geometry  \n",
       "0  MULTIPOLYGON (((-71.48738 -32.99569, -71.48628...  \n",
       "1  MULTIPOLYGON (((-71.49692 -33.19048, -71.52102...  \n",
       "2  MULTIPOLYGON (((-71.52951 -32.99708, -71.52926...  \n",
       "3  MULTIPOLYGON (((-71.52717 -33.01308, -71.52598...  \n",
       "4  MULTIPOLYGON (((-71.54862 -33.08271, -71.54903...  "
      ]
     },
     "execution_count": 48,
     "metadata": {},
     "output_type": "execute_result"
    }
   ],
   "source": [
    "updated_exposure_model_df.head()"
   ]
  },
  {
   "cell_type": "code",
   "execution_count": 49,
   "metadata": {},
   "outputs": [],
   "source": [
    "damage_reference = execution_deus.processOutputs[2].reference\n",
    "damage = requests.get(damage_reference).json()"
   ]
  },
  {
   "cell_type": "code",
   "execution_count": 50,
   "metadata": {},
   "outputs": [
    {
     "data": {
      "text/plain": [
       "'http://rz-vm140.gfz-potsdam.de:80/wps/RetrieveResultServlet?id=731ac02d-047b-42fe-9aa0-ad0e248f26a5damage.9730fcaf-e9d7-4600-ba26-9d6234694500'"
      ]
     },
     "execution_count": 50,
     "metadata": {},
     "output_type": "execute_result"
    }
   ],
   "source": [
    "damage_reference"
   ]
  },
  {
   "cell_type": "code",
   "execution_count": 51,
   "metadata": {},
   "outputs": [
    {
     "data": {
      "text/plain": [
       "\"{'features': [{'geometry': {'coordinates': [[[[-71.48737699955441, -32.995691999934614], [-71.48627500052956, -32.99721700014356], [-71.48756500025739, -33.000142999684215], [-71.49026700003029, -32.99759600019429], [-71.49016699980027, -32.99691399994977], [-71.4875840003787, -32.99563599984297], [-71.48737699955441, -32.995691999934614]]]], 'type': 'MultiPolygon'}, 'type': 'Feature', 'properties': {'loss_value': 1614000.7805206997, 'gid': '100', 'loss_unit': 'USD'}}, {'geometry': {'coordinates': [[[[-71.49691799976671, -33.19048300023117], [-71.52102199979039, -33.2039020004546], [-71.52427099995492, -33.19601399990537], [-71.5222619995992, -33.187941000374906], [-71.5101499996049, -33.182121999851525], [-71.49691600047437, -33.190435999619694], [-71.49691799976671, -33.19048300023117]]]], 'type': 'MultiPolygon'}, 'type': 'Feature', 'properties': {'loss_value': 0.0, 'gid': '1002', 'loss_unit': 'USD'}}, {'geometry': {'coordinates': [[[[-71.52951199959017, -32.99708099987643], [-71.5292640003219, -32.99888500039286], [-71.53284400051609, -33.00135099984512], [-71.53555299956153, -32.9968589998899], [-71.53489500040754, -32.99454800012388], [-71.5316010004164, -32.99480400036258], [-71.52951199959017, -32.99708099987643]]]], 'type': 'MultiPolygon'}, 'type': 'Feature', 'properties': {'loss_value': 0.0, 'gid': '1003', 'loss_unit': 'USD'}}, {'geometry': {'coordinates': [[[[-71.52717100045615, -33.01308099971641], [-71.52598000051245, -33.019371999959056], [-71.529130999612, -33.0224659996161], [-71.53089700006637, -33.022459999766255], [-71.53417600040922, -33.018955000254884], [-71.53388700043298, -33.015329000265076], [-71.53345400021563, -33.01486399988356], [-71.52839299979107, -33.01267500005749], [-71.52717100045615, -33.01308099971641]]]], 'type': 'MultiPolygon'}, 'type': 'Feature', 'properties': {'loss_value': 0.0, 'gid': '1004', 'loss_unit': 'USD'}}, {'geometry': {'coordinates': [[[[-71.54861899955581, -33.082714999880935], [-71.54902699983548, -33.08665800039884], [-71.55667000052526, -33.094022000394204], [-71.56250299982572, -33.09295599975693], [-71.56681700033721, -33.08473100004194], [-71.56442299977907, -33.077365000098084], [-71.56110500046208, -33.07456099976668], [-71.5575879996497, -33.075124000226346], [-71.54861899955581, -33.082714999880935]]]], 'type': 'MultiPolygon'}, 'type': 'Feature', 'properties': {'loss_value': 0.0, 'gid': '1005', 'loss_unit': 'USD'}}, {'geometry': {'coordinates': [[[[-71.65426799959559, -33.12561299972347], [-71.66008299959624, -33.130263999781185], [-71.66393899979298, -33.12846300006558], [-71.6643939995035, -33.12752799984645], [-71.66022600039699, -33.121081000108695], [-71.65941200038425, -33.12094899961906], [-71.65426799959559, -33.12561299972347]]]], 'type': 'MultiPolygon'}, 'type': 'Feature', 'properties': {'loss_value': 0.0, 'gid': '1006', 'loss_unit': 'USD'}}, {'geometry': {'coordinates': [[[[-71.50256999976685, -33.04041399979138], [-71.50028699988748, -33.044575999571435], [-71.5064869996737\""
      ]
     },
     "execution_count": 51,
     "metadata": {},
     "output_type": "execute_result"
    }
   ],
   "source": [
    "str(damage)[:3000]"
   ]
  },
  {
   "cell_type": "code",
   "execution_count": 52,
   "metadata": {},
   "outputs": [
    {
     "name": "stdout",
     "output_type": "stream",
     "text": [
      "27637483019.51 USD\n"
     ]
    }
   ],
   "source": [
    "sum_eq = 0\n",
    "for i, feature in enumerate(damage[\"features\"]):\n",
    "    sum_eq += feature[\"properties\"][\"loss_value\"]\n",
    "print(\"%.2f USD\" % sum_eq)"
   ]
  },
  {
   "cell_type": "code",
   "execution_count": 53,
   "metadata": {},
   "outputs": [
    {
     "data": {
      "application/vnd.jupyter.widget-view+json": {
       "model_id": "fff1874c15294e8397f84e4bb584375b",
       "version_major": 2,
       "version_minor": 0
      },
      "text/plain": [
       "VBox(children=(Map(center=[-33.094296, -71.613629], controls=(ZoomControl(options=['position', 'zoom_in_text',…"
      ]
     },
     "metadata": {},
     "output_type": "display_data"
    }
   ],
   "source": [
    "map_eq = ipyl.Map(center=[-33.094296, -71.613629], zoom=12)\n",
    "label_eq = ipyw.Label(layout=ipyw.Layout(width='100%'))\n",
    "\n",
    "maximum_eq = 0\n",
    "data_eq = damage.copy()\n",
    "\n",
    "for feature in data_eq['features']:\n",
    "    maximum_eq = max(maximum_eq, feature['properties']['loss_value'])\n",
    "\n",
    "for feature in data_eq['features']:\n",
    "    loss_value = feature['properties']['loss_value']\n",
    "    feature['properties']['style'] = {\n",
    "        'color': 'grey',\n",
    "        'weight': 1,\n",
    "        'fillColor': 'red',\n",
    "        'fillOpacity': loss_value / maximum_eq\n",
    "    }\n",
    "\n",
    "layer_eq = ipyl.GeoJSON(data=data_eq, hover_style={'fillColor': 'lightblue', 'fillOpacity': 1.0})\n",
    "\n",
    "def hover_handler_eq(event=None, id=None, feature=None, properties=None):\n",
    "    props = feature[\"properties\"].copy()\n",
    "    del props[\"style\"]\n",
    "    label_eq.value = str(props)\n",
    "\n",
    "layer_eq.on_hover(hover_handler_eq)\n",
    "map_eq.add_layer(layer_eq)\n",
    "\n",
    "ipyw.VBox([map_eq, label_eq])"
   ]
  },
  {
   "cell_type": "markdown",
   "metadata": {},
   "source": [
    "## Tsunami intensities"
   ]
  },
  {
   "cell_type": "code",
   "execution_count": 54,
   "metadata": {},
   "outputs": [
    {
     "name": "stdout",
     "output_type": "stream",
     "text": [
      "Successful: True\n"
     ]
    }
   ],
   "source": [
    "server_tsunami = wps.WebProcessingService(\"http://tsunami-wps.awi.de/wps\")\n",
    "execution_tsunami = server_tsunami.execute(\n",
    "    identifier=\"get_tsunamap\", \n",
    "    inputs=[\n",
    "        ('lon', wps.ComplexDataInput(\"-71.6541\")),\n",
    "        ('lat', wps.ComplexDataInput(\"-32.9336\")),\n",
    "        ('mag', wps.ComplexDataInput(\"8.0\"))\n",
    "    ],\n",
    "    output=[('tsunamap', True)]\n",
    ")\n",
    "\n",
    "wps.monitorExecution(execution_tsunami)\n",
    "print('Successful: {}'.format(execution_tsunami.isSucceded()))"
   ]
  },
  {
   "cell_type": "code",
   "execution_count": 55,
   "metadata": {},
   "outputs": [],
   "source": [
    "tsunami_shakemap_reference = execution_tsunami.processOutputs[0].reference"
   ]
  },
  {
   "cell_type": "code",
   "execution_count": 56,
   "metadata": {},
   "outputs": [
    {
     "data": {
      "text/plain": [
       "'http://tsunami-wps.awi.de/outputs/535e1d4c-5c9b-11eb-9c7f-02420a030102/input.xml'"
      ]
     },
     "execution_count": 56,
     "metadata": {},
     "output_type": "execute_result"
    }
   ],
   "source": [
    "tsunami_shakemap_reference"
   ]
  },
  {
   "cell_type": "markdown",
   "metadata": {},
   "source": [
    "## Calculate tsunami damage"
   ]
  },
  {
   "cell_type": "markdown",
   "metadata": {},
   "source": [
    "First get fragility functions for SUPPASRI:"
   ]
  },
  {
   "cell_type": "code",
   "execution_count": 57,
   "metadata": {},
   "outputs": [
    {
     "name": "stdout",
     "output_type": "stream",
     "text": [
      "Successful: True\n"
     ]
    }
   ],
   "source": [
    "execution_modelprop_sup = server.execute(\n",
    "    identifier=ID_MODELPROP, \n",
    "    inputs=[\n",
    "        ('schema', 'SUPPASRI2013_v2.0'),\n",
    "        ('assetcategory', 'buildings'),\n",
    "        ('losscategory', 'structural'),\n",
    "        ('taxonomies', ''),\n",
    "    ],\n",
    "    output=[('selectedRows', True)]\n",
    ")\n",
    "\n",
    "wps.monitorExecution(execution_modelprop_sup)\n",
    "print('Successful: {}'.format(execution_modelprop_sup.isSucceded()))"
   ]
  },
  {
   "cell_type": "code",
   "execution_count": 58,
   "metadata": {},
   "outputs": [],
   "source": [
    "modelprop_output_sup_reference = execution_modelprop_sup.processOutputs[0].reference\n",
    "modelprop_output_sup_pure = requests.get(modelprop_output_sup_reference).text"
   ]
  },
  {
   "cell_type": "markdown",
   "metadata": {},
   "source": [
    "Calling deus this time with updated exposure of the previous call and tsunami intensities:"
   ]
  },
  {
   "cell_type": "code",
   "execution_count": 59,
   "metadata": {},
   "outputs": [],
   "source": [
    "updated_exposure_model_pure = requests.get(updated_exposure_model_reference).text\n",
    "tsunami_shakemap_pure = requests.get(tsunami_shakemap_reference).text"
   ]
  },
  {
   "cell_type": "code",
   "execution_count": 60,
   "metadata": {},
   "outputs": [
    {
     "name": "stdout",
     "output_type": "stream",
     "text": [
      "Successful: True\n"
     ]
    }
   ],
   "source": [
    "execution_deus_tsunami = server.execute(\n",
    "    identifier=ID_DEUS, \n",
    "    inputs=[\n",
    "        ('schema', 'SARA_v1.0'),\n",
    "        ('exposure', wps.ComplexDataInput(updated_exposure_model_pure)),\n",
    "        ('fragility', wps.ComplexDataInput(modelprop_output_sup_pure)),\n",
    "        ('intensity', wps.ComplexDataInput(tsunami_shakemap_pure))\n",
    "    ],\n",
    "    output=[\n",
    "        ('updated_exposure', True),\n",
    "        ('transition', True),\n",
    "        ('damage', True),\n",
    "    ]\n",
    ")\n",
    "\n",
    "wps.monitorExecution(execution_deus_tsunami)\n",
    "print('Successful: {}'.format(execution_deus_tsunami.isSucceded()))"
   ]
  },
  {
   "cell_type": "code",
   "execution_count": 61,
   "metadata": {},
   "outputs": [],
   "source": [
    "updated_exposure_model_ts_reference = execution_deus_tsunami.processOutputs[0].reference\n",
    "updated_exposure_model_ts_df = gpd.read_file(updated_exposure_model_reference, )"
   ]
  },
  {
   "cell_type": "code",
   "execution_count": 62,
   "metadata": {},
   "outputs": [],
   "source": [
    "updated_exposure_model_transitions_ts =  requests.get(execution_deus_tsunami.processOutputs[1].reference).json()"
   ]
  },
  {
   "cell_type": "code",
   "execution_count": 63,
   "metadata": {},
   "outputs": [
    {
     "data": {
      "text/plain": [
       "\"{'features': [{'geometry': {'coordinates': [[[[-71.48737699955441, -32.995691999934614], [-71.48627500052956, -32.99721700014356], [-71.48756500025739, -33.000142999684215], [-71.49026700003029, -32.99759600019429], [-71.49016699980027, -32.99691399994977], [-71.4875840003787, -32.99563599984297], [-71.48737699955441, -32.995691999934614]]]], 'type': 'MultiPolygon'}, 'type': 'Feature', 'properties': {'gid': '100', 'transitions': {'n_buildings': [], 'replacement_costs_usd_bdg': [], 'taxonomy': [], 'to_damage_state': [], 'from_damage_state': []}}}, {'geometry': {'coordinates': [[[[-71.49691799976671, -33.19048300023117], [-71.52102199979039, -33.2039020004546], [-71.52427099995492, -33.19601399990537], [-71.5222619995992, -33.187941000374906], [-71.5101499996049, -33.182121999851525], [-71.49691600047437, -33.190435999619694], [-71.49691799976671, -33.19048300023117]]]], 'type': 'MultiPolygon'}, 'type': 'Feature', 'properties': {'gid': '1002', 'transitions': {'n_buildings': [], 'replacement_costs_usd_bdg': [], 'taxonomy': [], 'to_damage_state': [], 'from_damage_state': []}}}, {'geometry': {'coordinates': [[[[-71.52951199959017, -32.99708099987643], [-71.5292640003219, -32.99888500039286], [-71.53284400051609, -33.00135099984512], [-71.53555299956153, -32.9968589998899], [-71.53489500040754, -32.99454800012388], [-71.5316010004164, -32.99480400036258], [-71.52951199959017, -32.99708099987643]]]], 'type': 'MultiPolygon'}, 'type': 'Feature', 'properties': {'gid': '1003', 'transitions': {'n_buildings': [], 'replacement_costs_usd_bdg': [], 'taxonomy': [], 'to_damage_state': [], 'from_damage_state': []}}}, {'geometry': {'coordinates': [[[[-71.52717100045615, -33.01308099971641], [-71.52598000051245, -33.019371999959056], [-71.529130999612, -33.0224659996161], [-71.53089700006637, -33.022459999766255], [-71.53417600040922, -33.018955000254884], [-71.53388700043298, -33.015329000265076], [-71.53345400021563, -33.01486399988356], [-71.52839299979107, -33.01267500005749], [-71.52717100045615, -33.01308099971641]]]], 'type': 'MultiPolygon'}, 'type': 'Feature', 'properties': {'gid': '1004', 'transitions': {'n_buildings': [], 'replacement_costs_usd_bdg': [], 'taxonomy': [], 'to_damage_state': [], 'from_damage_state': []}}}, {'geometry': {'coordinates': [[[[-71.54861899955581, -33.082714999880935], [-71.54902699983548, -33.08665800039884], [-71.55667000052526, -33.094022000394204], [-71.56250299982572, -33.09295599975693], [-71.56681700033721, -33.08473100004194], [-71.56442299977907, -33.077365000098084], [-71.56110500046208, -33.07456099976668], [-71.5575879996497, -33.075124000226346], [-71.54861899955581, -33.082714999880935]]]], 'type': 'MultiPolygon'}, 'type': 'Feature', 'properties': {'gid': '1005', 'transitions': {'n_buildings': [], 'replacement_costs_usd_bdg': [], 'taxonomy': [], 'to_damage_state': [], 'from_damage_state': []}}}, {'geometry': {'coordinates': [[[[-71.65426799959559, -33.12561299972347], [-71.66008299959624, -33.130263999781185], [-71.663\""
      ]
     },
     "execution_count": 63,
     "metadata": {},
     "output_type": "execute_result"
    }
   ],
   "source": [
    "str(updated_exposure_model_transitions_ts)[:3000]"
   ]
  },
  {
   "cell_type": "code",
   "execution_count": 64,
   "metadata": {},
   "outputs": [
    {
     "data": {
      "text/html": [
       "<div>\n",
       "<style scoped>\n",
       "    .dataframe tbody tr th:only-of-type {\n",
       "        vertical-align: middle;\n",
       "    }\n",
       "\n",
       "    .dataframe tbody tr th {\n",
       "        vertical-align: top;\n",
       "    }\n",
       "\n",
       "    .dataframe thead th {\n",
       "        text-align: right;\n",
       "    }\n",
       "</style>\n",
       "<table border=\"1\" class=\"dataframe\">\n",
       "  <thead>\n",
       "    <tr style=\"text-align: right;\">\n",
       "      <th></th>\n",
       "      <th>gid</th>\n",
       "      <th>expo</th>\n",
       "      <th>geometry</th>\n",
       "    </tr>\n",
       "  </thead>\n",
       "  <tbody>\n",
       "    <tr>\n",
       "      <th>0</th>\n",
       "      <td>100</td>\n",
       "      <td>{'Taxonomy': ['MUR-ADO-H1-2', 'MUR-ADO-H1-2', ...</td>\n",
       "      <td>MULTIPOLYGON (((-71.48738 -32.99569, -71.48628...</td>\n",
       "    </tr>\n",
       "    <tr>\n",
       "      <th>1</th>\n",
       "      <td>1002</td>\n",
       "      <td>{'Taxonomy': ['MUR-ADO-H1-2', 'MUR-H1-3', 'MUR...</td>\n",
       "      <td>MULTIPOLYGON (((-71.49692 -33.19048, -71.52102...</td>\n",
       "    </tr>\n",
       "    <tr>\n",
       "      <th>2</th>\n",
       "      <td>1003</td>\n",
       "      <td>{'Taxonomy': ['MUR-ADO-H1-2', 'MUR-H1-3', 'MUR...</td>\n",
       "      <td>MULTIPOLYGON (((-71.52951 -32.99708, -71.52926...</td>\n",
       "    </tr>\n",
       "    <tr>\n",
       "      <th>3</th>\n",
       "      <td>1004</td>\n",
       "      <td>{'Taxonomy': ['MUR-ADO-H1-2', 'MUR-H1-3', 'MUR...</td>\n",
       "      <td>MULTIPOLYGON (((-71.52717 -33.01308, -71.52598...</td>\n",
       "    </tr>\n",
       "    <tr>\n",
       "      <th>4</th>\n",
       "      <td>1005</td>\n",
       "      <td>{'Taxonomy': ['MUR-ADO-H1-2', 'MUR-H1-3', 'MUR...</td>\n",
       "      <td>MULTIPOLYGON (((-71.54862 -33.08271, -71.54903...</td>\n",
       "    </tr>\n",
       "  </tbody>\n",
       "</table>\n",
       "</div>"
      ],
      "text/plain": [
       "    gid                                               expo  \\\n",
       "0   100  {'Taxonomy': ['MUR-ADO-H1-2', 'MUR-ADO-H1-2', ...   \n",
       "1  1002  {'Taxonomy': ['MUR-ADO-H1-2', 'MUR-H1-3', 'MUR...   \n",
       "2  1003  {'Taxonomy': ['MUR-ADO-H1-2', 'MUR-H1-3', 'MUR...   \n",
       "3  1004  {'Taxonomy': ['MUR-ADO-H1-2', 'MUR-H1-3', 'MUR...   \n",
       "4  1005  {'Taxonomy': ['MUR-ADO-H1-2', 'MUR-H1-3', 'MUR...   \n",
       "\n",
       "                                            geometry  \n",
       "0  MULTIPOLYGON (((-71.48738 -32.99569, -71.48628...  \n",
       "1  MULTIPOLYGON (((-71.49692 -33.19048, -71.52102...  \n",
       "2  MULTIPOLYGON (((-71.52951 -32.99708, -71.52926...  \n",
       "3  MULTIPOLYGON (((-71.52717 -33.01308, -71.52598...  \n",
       "4  MULTIPOLYGON (((-71.54862 -33.08271, -71.54903...  "
      ]
     },
     "execution_count": 64,
     "metadata": {},
     "output_type": "execute_result"
    }
   ],
   "source": [
    "updated_exposure_model_ts_df.head()"
   ]
  },
  {
   "cell_type": "code",
   "execution_count": 65,
   "metadata": {},
   "outputs": [],
   "source": [
    "damage_ts_reference = execution_deus_tsunami.processOutputs[2].reference\n",
    "damage_ts = requests.get(damage_ts_reference).json()"
   ]
  },
  {
   "cell_type": "code",
   "execution_count": 66,
   "metadata": {},
   "outputs": [
    {
     "data": {
      "text/plain": [
       "\"{'features': [{'geometry': {'coordinates': [[[[-71.48737699955441, -32.995691999934614], [-71.48627500052956, -32.99721700014356], [-71.48756500025739, -33.000142999684215], [-71.49026700003029, -32.99759600019429], [-71.49016699980027, -32.99691399994977], [-71.4875840003787, -32.99563599984297], [-71.48737699955441, -32.995691999934614]]]], 'type': 'MultiPolygon'}, 'type': 'Feature', 'properties': {'loss_value': 0.0, 'gid': '100', 'loss_unit': 'USD'}}, {'geometry': {'coordinates': [[[[-71.49691799976671, -33.19048300023117], [-71.52102199979039, -33.2039020004546], [-71.52427099995492, -33.19601399990537], [-71.5222619995992, -33.187941000374906], [-71.5101499996049, -33.182121999851525], [-71.49691600047437, -33.190435999619694], [-71.49691799976671, -33.19048300023117]]]], 'type': 'MultiPolygon'}, 'type': 'Feature', 'properties': {'loss_value': 0.0, 'gid': '1002', 'loss_unit': 'USD'}}, {'geometry': {'coordinates': [[[[-71.52951199959017, -32.99708099987643], [-71.5292640003219, -32.99888500039286], [-71.53284400051609, -33.00135099984512], [-71.53555299956153, -32.9968589998899], [-71.53489500040754, -32.99454800012388], [-71.5316010004164, -32.99480400036258], [-71.52951199959017, -32.99708099987643]]]], 'type': 'MultiPolygon'}, 'type': 'Feature', 'properties': {'loss_value': 0.0, 'gid': '1003', 'loss_unit': 'USD'}}, {'geometry': {'coordinates': [[[[-71.52717100045615, -33.01308099971641], [-71.52598000051245, -33.019371999959056], [-71.529130999612, -33.0224659996161], [-71.53089700006637, -33.022459999766255], [-71.53417600040922, -33.018955000254884], [-71.53388700043298, -33.015329000265076], [-71.53345400021563, -33.01486399988356], [-71.52839299979107, -33.01267500005749], [-71.52717100045615, -33.01308099971641]]]], 'type': 'MultiPolygon'}, 'type': 'Feature', 'properties': {'loss_value': 0.0, 'gid': '1004', 'loss_unit': 'USD'}}, {'geometry': {'coordinates': [[[[-71.54861899955581, -33.082714999880935], [-71.54902699983548, -33.08665800039884], [-71.55667000052526, -33.094022000394204], [-71.56250299982572, -33.09295599975693], [-71.56681700033721, -33.08473100004194], [-71.56442299977907, -33.077365000098084], [-71.56110500046208, -33.07456099976668], [-71.5575879996497, -33.075124000226346], [-71.54861899955581, -33.082714999880935]]]], 'type': 'MultiPolygon'}, 'type': 'Feature', 'properties': {'loss_value': 0.0, 'gid': '1005', 'loss_unit': 'USD'}}, {'geometry': {'coordinates': [[[[-71.65426799959559, -33.12561299972347], [-71.66008299959624, -33.130263999781185], [-71.66393899979298, -33.12846300006558], [-71.6643939995035, -33.12752799984645], [-71.66022600039699, -33.121081000108695], [-71.65941200038425, -33.12094899961906], [-71.65426799959559, -33.12561299972347]]]], 'type': 'MultiPolygon'}, 'type': 'Feature', 'properties': {'loss_value': 0.0, 'gid': '1006', 'loss_unit': 'USD'}}, {'geometry': {'coordinates': [[[[-71.50256999976685, -33.04041399979138], [-71.50028699988748, -33.044575999571435], [-71.50648699967374, -33.04407699\""
      ]
     },
     "execution_count": 66,
     "metadata": {},
     "output_type": "execute_result"
    }
   ],
   "source": [
    "str(damage_ts)[:3000]"
   ]
  },
  {
   "cell_type": "code",
   "execution_count": 67,
   "metadata": {},
   "outputs": [
    {
     "name": "stdout",
     "output_type": "stream",
     "text": [
      "540334896.95 USD\n"
     ]
    }
   ],
   "source": [
    "sum_ts = 0\n",
    "for i, feature in enumerate(damage_ts[\"features\"]):\n",
    "    sum_ts += feature[\"properties\"][\"loss_value\"]\n",
    "print(\"%.2f USD\" % sum_ts)"
   ]
  },
  {
   "cell_type": "code",
   "execution_count": 68,
   "metadata": {},
   "outputs": [
    {
     "data": {
      "application/vnd.jupyter.widget-view+json": {
       "model_id": "b518078721b54f798609b01c2e928265",
       "version_major": 2,
       "version_minor": 0
      },
      "text/plain": [
       "VBox(children=(Map(center=[-33.094296, -71.613629], controls=(ZoomControl(options=['position', 'zoom_in_text',…"
      ]
     },
     "metadata": {},
     "output_type": "display_data"
    }
   ],
   "source": [
    "# Map and label widgets\n",
    "map_ts = ipyl.Map(center=[-33.094296, -71.613629], zoom=12)\n",
    "label_ts = ipyw.Label(layout=ipyw.Layout(width='100%'))\n",
    "\n",
    "maximum_ts = 0\n",
    "data_ts = damage_ts.copy()\n",
    "\n",
    "for feature in data_ts['features']:\n",
    "    maximum_ts = max(maximum_ts, feature['properties']['loss_value'])\n",
    "\n",
    "for feature in data_ts['features']:\n",
    "    loss_value = feature['properties']['loss_value']\n",
    "    feature['properties']['style'] = {\n",
    "        'color': 'grey',\n",
    "        'weight': 1,\n",
    "        'fillColor': 'red',\n",
    "        'fillOpacity': loss_value / maximum_ts\n",
    "    }\n",
    "\n",
    "layer_ts = ipyl.GeoJSON(data=data_ts, hover_style={'fillColor': 'lightblue', 'fillOpacity': 1.0})\n",
    "\n",
    "def hover_handler_ts(event=None, id=None, feature=None, properties=None):\n",
    "    props = feature[\"properties\"].copy()\n",
    "    del props[\"style\"]\n",
    "    label_ts.value = str(props)\n",
    "\n",
    "layer_ts.on_hover(hover_handler_ts)\n",
    "map_ts.add_layer(layer_ts)\n",
    "\n",
    "ipyw.VBox([map_ts, label_ts])"
   ]
  },
  {
   "cell_type": "code",
   "execution_count": null,
   "metadata": {},
   "outputs": [],
   "source": []
  }
 ],
 "metadata": {
  "kernelspec": {
   "display_name": "wps-pipeline-notebook",
   "language": "python",
   "name": "wps-pipeline-notebook"
  },
  "language_info": {
   "codemirror_mode": {
    "name": "ipython",
    "version": 3
   },
   "file_extension": ".py",
   "mimetype": "text/x-python",
   "name": "python",
   "nbconvert_exporter": "python",
   "pygments_lexer": "ipython3",
   "version": "3.8.5"
  }
 },
 "nbformat": 4,
 "nbformat_minor": 2
}
