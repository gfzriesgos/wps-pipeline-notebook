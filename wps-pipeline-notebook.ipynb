{
 "cells": [
  {
   "cell_type": "markdown",
   "metadata": {},
   "source": [
    "# wps-pipeline-notebook\n",
    "\n",
    "This is jupyter notebook for the example use of the wps services that are provided by the GFZ in the RIESGOS project.\n"
   ]
  },
  {
   "cell_type": "code",
   "execution_count": 23,
   "metadata": {},
   "outputs": [],
   "source": [
    "%load_ext autoreload\n",
    "%autoreload 2\n",
    "import owslib.wps as wps\n",
    "import requests\n",
    "import geopandas as gpd\n",
    "import matplotlib.pyplot as plt\n",
    "from scipy.stats import lognorm\n",
    "import numpy as np\n",
    "import lxml.etree as le\n",
    "from mpl_toolkits.basemap import Basemap\n",
    "#\n",
    "%matplotlib inline"
   ]
  },
  {
   "cell_type": "code",
   "execution_count": 2,
   "metadata": {},
   "outputs": [],
   "source": [
    "WPS_URL = 'http://rz-vm140.gfz-potsdam.de/wps/WebProcessingService'"
   ]
  },
  {
   "cell_type": "code",
   "execution_count": 3,
   "metadata": {},
   "outputs": [],
   "source": [
    "server = wps.WebProcessingService(WPS_URL)"
   ]
  },
  {
   "cell_type": "markdown",
   "metadata": {},
   "source": [
    "So lets see what processes are supported:"
   ]
  },
  {
   "cell_type": "code",
   "execution_count": 4,
   "metadata": {},
   "outputs": [
    {
     "data": {
      "text/plain": [
       "[<owslib.wps.Process org.n52.wps.server.algorithm.r.AnnotationValidation>,\n",
       " <owslib.wps.Process org.n52.gfz.riesgos.algorithm.impl.ShakemapTransformationProcess>,\n",
       " <owslib.wps.Process org.n52.gfz.riesgos.algorithm.impl.FlooddamageTiffDownloader>,\n",
       " <owslib.wps.Process org.n52.gfz.riesgos.algorithm.impl.NrmlCacheReader>,\n",
       " <owslib.wps.Process org.n52.gfz.riesgos.algorithm.impl.ShakemapCacheReader>,\n",
       " <owslib.wps.Process org.n52.gfz.riesgos.algorithm.impl.CachedFlooddamageTiffDownloader>,\n",
       " <owslib.wps.Process org.n52.gfz.riesgos.algorithm.impl.GeotiffBindingCacheReader>,\n",
       " <owslib.wps.Process org.n52.gfz.riesgos.algorithm.impl.CachedSystemReliabilityProcess>,\n",
       " <owslib.wps.Process org.n52.gfz.riesgos.algorithm.impl.SystemReliabilityProcess>,\n",
       " <owslib.wps.Process org.n52.gfz.riesgos.algorithm.impl.FlooddamageProcess>,\n",
       " <owslib.wps.Process org.n52.gfz.riesgos.algorithm.impl.ShakygroundProcess>,\n",
       " <owslib.wps.Process org.n52.gfz.riesgos.algorithm.impl.QuakeledgerProcess>,\n",
       " <owslib.wps.Process org.n52.gfz.riesgos.algorithm.impl.QuakeMLTransformationProcess>,\n",
       " <owslib.wps.Process org.n52.gfz.riesgos.algorithm.impl.QuakeMLCacheReader>,\n",
       " <owslib.wps.Process org.n52.gfz.riesgos.algorithm.impl.CachedAssetmasterProcess>,\n",
       " <owslib.wps.Process org.n52.gfz.riesgos.algorithm.impl.CachedModelpropProcess>,\n",
       " <owslib.wps.Process org.n52.gfz.riesgos.algorithm.impl.JSONCacheReader>,\n",
       " <owslib.wps.Process org.n52.gfz.riesgos.algorithm.impl.CachedShakygroundProcess>,\n",
       " <owslib.wps.Process org.n52.gfz.riesgos.algorithm.impl.CachedFlooddamageProcess>,\n",
       " <owslib.wps.Process org.n52.gfz.riesgos.algorithm.impl.GTVectorCacheReader>,\n",
       " <owslib.wps.Process org.n52.gfz.riesgos.algorithm.impl.AssetmasterProcess>,\n",
       " <owslib.wps.Process org.n52.gfz.riesgos.algorithm.impl.NrmlTransformationProcess>,\n",
       " <owslib.wps.Process org.n52.gfz.riesgos.algorithm.impl.CachedDeusProcess>,\n",
       " <owslib.wps.Process org.n52.gfz.riesgos.algorithm.impl.CachedQuakeledgerProcess>,\n",
       " <owslib.wps.Process org.n52.gfz.riesgos.algorithm.impl.ModelpropProcess>,\n",
       " <owslib.wps.Process org.n52.gfz.riesgos.algorithm.impl.DeusProcess>,\n",
       " <owslib.wps.Process org.n52.wps.server.algorithm.JTSConvexHullAlgorithm>,\n",
       " <owslib.wps.Process org.n52.wps.server.algorithm.test.DummyTestClass>,\n",
       " <owslib.wps.Process org.n52.wps.server.algorithm.test.EchoProcess>,\n",
       " <owslib.wps.Process org.n52.wps.server.algorithm.test.LongRunningDummyTestClass>,\n",
       " <owslib.wps.Process org.n52.wps.server.algorithm.test.MultiReferenceBinaryInputAlgorithm>,\n",
       " <owslib.wps.Process org.n52.wps.server.algorithm.test.MultiReferenceInputAlgorithm>,\n",
       " <owslib.wps.Process org.n52.wps.server.algorithm.test.MultipleComplexInAndOutputsDummyTestClass>]"
      ]
     },
     "execution_count": 4,
     "metadata": {},
     "output_type": "execute_result"
    }
   ],
   "source": [
    "server.processes"
   ]
  },
  {
   "cell_type": "markdown",
   "metadata": {},
   "source": [
    "Some of them are test processes, some others are included by default.\n",
    "We will focus on the following:\n",
    "\n",
    "| Process | Use case |\n",
    "|---------|----------|\n",
    "| Assetmaster | Extraction of the exposure model for a given location |\n",
    "| Modelprop | Extraction of the vulnerability model with the fragility functions |\n",
    "| Quakeledger | Earth quake catalog that we use to search for specific events |\n",
    "| Shakyground | Computation of the pga for a given event |\n",
    "| Deus | Update of the exposure model with damage states after using the intensities of a given event |\n",
    "\n",
    "The processes are following a pipeline.\n",
    "\n",
    "1. Assetmaster\n",
    "2. Modelprop\n",
    "3. Quakeledger\n",
    "4. Shakyground\n",
    "5. Deus\n",
    "\n",
    "The order for assetmaster, modelprop and quakeledger can change is not strongly needed. They can be used in any order. However we need to use quakeledger before shakyground and we have to use all other processes before deus (as it needs the exposure model, the fragility functions and the intenstities computed in shakyground)."
   ]
  },
  {
   "cell_type": "markdown",
   "metadata": {},
   "source": [
    "## Assetmaster\n",
    "We will start working with the assetmaster dataset."
   ]
  },
  {
   "cell_type": "code",
   "execution_count": 5,
   "metadata": {},
   "outputs": [],
   "source": [
    "ID_ASSETMASTER = 'org.n52.gfz.riesgos.algorithm.impl.AssetmasterProcess'"
   ]
  },
  {
   "cell_type": "code",
   "execution_count": 6,
   "metadata": {},
   "outputs": [
    {
     "name": "stdout",
     "output_type": "stream",
     "text": [
      "Successful: True\n"
     ]
    }
   ],
   "source": [
    "execution_assetmaster = server.execute(\n",
    "    identifier=ID_ASSETMASTER, \n",
    "    inputs=[\n",
    "        ('lonmin', '-71.8'),\n",
    "        ('lonmax', '-71.4'),\n",
    "        ('latmin', '-33.2'),\n",
    "        ('latmax', '-33.0'),\n",
    "        ('schema', 'SARA_v1.0'),\n",
    "        ('assettype', 'res'),\n",
    "        ('querymode', 'intersects')\n",
    "    ],\n",
    "    output=[('selectedRowsGeoJson', True)]\n",
    ")\n",
    "\n",
    "wps.monitorExecution(execution_assetmaster)\n",
    "print('Successful: {}'.format(execution_assetmaster.isSucceded()))"
   ]
  },
  {
   "cell_type": "code",
   "execution_count": 7,
   "metadata": {},
   "outputs": [],
   "source": [
    "assetmaster_output_reference = execution_assetmaster.processOutputs[0].reference\n",
    "assetmaster_output = gpd.read_file(assetmaster_output_reference)"
   ]
  },
  {
   "cell_type": "code",
   "execution_count": 8,
   "metadata": {},
   "outputs": [
    {
     "data": {
      "text/html": [
       "<div>\n",
       "<style scoped>\n",
       "    .dataframe tbody tr th:only-of-type {\n",
       "        vertical-align: middle;\n",
       "    }\n",
       "\n",
       "    .dataframe tbody tr th {\n",
       "        vertical-align: top;\n",
       "    }\n",
       "\n",
       "    .dataframe thead th {\n",
       "        text-align: right;\n",
       "    }\n",
       "</style>\n",
       "<table border=\"1\" class=\"dataframe\">\n",
       "  <thead>\n",
       "    <tr style=\"text-align: right;\">\n",
       "      <th></th>\n",
       "      <th>gid</th>\n",
       "      <th>name</th>\n",
       "      <th>expo</th>\n",
       "      <th>geometry</th>\n",
       "    </tr>\n",
       "  </thead>\n",
       "  <tbody>\n",
       "    <tr>\n",
       "      <td>0</td>\n",
       "      <td>CHL.16.7.3_1</td>\n",
       "      <td>Quilpue</td>\n",
       "      <td>{'Repl_cost_USD/bdg': {'1022': 288000.0, '1033...</td>\n",
       "      <td>(POLYGON ((-71.44433593749994 -33.082408905029...</td>\n",
       "    </tr>\n",
       "    <tr>\n",
       "      <td>1</td>\n",
       "      <td>CHL.16.7.5_1</td>\n",
       "      <td>Valparaiso</td>\n",
       "      <td>{'Repl_cost_USD/bdg': {'907': 35000.0, '918': ...</td>\n",
       "      <td>(POLYGON ((-71.68458557128906 -33.102466583251...</td>\n",
       "    </tr>\n",
       "    <tr>\n",
       "      <td>2</td>\n",
       "      <td>CHL.16.7.7_1</td>\n",
       "      <td>Vina del Mar</td>\n",
       "      <td>{'Repl_cost_USD/bdg': {'1091': 288000.0, '1090...</td>\n",
       "      <td>(POLYGON ((-71.55708312988281 -33.014583587646...</td>\n",
       "    </tr>\n",
       "  </tbody>\n",
       "</table>\n",
       "</div>"
      ],
      "text/plain": [
       "            gid          name  \\\n",
       "0  CHL.16.7.3_1       Quilpue   \n",
       "1  CHL.16.7.5_1    Valparaiso   \n",
       "2  CHL.16.7.7_1  Vina del Mar   \n",
       "\n",
       "                                                expo  \\\n",
       "0  {'Repl_cost_USD/bdg': {'1022': 288000.0, '1033...   \n",
       "1  {'Repl_cost_USD/bdg': {'907': 35000.0, '918': ...   \n",
       "2  {'Repl_cost_USD/bdg': {'1091': 288000.0, '1090...   \n",
       "\n",
       "                                            geometry  \n",
       "0  (POLYGON ((-71.44433593749994 -33.082408905029...  \n",
       "1  (POLYGON ((-71.68458557128906 -33.102466583251...  \n",
       "2  (POLYGON ((-71.55708312988281 -33.014583587646...  "
      ]
     },
     "execution_count": 8,
     "metadata": {},
     "output_type": "execute_result"
    }
   ],
   "source": [
    "assetmaster_output.head()"
   ]
  },
  {
   "cell_type": "markdown",
   "metadata": {},
   "source": [
    "### TODO\n",
    "Add a basemap for the cells."
   ]
  },
  {
   "cell_type": "code",
   "execution_count": 9,
   "metadata": {},
   "outputs": [
    {
     "data": {
      "text/plain": [
       "<matplotlib.axes._subplots.AxesSubplot at 0x7f0f1a980518>"
      ]
     },
     "execution_count": 9,
     "metadata": {},
     "output_type": "execute_result"
    },
    {
     "data": {
      "image/png": "[encoded data removed]",
      "text/plain": [
       "<Figure size 432x288 with 1 Axes>"
      ]
     },
     "metadata": {
      "needs_background": "light"
     },
     "output_type": "display_data"
    }
   ],
   "source": [
    "assetmaster_output.plot()"
   ]
  },
  {
   "cell_type": "markdown",
   "metadata": {},
   "source": [
    "## Modelprop\n",
    "Next is the modelprop process."
   ]
  },
  {
   "cell_type": "code",
   "execution_count": 10,
   "metadata": {},
   "outputs": [],
   "source": [
    "ID_MODELPROP = 'org.n52.gfz.riesgos.algorithm.impl.ModelpropProcess'"
   ]
  },
  {
   "cell_type": "code",
   "execution_count": 11,
   "metadata": {},
   "outputs": [
    {
     "name": "stdout",
     "output_type": "stream",
     "text": [
      "Successful: True\n"
     ]
    }
   ],
   "source": [
    "execution_modelprop = server.execute(\n",
    "    identifier=ID_MODELPROP, \n",
    "    inputs=[\n",
    "        ('schema', 'SARA_v1.0'),\n",
    "        ('assetcategory', 'buildings'),\n",
    "        ('losscategory', 'structural'),\n",
    "    ],\n",
    "    output=[('selectedRows', True)]\n",
    ")\n",
    "\n",
    "wps.monitorExecution(execution_modelprop)\n",
    "print('Successful: {}'.format(execution_modelprop.isSucceded()))"
   ]
  },
  {
   "cell_type": "code",
   "execution_count": 12,
   "metadata": {},
   "outputs": [],
   "source": [
    "modelprop_output_reference = execution_modelprop.processOutputs[0].reference\n",
    "modelprop_output = requests.get(modelprop_output_reference).json()"
   ]
  },
  {
   "cell_type": "code",
   "execution_count": 13,
   "metadata": {},
   "outputs": [
    {
     "data": {
      "text/plain": [
       "{'data': [{'D1_stddev': 0.8,\n",
       "   'D1_mean': 5.9,\n",
       "   'D2_stddev': 0.8,\n",
       "   'D4_mean': 8.2,\n",
       "   'D4_stddev': 0.8,\n",
       "   'D3_mean': 7.3,\n",
       "   'D3_stddev': 0.8,\n",
       "   'D5_stddev': 0.8,\n",
       "   'taxonomy': 'URM1',\n",
       "   'im_min': 1.0,\n",
       "   'imu': 'g',\n",
       "   'im_max': 12.0,\n",
       "   'D2_mean': 6.7,\n",
       "   'imt': 'pga',\n",
       "   'D5_mean': 9.2,\n",
       "   'id': 'unique_id'},\n",
       "  {'D1_stddev': 0.9,\n",
       "   'D1_mean': 6.2,\n",
       "   'D2_stddev': 0.9,\n",
       "   'D4_mean': 8.7,\n",
       "   'D4_stddev': 0.9,\n",
       "   'D3_mean': 7.8,\n",
       "   'D3_stddev': 0.9,\n",
       "   'D5_stddev': 0.9,\n",
       "   'taxonomy': 'URM2',\n",
       "   'im_min': 1.0,\n",
       "   'imu': 'g',\n",
       "   'im_max': 12.0,\n",
       "   'D2_mean': 7.0,\n",
       "   'imt': 'pga',\n",
       "   'D5_mean': 9.8,\n",
       "   'id': 'unique_id'},\n",
       "  {'D1_stddev': 1.0,\n",
       "   'D1_mean': 7.6,\n",
       "   'D2_stddev': 1.0,\n",
       "   'D4_mean': 10.5,\n",
       "   'D4_stddev': 1.0,\n",
       "   'D3_mean': 9.6,\n",
       "   'D3_stddev': 1.0,\n",
       "   'D5_stddev': 1.0,\n",
       "   'taxonomy': 'CM',\n",
       "   'im_min': 1.0,\n",
       "   'imu': 'g',\n",
       "   'im_max': 12.0,\n",
       "   'D2_mean': 8.7,\n",
       "   'imt': 'pga',\n",
       "   'D5_mean': 11.5,\n",
       "   'id': 'unique_id'},\n",
       "  {'D1_stddev': 1.0,\n",
       "   'D1_mean': 7.6,\n",
       "   'D2_stddev': 1.0,\n",
       "   'D4_mean': 10.5,\n",
       "   'D4_stddev': 1.0,\n",
       "   'D3_mean': 9.6,\n",
       "   'D3_stddev': 1.0,\n",
       "   'D5_stddev': 1.0,\n",
       "   'taxonomy': 'RM',\n",
       "   'im_min': 1.0,\n",
       "   'imu': 'g',\n",
       "   'im_max': 12.0,\n",
       "   'D2_mean': 8.7,\n",
       "   'imt': 'pga',\n",
       "   'D5_mean': 11.5,\n",
       "   'id': 'unique_id'},\n",
       "  {'D1_stddev': 1.0,\n",
       "   'D1_mean': 7.4,\n",
       "   'D2_stddev': 1.0,\n",
       "   'D4_mean': 10.2,\n",
       "   'D4_stddev': 1.0,\n",
       "   'D3_mean': 9.3,\n",
       "   'D3_stddev': 1.0,\n",
       "   'D5_stddev': 1.0,\n",
       "   'taxonomy': 'RC1',\n",
       "   'im_min': 1.0,\n",
       "   'imu': 'g',\n",
       "   'im_max': 12.0,\n",
       "   'D2_mean': 8.4,\n",
       "   'imt': 'pga',\n",
       "   'D5_mean': 11.3,\n",
       "   'id': 'unique_id'},\n",
       "  {'D1_stddev': 1.0,\n",
       "   'D1_mean': 7.7,\n",
       "   'D2_stddev': 1.0,\n",
       "   'D4_mean': 10.6,\n",
       "   'D4_stddev': 1.0,\n",
       "   'D3_mean': 9.7,\n",
       "   'D3_stddev': 1.0,\n",
       "   'D5_stddev': 1.0,\n",
       "   'taxonomy': 'RC2',\n",
       "   'im_min': 1.0,\n",
       "   'imu': 'g',\n",
       "   'im_max': 12.0,\n",
       "   'D2_mean': 8.7,\n",
       "   'imt': 'pga',\n",
       "   'D5_mean': 11.6,\n",
       "   'id': 'unique_id'},\n",
       "  {'D1_stddev': 0.9,\n",
       "   'D1_mean': 6.8,\n",
       "   'D2_stddev': 0.9,\n",
       "   'D4_mean': 9.5,\n",
       "   'D4_stddev': 0.9,\n",
       "   'D3_mean': 8.6,\n",
       "   'D3_stddev': 0.9,\n",
       "   'D5_stddev': 0.9,\n",
       "   'taxonomy': 'RC3',\n",
       "   'im_min': 1.0,\n",
       "   'imu': 'g',\n",
       "   'im_max': 12.0,\n",
       "   'D2_mean': 7.7,\n",
       "   'imt': 'pga',\n",
       "   'D5_mean': 10.6,\n",
       "   'id': 'unique_id'},\n",
       "  {'D1_stddev': 1.0,\n",
       "   'D1_mean': 8.0,\n",
       "   'D2_stddev': 1.0,\n",
       "   'D4_mean': 10.9,\n",
       "   'D4_stddev': 1.0,\n",
       "   'D3_mean': 10.0,\n",
       "   'D3_stddev': 1.0,\n",
       "   'D5_stddev': 1.0,\n",
       "   'taxonomy': 'RC4',\n",
       "   'im_min': 1.0,\n",
       "   'imu': 'g',\n",
       "   'im_max': 12.0,\n",
       "   'D2_mean': 9.1,\n",
       "   'imt': 'pga',\n",
       "   'D5_mean': 11.9,\n",
       "   'id': 'unique_id'},\n",
       "  {'D1_stddev': 1.0,\n",
       "   'D1_mean': 8.2,\n",
       "   'D2_stddev': 1.0,\n",
       "   'D4_mean': 11.1,\n",
       "   'D4_stddev': 1.0,\n",
       "   'D3_mean': 10.2,\n",
       "   'D3_stddev': 1.0,\n",
       "   'D5_stddev': 1.0,\n",
       "   'taxonomy': 'RCPC1',\n",
       "   'im_min': 1.0,\n",
       "   'imu': 'g',\n",
       "   'im_max': 12.0,\n",
       "   'D2_mean': 9.3,\n",
       "   'imt': 'pga',\n",
       "   'D5_mean': 12.1,\n",
       "   'id': 'unique_id'},\n",
       "  {'D1_stddev': 1.0,\n",
       "   'D1_mean': 8.5,\n",
       "   'D2_stddev': 1.0,\n",
       "   'D4_mean': 11.4,\n",
       "   'D4_stddev': 1.0,\n",
       "   'D3_mean': 10.5,\n",
       "   'D3_stddev': 1.0,\n",
       "   'D5_stddev': 1.0,\n",
       "   'taxonomy': 'RCPC464',\n",
       "   'im_min': 1.0,\n",
       "   'imu': 'g',\n",
       "   'im_max': 12.0,\n",
       "   'D2_mean': 9.6,\n",
       "   'imt': 'pga',\n",
       "   'D5_mean': 12.5,\n",
       "   'id': 'unique_id'},\n",
       "  {'D1_stddev': 0.9,\n",
       "   'D1_mean': 6.4,\n",
       "   'D2_stddev': 0.9,\n",
       "   'D4_mean': 9.0,\n",
       "   'D4_stddev': 0.9,\n",
       "   'D3_mean': 8.1,\n",
       "   'D3_stddev': 0.9,\n",
       "   'D5_stddev': 0.9,\n",
       "   'taxonomy': 'RCPC2',\n",
       "   'im_min': 1.0,\n",
       "   'imu': 'g',\n",
       "   'im_max': 12.0,\n",
       "   'D2_mean': 7.3,\n",
       "   'imt': 'pga',\n",
       "   'D5_mean': 10.1,\n",
       "   'id': 'unique_id'},\n",
       "  {'D1_stddev': 1.0,\n",
       "   'D1_mean': 7.6,\n",
       "   'D2_stddev': 1.0,\n",
       "   'D4_mean': 10.5,\n",
       "   'D4_stddev': 1.0,\n",
       "   'D3_mean': 9.6,\n",
       "   'D3_stddev': 1.0,\n",
       "   'D5_stddev': 1.0,\n",
       "   'taxonomy': 'RCPC111',\n",
       "   'im_min': 1.0,\n",
       "   'imu': 'g',\n",
       "   'im_max': 12.0,\n",
       "   'D2_mean': 8.7,\n",
       "   'imt': 'pga',\n",
       "   'D5_mean': 11.5,\n",
       "   'id': 'unique_id'},\n",
       "  {'D1_stddev': 0.7,\n",
       "   'D1_mean': 5.6,\n",
       "   'D2_stddev': 0.7,\n",
       "   'D4_mean': 7.5,\n",
       "   'D4_stddev': 0.7,\n",
       "   'D3_mean': 6.8,\n",
       "   'D3_stddev': 0.7,\n",
       "   'D5_stddev': 0.7,\n",
       "   'taxonomy': 'ADO',\n",
       "   'im_min': 1.0,\n",
       "   'imu': 'g',\n",
       "   'im_max': 12.0,\n",
       "   'D2_mean': 6.3,\n",
       "   'imt': 'pga',\n",
       "   'D5_mean': 8.4,\n",
       "   'id': 'unique_id'},\n",
       "  {'D1_stddev': 0.9,\n",
       "   'D1_mean': 6.7,\n",
       "   'D2_stddev': 0.9,\n",
       "   'D4_mean': 9.5,\n",
       "   'D4_stddev': 0.9,\n",
       "   'D3_mean': 8.6,\n",
       "   'D3_stddev': 0.9,\n",
       "   'D5_stddev': 0.9,\n",
       "   'taxonomy': 'WOOD1',\n",
       "   'im_min': 1.0,\n",
       "   'imu': 'g',\n",
       "   'im_max': 12.0,\n",
       "   'D2_mean': 7.7,\n",
       "   'imt': 'pga',\n",
       "   'D5_mean': 10.5,\n",
       "   'id': 'unique_id'},\n",
       "  {'D1_stddev': 0.9,\n",
       "   'D1_mean': 6.7,\n",
       "   'D2_stddev': 0.9,\n",
       "   'D4_mean': 9.5,\n",
       "   'D4_stddev': 0.9,\n",
       "   'D3_mean': 8.6,\n",
       "   'D3_stddev': 0.9,\n",
       "   'D5_stddev': 0.9,\n",
       "   'taxonomy': 'WOOD2',\n",
       "   'im_min': 1.0,\n",
       "   'imu': 'g',\n",
       "   'im_max': 12.0,\n",
       "   'D2_mean': 7.7,\n",
       "   'imt': 'pga',\n",
       "   'D5_mean': 10.5,\n",
       "   'id': 'unique_id'},\n",
       "  {'D1_stddev': 1.0,\n",
       "   'D1_mean': 9.3,\n",
       "   'D2_stddev': 1.0,\n",
       "   'D4_mean': 12.3,\n",
       "   'D4_stddev': 1.0,\n",
       "   'D3_mean': 11.3,\n",
       "   'D3_stddev': 1.0,\n",
       "   'D5_stddev': 1.0,\n",
       "   'taxonomy': 'STEEL',\n",
       "   'im_min': 1.0,\n",
       "   'imu': 'g',\n",
       "   'im_max': 12.0,\n",
       "   'D2_mean': 10.4,\n",
       "   'imt': 'pga',\n",
       "   'D5_mean': 13.4,\n",
       "   'id': 'unique_id'}],\n",
       " 'meta': {'shape': 'logncdf',\n",
       "  'lossCategory': 'structural',\n",
       "  'taxonomies': ['URM1',\n",
       "   'URM2',\n",
       "   'CM',\n",
       "   'RM',\n",
       "   'RC1',\n",
       "   'RC2',\n",
       "   'RC3',\n",
       "   'RC4',\n",
       "   'RCPC1',\n",
       "   'RCPC464',\n",
       "   'RCPC2',\n",
       "   'RCPC111',\n",
       "   'ADO',\n",
       "   'WOOD1',\n",
       "   'WOOD2',\n",
       "   'STEEL'],\n",
       "  'no_damage': 'D0',\n",
       "  'assetCategory': 'buildings',\n",
       "  'format': 'continuous',\n",
       "  'description': 'GEM-SARA Model, project RIESGOS',\n",
       "  'id': 'SARA_v1.0',\n",
       "  'damage_states': 'HAZUS',\n",
       "  'limit_states': ['D1', 'D2', 'D3', 'D4', 'D5'],\n",
       "  'taxonomy_source': 'GEM'}}"
      ]
     },
     "execution_count": 13,
     "metadata": {},
     "output_type": "execute_result"
    }
   ],
   "source": [
    "modelprop_output"
   ]
  },
  {
   "cell_type": "code",
   "execution_count": 14,
   "metadata": {},
   "outputs": [],
   "source": [
    "urm1_functions = [x for x in modelprop_output['data'] if x['taxonomy'] == 'URM1'][0]"
   ]
  },
  {
   "cell_type": "code",
   "execution_count": 15,
   "metadata": {},
   "outputs": [],
   "source": [
    "cdf_urm1_d4 = lognorm(scale=np.exp(urm1_functions['D4_mean']), s=urm1_functions['D4_stddev']).cdf"
   ]
  },
  {
   "cell_type": "code",
   "execution_count": 16,
   "metadata": {},
   "outputs": [
    {
     "data": {
      "text/plain": [
       "[<matplotlib.lines.Line2D at 0x7f0f16bc9dd8>]"
      ]
     },
     "execution_count": 16,
     "metadata": {},
     "output_type": "execute_result"
    },
    {
     "data": {
      "image/png": "[encoded data removed]",
      "text/plain": [
       "<Figure size 432x288 with 1 Axes>"
      ]
     },
     "metadata": {
      "needs_background": "light"
     },
     "output_type": "display_data"
    }
   ],
   "source": [
    "xs = np.linspace(0, 100, 1000)\n",
    "ys = cdf_urm1_d4(xs)\n",
    "plt.plot(xs, ys)"
   ]
  },
  {
   "cell_type": "markdown",
   "metadata": {},
   "source": [
    "## Quakeledger\n",
    "Now we are interested in the events in our region."
   ]
  },
  {
   "cell_type": "code",
   "execution_count": 17,
   "metadata": {},
   "outputs": [],
   "source": [
    "ID_QUAKELEDGER = 'org.n52.gfz.riesgos.algorithm.impl.QuakeledgerProcess'"
   ]
  },
  {
   "cell_type": "code",
   "execution_count": 18,
   "metadata": {},
   "outputs": [
    {
     "name": "stdout",
     "output_type": "stream",
     "text": [
      "Successful: True\n"
     ]
    }
   ],
   "source": [
    "execution_quakeledger = server.execute(\n",
    "    identifier=ID_QUAKELEDGER, \n",
    "    inputs=[\n",
    "        ('input-boundingbox', wps.BoundingBoxDataInput([-70, 288 - 360, -10, 292 - 360], 'EPSG:4326')),\n",
    "        ('mmin', '6.6'),\n",
    "        ('mmax', '9'),\n",
    "        ('zmin', '5'),\n",
    "        ('zmax', '140'),\n",
    "        ('p', '140'),\n",
    "        ('etype', 'expert'),\n",
    "        ('tlon', '-71.5730623712764'),\n",
    "        ('tlat', '-33.1299174879672'),\n",
    "    ],\n",
    "    output=[('selectedRows', True)]\n",
    ")\n",
    "\n",
    "wps.monitorExecution(execution_quakeledger)\n",
    "print('Successful: {}'.format(execution_quakeledger.isSucceded()))"
   ]
  },
  {
   "cell_type": "code",
   "execution_count": 19,
   "metadata": {},
   "outputs": [],
   "source": [
    "NaNquakeledger_output_reference = execution_quakeledger.processOutputs[0].reference\n",
    "quakeledger_output = le.fromstring(requests.get(quakeledger_output_reference).content)"
   ]
  },
  {
   "cell_type": "code",
   "execution_count": 20,
   "metadata": {},
   "outputs": [
    {
     "data": {
      "text/plain": [
       "<Element {http://quakeml.org/xmlns/bed/1.2}eventParameters at 0x7f0f17071888>"
      ]
     },
     "execution_count": 20,
     "metadata": {},
     "output_type": "execute_result"
    }
   ],
   "source": [
    "quakeledger_output"
   ]
  },
  {
   "cell_type": "code",
   "execution_count": 30,
   "metadata": {},
   "outputs": [],
   "source": [
    "import gfzwpsformatconversions"
   ]
  },
  {
   "cell_type": "code",
   "execution_count": 31,
   "metadata": {},
   "outputs": [
    {
     "data": {
      "text/plain": [
       "eventID                            quakeml:quakeledger/CHOA_122\n",
       "Agency                                                      GFZ\n",
       "Identifier                                                  NaN\n",
       "year                                                       2018\n",
       "month                                                         1\n",
       "day                                                           1\n",
       "hour                                                          0\n",
       "minute                                                        0\n",
       "second                                                        0\n",
       "timeUncertainty                                             NaN\n",
       "longitude                                              -71.2736\n",
       "longitudeUncertainty                                        NaN\n",
       "latitude                                               -28.6384\n",
       "latitudeUncertainty                                         NaN\n",
       "horizontalUncertainty                                      None\n",
       "maxHorizontalUncertainty                                   None\n",
       "minHorizontalUncertainty                                   None\n",
       "azimuthMaxHorizontalUncertainty                             NaN\n",
       "depth                                                        43\n",
       "depthUncertainty                                            NaN\n",
       "magnitude                                                     9\n",
       "magnitudeUncertainty                                        NaN\n",
       "rake                                                         90\n",
       "rakeUncertainty                                             NaN\n",
       "dip                                                          18\n",
       "dipUncertainty                                              NaN\n",
       "strike                                                        9\n",
       "strikeUncertainty                                           NaN\n",
       "type                                                     expert\n",
       "probability                                                 NaN\n",
       "Name: 0, dtype: object"
      ]
     },
     "execution_count": 31,
     "metadata": {},
     "output_type": "execute_result"
    }
   ],
   "source": [
    "gfzwpsformatconversions.quakeml2df(quakeledger_output).iloc[0]"
   ]
  }
 ],
 "metadata": {
  "kernelspec": {
   "display_name": "wps-pipeline-notebook",
   "language": "python",
   "name": "wps-pipeline-notebook"
  },
  "language_info": {
   "codemirror_mode": {
    "name": "ipython",
    "version": 3
   },
   "file_extension": ".py",
   "mimetype": "text/x-python",
   "name": "python",
   "nbconvert_exporter": "python",
   "pygments_lexer": "ipython3",
   "version": "3.6.8"
  }
 },
 "nbformat": 4,
 "nbformat_minor": 2
}
